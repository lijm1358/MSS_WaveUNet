{
 "cells": [
  {
   "cell_type": "code",
   "execution_count": 1,
   "metadata": {
    "id": "94kdUPk-LzsA"
   },
   "outputs": [
    {
     "name": "stderr",
     "output_type": "stream",
     "text": [
      "/home/lijm1358/anaconda3/envs/mlenv/lib/python3.8/site-packages/tqdm/auto.py:22: TqdmWarning: IProgress not found. Please update jupyter and ipywidgets. See https://ipywidgets.readthedocs.io/en/stable/user_install.html\n",
      "  from .autonotebook import tqdm as notebook_tqdm\n"
     ]
    }
   ],
   "source": [
    "import os\n",
    "import sys\n",
    "import warnings\n",
    "import subprocess\n",
    "from subprocess import call\n",
    "from functools import partial\n",
    "import statistics\n",
    "\n",
    "import librosa\n",
    "\n",
    "from tqdm import tqdm\n",
    "\n",
    "import numpy as np\n",
    "\n",
    "import torch\n",
    "from torch import nn, Tensor\n",
    "import torch.nn.functional as F\n",
    "from torch.nn.functional import pad\n",
    "\n",
    "from torch.utils.data import Dataset\n",
    "from torch.utils.data import DataLoader\n",
    "from torch.utils.data import random_split\n",
    "\n",
    "from torchmetrics.audio import SignalDistortionRatio\n",
    "\n",
    "import matplotlib.pyplot as plt\n",
    "\n",
    "import soundfile\n",
    "\n",
    "from typing import Tuple"
   ]
  },
  {
   "cell_type": "code",
   "execution_count": 32,
   "metadata": {
    "id": "mHRoNfiqLzsC"
   },
   "outputs": [],
   "source": [
    "# path_folder_in = '../dataset/train'\n",
    "# path_folder_out = '../dataset/createdmusdb18/train'\n",
    "\n",
    "# files = os.listdir(path_folder_in)\n",
    "# for file in tqdm(files, position=0, leave=True):\n",
    "#   # tqdm.write(f\"current song : {file}\")\n",
    "#   file_in = path_folder_in + '/' + file\n",
    "#   for i in range(5):\n",
    "#     filesp = file.split(\".\")\n",
    "#     filesp[-1] = f\"{i}.mp3\"\n",
    "#     filesp = \".\".join(filesp)\n",
    "#     file_out = f\"{path_folder_out}/{filesp}\"\n",
    "#     # tqdm.write(f\"processing {file_out}\", end='\\r')\n",
    "#     call(('ffmpeg', '-y', '-i', file_in, '-map', f'0:{i}', '-vn', file_out),\n",
    "#          stdout=subprocess.DEVNULL,\n",
    "#          stderr=subprocess.STDOUT)"
   ]
  },
  {
   "cell_type": "code",
   "execution_count": 33,
   "metadata": {},
   "outputs": [],
   "source": [
    "# base_dir = '../dataset/createdmusdb18/test'\n",
    "# target_dir = '../dataset/createdmusdb18/test/data_numpy'\n",
    "# music_list = os.listdir('../dataset/createdmusdb18/test')\n",
    "# music_list.sort()\n",
    "\n",
    "# warnings.filterwarnings('ignore')\n",
    "# for music in tqdm(music_list):\n",
    "#     if music != 'data_numpy' and music != 'data_numpy_split':\n",
    "#         music = os.path.join(base_dir, music)\n",
    "#         outfile_name = music.split(\"/\")[-1]\n",
    "#         outfile_name = os.path.join(target_dir, outfile_name)\n",
    "#         #print(outfile_name)\n",
    "#         arr, _ = librosa.load(music)\n",
    "#         np.save(outfile_name, arr)"
   ]
  },
  {
   "cell_type": "code",
   "execution_count": 2,
   "metadata": {
    "colab": {
     "base_uri": "https://localhost:8080/"
    },
    "id": "jw2g-pCOsE6R",
    "outputId": "5babe083-22f9-451c-cdb8-e1265ff18c9b"
   },
   "outputs": [
    {
     "name": "stderr",
     "output_type": "stream",
     "text": [
      "100%|██████████| 250/250 [01:16<00:00,  3.26it/s]\n"
     ]
    }
   ],
   "source": [
    "# base_dir = '../dataset/createdmusdb18/test/data_numpy'\n",
    "# target_dir = '../dataset/createdmusdb18/test/data_numpy_split'\n",
    "\n",
    "# # 16384 for training, 22050 for validation/test(1sec length)\n",
    "# sep_length = 22050\n",
    "\n",
    "# filelist = os.listdir(base_dir)\n",
    "# filelist.sort()\n",
    "# song_np_full = []\n",
    "# count = 0\n",
    "# for i, filename in enumerate(tqdm(filelist)):\n",
    "#     song_np = np.load(os.path.join(base_dir, filename))\n",
    "#     song_np_full.append(song_np)\n",
    "#     if i%5==4:\n",
    "#         song_np_full = np.stack(song_np_full)\n",
    "#         index = 0\n",
    "#         while index+sep_length <= song_np_full.shape[1]:\n",
    "#             np.save(os.path.join(target_dir, str(count)), \n",
    "#                     song_np_full[:, index:index+sep_length])\n",
    "#             index+=sep_length\n",
    "#             count+=1\n",
    "#         song_np_full = []"
   ]
  },
  {
   "cell_type": "code",
   "execution_count": 2,
   "metadata": {
    "id": "X7N0hkaCLzsD"
   },
   "outputs": [],
   "source": [
    "class MUSDBDataset(Dataset):\n",
    "    def __init__(self, data_dir: str):\n",
    "        self.music_list = []\n",
    "        self.data_dir = os.path.join(data_dir, 'data_numpy_split')\n",
    "        self.music_list = self.get_filenames(self.data_dir)\n",
    "\n",
    "    def __len__(self):\n",
    "        return len(self.music_list)\n",
    "\n",
    "    def __getitem__(self, idx):\n",
    "        music = self.music_list[idx]\n",
    "        music = np.load(music)\n",
    "        return np.expand_dims(music[0], 0), music[1:]\n",
    "\n",
    "    def get_filenames(self, path):\n",
    "        files_list = list()\n",
    "        filenames = os.listdir(path)\n",
    "        filenames.sort()\n",
    "        for filename in filenames:\n",
    "            files_list.append(os.path.join(path, filename))\n",
    "        return files_list"
   ]
  },
  {
   "cell_type": "code",
   "execution_count": 3,
   "metadata": {
    "colab": {
     "base_uri": "https://localhost:8080/"
    },
    "id": "htj5Z8MpLzsE",
    "outputId": "c9dc23ba-d3f8-4571-ccb5-4e88748d5fad"
   },
   "outputs": [],
   "source": [
    "train_ds = MUSDBDataset('../dataset/createdmusdb18/train')\n",
    "test_ds = MUSDBDataset('../dataset/createdmusdb18/test')"
   ]
  },
  {
   "cell_type": "code",
   "execution_count": 4,
   "metadata": {},
   "outputs": [],
   "source": [
    "valid_ds, test_ds = random_split(test_ds, [int(len(test_ds)*0.5), len(test_ds) - int(len(test_ds)*0.5)])"
   ]
  },
  {
   "cell_type": "code",
   "execution_count": 5,
   "metadata": {
    "id": "0XBPVV1sLzsF"
   },
   "outputs": [],
   "source": [
    "train_dataloader = DataLoader(train_ds, batch_size=16)\n",
    "valid_dataloader = DataLoader(valid_ds, batch_size=16)\n",
    "test_dataloader = DataLoader(test_ds, batch_size=16)"
   ]
  },
  {
   "cell_type": "code",
   "execution_count": 6,
   "metadata": {
    "id": "3m3_EPkjLzsF"
   },
   "outputs": [],
   "source": [
    "class DownSampling(nn.Module):\n",
    "    def __init__(self, in_ch=1, out_ch=24, kernel_size=15):\n",
    "        super().__init__()\n",
    "        self.net = nn.Sequential(\n",
    "            nn.Conv1d(in_ch, out_ch, kernel_size=kernel_size, padding=7),\n",
    "            nn.LeakyReLU(inplace=True),\n",
    "            nn.Conv1d(out_ch, out_ch, kernel_size=kernel_size, padding=7),\n",
    "            nn.LeakyReLU(inplace=True),\n",
    "        )\n",
    "        \n",
    "    def forward(self, x: Tensor):\n",
    "        x = self.net(x)\n",
    "        return x"
   ]
  },
  {
   "cell_type": "code",
   "execution_count": 7,
   "metadata": {
    "id": "khmjRe9-LzsG"
   },
   "outputs": [],
   "source": [
    "class UpSampling(nn.Module):\n",
    "    def __init__(self, in_ch, out_ch, kernel_size):\n",
    "        super().__init__()\n",
    "        self.upsample = nn.Upsample(scale_factor=2, mode=\"linear\", align_corners=True)\n",
    "        self.conv = nn.Sequential(\n",
    "            nn.Conv1d(in_ch, out_ch, kernel_size=kernel_size, padding=2),\n",
    "            nn.LeakyReLU(inplace=True),\n",
    "            nn.Conv1d(out_ch, out_ch, kernel_size=kernel_size, padding=2),\n",
    "            nn.LeakyReLU(inplace=True),\n",
    "        )\n",
    "        \n",
    "    def forward(self, x, x_back):\n",
    "        x = self.upsample(x)\n",
    "        diff = x_back.shape[-1] - x.shape[-1]\n",
    "        x = pad(x, (0, diff))\n",
    "        x = torch.cat([x, x_back], axis=1)\n",
    "        return self.conv(x)"
   ]
  },
  {
   "cell_type": "code",
   "execution_count": 8,
   "metadata": {
    "id": "LOe36a_mLzsH"
   },
   "outputs": [],
   "source": [
    "class WaveUNet(nn.Module):\n",
    "    def __init__(self, n_level=12, n_source=4):\n",
    "        super().__init__()\n",
    "        self.level = n_level\n",
    "        \n",
    "        layers=[DownSampling(in_ch=1,out_ch=24,kernel_size=15)]\n",
    "        \n",
    "        for i in range(self.level-1):\n",
    "            layers.append(DownSampling(in_ch=24*(i+1),out_ch=24*(i+2),kernel_size=15))\n",
    "            \n",
    "        # layers.append(DownSampling(in_ch=24*(self.level), out_ch=24*(self.level+1), kernel_size=15, decimate=False))\n",
    "        layers.append(DownSampling(in_ch=24*(self.level), out_ch=24*(self.level+1), kernel_size=15))\n",
    "            \n",
    "        for i in range(self.level):\n",
    "            layers.append(UpSampling(in_ch=24*(self.level+1-i) + 24*(self.level - i), out_ch=24*(self.level-i), kernel_size=5))\n",
    "            \n",
    "        self.net = nn.ModuleList(layers)\n",
    "        self.separation = nn.Sequential(\n",
    "            nn.Conv1d(25, n_source, kernel_size=1),\n",
    "            nn.LeakyReLU(inplace=True),\n",
    "            nn.Conv1d(n_source, n_source, kernel_size=1),\n",
    "            nn.LeakyReLU(inplace=True),\n",
    "        )\n",
    "    \n",
    "    def forward(self, x: Tensor):\n",
    "        layer_to_concat = []\n",
    "        # print(\"before in \", x.shape)\n",
    "        layer_to_concat.append(x)\n",
    "        for layer in self.net[0: self.level]:\n",
    "            x = layer(x)\n",
    "            # print(\"conv \", x.shape)\n",
    "            layer_to_concat.append(x)\n",
    "            x = x[:, :, 1::2]\n",
    "            # print(\"decimate \", x.shape)\n",
    "        x = self.net[self.level](x)\n",
    "        # print(\"middle out \", x.shape)\n",
    "        layer_to_concat.append(x)\n",
    "        for i, layer in enumerate(self.net[self.level+1:]):\n",
    "            # print(\"before up \", x.shape)\n",
    "            x = layer_to_concat[-1]\n",
    "            x = layer(x, layer_to_concat[-1-i-1])\n",
    "            # print(\"after up \", x.shape)\n",
    "            layer_to_concat[-1] = x\n",
    "            \n",
    "        x = torch.cat([layer_to_concat[0], x], axis=1)\n",
    "        x = self.separation(x)\n",
    "\n",
    "        return x"
   ]
  },
  {
   "cell_type": "code",
   "execution_count": 9,
   "metadata": {
    "colab": {
     "base_uri": "https://localhost:8080/"
    },
    "id": "rwTtpsAdLzsH",
    "outputId": "50dee6d2-5daf-4094-e4ca-e811f5b2fff2"
   },
   "outputs": [
    {
     "name": "stdout",
     "output_type": "stream",
     "text": [
      "Using cuda device\n"
     ]
    }
   ],
   "source": [
    "device = \"cuda\" if torch.cuda.is_available() else \"cpu\"\n",
    "print(f\"Using {device} device\")"
   ]
  },
  {
   "cell_type": "code",
   "execution_count": 10,
   "metadata": {},
   "outputs": [],
   "source": [
    "class EarlyStopping:\n",
    "    def __init__(self, patience, path='checkpoint.pt'):\n",
    "        self.patience = patience\n",
    "        self.best_loss = -np.inf\n",
    "        self.counter = 0\n",
    "        self.path = path\n",
    "        self.early_stop = False\n",
    "    \n",
    "    def __call__(self, val_loss, model):\n",
    "        if self.best_loss < val_loss:\n",
    "            print(f'Validation loss improved({self.best_loss} -> {val_loss})')\n",
    "            self.counter = 0\n",
    "            self.best_loss = val_loss\n",
    "            torch.save(model.state_dict(), self.path)\n",
    "        else:\n",
    "            self.counter += 1\n",
    "            if self.counter >= self.patience:\n",
    "                self.early_stop = True\n",
    "\n",
    "    def is_stop(self):\n",
    "        return self.early_stop"
   ]
  },
  {
   "cell_type": "code",
   "execution_count": 11,
   "metadata": {
    "id": "wJcJkej6LzsI"
   },
   "outputs": [],
   "source": [
    "model = WaveUNet(n_level=12).to(device)\n",
    "# print(model)"
   ]
  },
  {
   "cell_type": "code",
   "execution_count": 12,
   "metadata": {},
   "outputs": [],
   "source": [
    "from torchmetrics.functional.audio.sdr import signal_distortion_ratio\n",
    "\n",
    "class ModifiedSDR(SignalDistortionRatio):\n",
    "    def update(self, preds: Tensor, target: Tensor) -> None:\n",
    "        sdr_batch = signal_distortion_ratio(\n",
    "            preds, target, self.use_cg_iter, self.filter_length, self.zero_mean, self.load_diag\n",
    "        )\n",
    "\n",
    "        self.sdr_batch = sdr_batch\n",
    "        self.sum_sdr += sdr_batch.sum()\n",
    "\n",
    "    def compute(self) -> Tuple[Tensor, Tensor]:\n",
    "        return self.sum_sdr, self.sdr_batch"
   ]
  },
  {
   "cell_type": "code",
   "execution_count": 13,
   "metadata": {
    "id": "L0646__YLzsI"
   },
   "outputs": [],
   "source": [
    "loss_fn = nn.MSELoss()\n",
    "test_loss_fn = ModifiedSDR().to(device)\n",
    "\n",
    "optimizer = torch.optim.Adam(model.parameters(), lr=0.0001, betas=[0.9, 0.999])\n",
    "\n",
    "early_stop = EarlyStopping(patience=20, path='checkpoint/best.pt')"
   ]
  },
  {
   "cell_type": "code",
   "execution_count": 14,
   "metadata": {},
   "outputs": [],
   "source": [
    "def sdr_loss_mean(y_target, y_pred, loss_fn) -> Tuple[float, list, int]:\n",
    "    y_target_acc = y_target[:, 0:3]\n",
    "    y_target_acc = torch.flatten(y_target_acc, end_dim=1)\n",
    "    y_pred_acc = y_pred[:, 0:3]\n",
    "    y_pred_acc = torch.flatten(y_pred_acc, end_dim=1)\n",
    "\n",
    "    y_target_voc = y_target[:, 3]\n",
    "    y_pred_voc = y_pred[:, 3]\n",
    "\n",
    "    # remove tensor element only consists of zero.\n",
    "    mask = (y_target_acc != 0).any(dim=1)   \n",
    "    y_target_acc = y_target_acc[mask]\n",
    "    y_pred_acc = y_pred_acc[mask]\n",
    "\n",
    "    mask = (y_target_voc != 0).any(dim=1)\n",
    "    y_target_voc = y_target_voc[mask]\n",
    "    y_pred_voc = y_pred_voc[mask]\n",
    "\n",
    "    loss_acc = loss_fn(y_pred_acc, y_target_acc)[0].item()\n",
    "    loss_voc = loss_fn(y_pred_voc, y_target_voc)[1]\n",
    "\n",
    "    return loss_acc, loss_voc, y_target_acc.shape[0]\n"
   ]
  },
  {
   "cell_type": "code",
   "execution_count": 15,
   "metadata": {
    "id": "p9ikop1ULzsJ"
   },
   "outputs": [],
   "source": [
    "train_loss_list = []\n",
    "def train(dataloader, model, loss_fn, optimizer):\n",
    "    size = len(dataloader.dataset)\n",
    "    loss_avg = 0\n",
    "    for batch, (X, y) in enumerate(tqdm(dataloader)):\n",
    "        X, y = X.to(device), y.to(device)\n",
    "        pred = model(X)\n",
    "        loss = loss_fn(pred, y)\n",
    "        \n",
    "        optimizer.zero_grad()\n",
    "        loss.backward()\n",
    "        optimizer.step()\n",
    "\n",
    "        loss_avg += loss.item()\n",
    "        \n",
    "        # if batch*len(X) % 800 == 0:\n",
    "        #    print(f\"loss : {loss.item()} ({batch*len(X)}/{size})\")\n",
    "    loss_avg = loss_avg / len(dataloader)\n",
    "    train_loss_list.append(loss_avg)\n",
    "    print(f\"train loss : {loss_avg}\")"
   ]
  },
  {
   "cell_type": "code",
   "execution_count": 16,
   "metadata": {},
   "outputs": [],
   "source": [
    "val_loss_list = []\n",
    "def val(dataloader, model, loss_fn):\n",
    "    model.eval()\n",
    "    val_loss_acc = 0\n",
    "    val_loss_voc = []\n",
    "    data_count = 0\n",
    "    with torch.no_grad():\n",
    "        for X, y in tqdm(dataloader):\n",
    "            X, y = X.to(device), y.to(device)\n",
    "            pred = model(X)\n",
    "            acc_loss, voc_loss, count = sdr_loss_mean(y, pred, loss_fn)\n",
    "            val_loss_acc += acc_loss\n",
    "            val_loss_voc += voc_loss\n",
    "            data_count += count\n",
    "    val_loss_acc /= data_count\n",
    "    val_loss_voc = statistics.median(val_loss_voc)\n",
    "    early_stop(val_loss_acc, model) # only accompanies' sdr will be used for early stopping.\n",
    "    val_loss_list.append(val_loss_acc)\n",
    "    print(f\"validation loss : {val_loss_acc} (accompanies loss, mean), {val_loss_voc} (vocal loss, median)\\n\")\n"
   ]
  },
  {
   "cell_type": "code",
   "execution_count": 17,
   "metadata": {
    "id": "zwZK5M1c18F4"
   },
   "outputs": [],
   "source": [
    "def test(dataloader, model, loss_fn):\n",
    "    model.eval()\n",
    "    test_loss_acc = 0\n",
    "    test_loss_voc = []\n",
    "    data_count = 0\n",
    "    with torch.no_grad():\n",
    "        for X, y in tqdm(dataloader):\n",
    "            X, y = X.to(device), y.to(device)\n",
    "            pred = model(X)\n",
    "            acc_loss, voc_loss, count = sdr_loss_mean(y, pred, loss_fn)\n",
    "            test_loss_acc += acc_loss\n",
    "            test_loss_voc += voc_loss\n",
    "            data_count += count\n",
    "    test_loss_acc /= data_count\n",
    "    test_loss_voc = statistics.median(test_loss_voc)\n",
    "    print(f\"test loss : {test_loss_acc} (accompanies loss, mean), {test_loss_voc} (vocal loss, median)\\n\")"
   ]
  },
  {
   "cell_type": "code",
   "execution_count": 24,
   "metadata": {},
   "outputs": [],
   "source": [
    "checkpoint = torch.load('checkpoint/checkpoint_epoch23')\n",
    "\n",
    "model.load_state_dict(checkpoint['model_state_dict'])\n",
    "optimizer.load_state_dict(checkpoint['optimizer_state_dict'])\n",
    "early_stop.best_loss = checkpoint['earlystop_bestloss']\n",
    "early_stop.counter = checkpoint['earlystop_counter']\n",
    "\n",
    "train_loss_list = checkpoint['train_losslist']\n",
    "val_loss_list = checkpoint['val_losslist']\n",
    "\n",
    "start_epoch = checkpoint['epoch']"
   ]
  },
  {
   "cell_type": "code",
   "execution_count": 25,
   "metadata": {},
   "outputs": [
    {
     "name": "stderr",
     "output_type": "stream",
     "text": [
      "100%|██████████| 389/389 [00:58<00:00,  6.63it/s]\n"
     ]
    },
    {
     "name": "stdout",
     "output_type": "stream",
     "text": [
      "Validation loss improved(-1.4704411668406976 -> -1.4518170610262389)\n",
      "validation loss : -1.4518170610262389 (accompanies loss, mean), -0.827527642250061 (vocal loss, median)\n",
      "\n"
     ]
    }
   ],
   "source": [
    "val(valid_dataloader, model, test_loss_fn)"
   ]
  },
  {
   "cell_type": "code",
   "execution_count": 28,
   "metadata": {
    "colab": {
     "base_uri": "https://localhost:8080/",
     "height": 1000
    },
    "id": "3MhFHqZwLzsJ",
    "outputId": "ceb53c04-eb88-447a-f8b4-7b569879b7fa"
   },
   "outputs": [
    {
     "name": "stdout",
     "output_type": "stream",
     "text": [
      "epoch : 25\n",
      "---------------------------\n"
     ]
    },
    {
     "name": "stderr",
     "output_type": "stream",
     "text": [
      "100%|██████████| 1921/1921 [09:13<00:00,  3.47it/s]\n"
     ]
    },
    {
     "name": "stdout",
     "output_type": "stream",
     "text": [
      "train loss : 0.001564995738756076\n"
     ]
    },
    {
     "name": "stderr",
     "output_type": "stream",
     "text": [
      "100%|██████████| 389/389 [00:58<00:00,  6.69it/s]\n"
     ]
    },
    {
     "name": "stdout",
     "output_type": "stream",
     "text": [
      "Validation loss improved(-1.4518170610262389 -> -1.380292035323095)\n",
      "validation loss : -1.380292035323095 (accompanies loss, mean), -0.7667863965034485 (vocal loss, median)\n",
      "\n",
      "epoch : 26\n",
      "---------------------------\n"
     ]
    },
    {
     "name": "stderr",
     "output_type": "stream",
     "text": [
      "100%|██████████| 1921/1921 [09:10<00:00,  3.49it/s]\n"
     ]
    },
    {
     "name": "stdout",
     "output_type": "stream",
     "text": [
      "train loss : 0.0015487116417829288\n"
     ]
    },
    {
     "name": "stderr",
     "output_type": "stream",
     "text": [
      "100%|██████████| 389/389 [01:03<00:00,  6.13it/s]\n"
     ]
    },
    {
     "name": "stdout",
     "output_type": "stream",
     "text": [
      "Validation loss improved(-1.380292035323095 -> -1.3204353722709843)\n",
      "validation loss : -1.3204353722709843 (accompanies loss, mean), -0.9163544774055481 (vocal loss, median)\n",
      "\n",
      "epoch : 27\n",
      "---------------------------\n"
     ]
    },
    {
     "name": "stderr",
     "output_type": "stream",
     "text": [
      "100%|██████████| 1921/1921 [09:07<00:00,  3.51it/s]\n"
     ]
    },
    {
     "name": "stdout",
     "output_type": "stream",
     "text": [
      "train loss : 0.0015368117260175\n"
     ]
    },
    {
     "name": "stderr",
     "output_type": "stream",
     "text": [
      "100%|██████████| 389/389 [01:15<00:00,  5.13it/s]\n"
     ]
    },
    {
     "name": "stdout",
     "output_type": "stream",
     "text": [
      "validation loss : -1.3567086781734319 (accompanies loss, mean), -1.214671015739441 (vocal loss, median)\n",
      "\n",
      "epoch : 28\n",
      "---------------------------\n"
     ]
    },
    {
     "name": "stderr",
     "output_type": "stream",
     "text": [
      "100%|██████████| 1921/1921 [08:59<00:00,  3.56it/s]\n"
     ]
    },
    {
     "name": "stdout",
     "output_type": "stream",
     "text": [
      "train loss : 0.0015220990394671594\n"
     ]
    },
    {
     "name": "stderr",
     "output_type": "stream",
     "text": [
      "100%|██████████| 389/389 [01:16<00:00,  5.11it/s]\n"
     ]
    },
    {
     "name": "stdout",
     "output_type": "stream",
     "text": [
      "Validation loss improved(-1.3204353722709843 -> -1.282679025676857)\n",
      "validation loss : -1.282679025676857 (accompanies loss, mean), -1.06052565574646 (vocal loss, median)\n",
      "\n",
      "epoch : 29\n",
      "---------------------------\n"
     ]
    },
    {
     "name": "stderr",
     "output_type": "stream",
     "text": [
      "100%|██████████| 1921/1921 [08:56<00:00,  3.58it/s]\n"
     ]
    },
    {
     "name": "stdout",
     "output_type": "stream",
     "text": [
      "train loss : 0.001509402202585035\n"
     ]
    },
    {
     "name": "stderr",
     "output_type": "stream",
     "text": [
      "100%|██████████| 389/389 [01:11<00:00,  5.48it/s]\n"
     ]
    },
    {
     "name": "stdout",
     "output_type": "stream",
     "text": [
      "Validation loss improved(-1.282679025676857 -> -1.2068704579387992)\n",
      "validation loss : -1.2068704579387992 (accompanies loss, mean), -1.2193220853805542 (vocal loss, median)\n",
      "\n",
      "epoch : 30\n",
      "---------------------------\n"
     ]
    },
    {
     "name": "stderr",
     "output_type": "stream",
     "text": [
      "100%|██████████| 1921/1921 [09:09<00:00,  3.50it/s]\n"
     ]
    },
    {
     "name": "stdout",
     "output_type": "stream",
     "text": [
      "train loss : 0.0014925937767946674\n"
     ]
    },
    {
     "name": "stderr",
     "output_type": "stream",
     "text": [
      "100%|██████████| 389/389 [01:08<00:00,  5.69it/s]\n"
     ]
    },
    {
     "name": "stdout",
     "output_type": "stream",
     "text": [
      "Validation loss improved(-1.2068704579387992 -> -1.0495144482514225)\n",
      "validation loss : -1.0495144482514225 (accompanies loss, mean), -1.2437537908554077 (vocal loss, median)\n",
      "\n",
      "epoch : 31\n",
      "---------------------------\n"
     ]
    },
    {
     "name": "stderr",
     "output_type": "stream",
     "text": [
      "100%|██████████| 1921/1921 [08:47<00:00,  3.64it/s]\n"
     ]
    },
    {
     "name": "stdout",
     "output_type": "stream",
     "text": [
      "train loss : 0.0014727052823610416\n"
     ]
    },
    {
     "name": "stderr",
     "output_type": "stream",
     "text": [
      "100%|██████████| 389/389 [01:15<00:00,  5.18it/s]\n"
     ]
    },
    {
     "name": "stdout",
     "output_type": "stream",
     "text": [
      "Validation loss improved(-1.0495144482514225 -> -1.0421157694505778)\n",
      "validation loss : -1.0421157694505778 (accompanies loss, mean), -1.1660497188568115 (vocal loss, median)\n",
      "\n",
      "epoch : 32\n",
      "---------------------------\n"
     ]
    },
    {
     "name": "stderr",
     "output_type": "stream",
     "text": [
      "100%|██████████| 1921/1921 [08:55<00:00,  3.59it/s]\n"
     ]
    },
    {
     "name": "stdout",
     "output_type": "stream",
     "text": [
      "train loss : 0.001454049202486259\n"
     ]
    },
    {
     "name": "stderr",
     "output_type": "stream",
     "text": [
      "100%|██████████| 389/389 [01:07<00:00,  5.76it/s]\n"
     ]
    },
    {
     "name": "stdout",
     "output_type": "stream",
     "text": [
      "Validation loss improved(-1.0421157694505778 -> -0.8925157434915183)\n",
      "validation loss : -0.8925157434915183 (accompanies loss, mean), -1.1602317094802856 (vocal loss, median)\n",
      "\n",
      "epoch : 33\n",
      "---------------------------\n"
     ]
    },
    {
     "name": "stderr",
     "output_type": "stream",
     "text": [
      "100%|██████████| 1921/1921 [09:11<00:00,  3.48it/s]\n"
     ]
    },
    {
     "name": "stdout",
     "output_type": "stream",
     "text": [
      "train loss : 0.001432320923312773\n"
     ]
    },
    {
     "name": "stderr",
     "output_type": "stream",
     "text": [
      "100%|██████████| 389/389 [01:11<00:00,  5.44it/s]\n"
     ]
    },
    {
     "name": "stdout",
     "output_type": "stream",
     "text": [
      "Validation loss improved(-0.8925157434915183 -> -0.7980909912136207)\n",
      "validation loss : -0.7980909912136207 (accompanies loss, mean), -1.0651788711547852 (vocal loss, median)\n",
      "\n",
      "epoch : 34\n",
      "---------------------------\n"
     ]
    },
    {
     "name": "stderr",
     "output_type": "stream",
     "text": [
      "100%|██████████| 1921/1921 [08:53<00:00,  3.60it/s]\n"
     ]
    },
    {
     "name": "stdout",
     "output_type": "stream",
     "text": [
      "train loss : 0.0014184323541547022\n"
     ]
    },
    {
     "name": "stderr",
     "output_type": "stream",
     "text": [
      "100%|██████████| 389/389 [01:16<00:00,  5.11it/s]\n"
     ]
    },
    {
     "name": "stdout",
     "output_type": "stream",
     "text": [
      "validation loss : -0.9986630979344546 (accompanies loss, mean), -1.0217247009277344 (vocal loss, median)\n",
      "\n",
      "epoch : 35\n",
      "---------------------------\n"
     ]
    },
    {
     "name": "stderr",
     "output_type": "stream",
     "text": [
      "100%|██████████| 1921/1921 [08:52<00:00,  3.61it/s]\n"
     ]
    },
    {
     "name": "stdout",
     "output_type": "stream",
     "text": [
      "train loss : 0.0014003114339766565\n"
     ]
    },
    {
     "name": "stderr",
     "output_type": "stream",
     "text": [
      "100%|██████████| 389/389 [01:09<00:00,  5.60it/s]\n"
     ]
    },
    {
     "name": "stdout",
     "output_type": "stream",
     "text": [
      "validation loss : -0.8871145981487328 (accompanies loss, mean), -0.8552269339561462 (vocal loss, median)\n",
      "\n",
      "epoch : 36\n",
      "---------------------------\n"
     ]
    },
    {
     "name": "stderr",
     "output_type": "stream",
     "text": [
      "100%|██████████| 1921/1921 [09:08<00:00,  3.50it/s]\n"
     ]
    },
    {
     "name": "stdout",
     "output_type": "stream",
     "text": [
      "train loss : 0.0013884397580537938\n"
     ]
    },
    {
     "name": "stderr",
     "output_type": "stream",
     "text": [
      "100%|██████████| 389/389 [01:05<00:00,  5.91it/s]\n"
     ]
    },
    {
     "name": "stdout",
     "output_type": "stream",
     "text": [
      "Validation loss improved(-0.7980909912136207 -> -0.6390449578010183)\n",
      "validation loss : -0.6390449578010183 (accompanies loss, mean), -0.8925269842147827 (vocal loss, median)\n",
      "\n",
      "epoch : 37\n",
      "---------------------------\n"
     ]
    },
    {
     "name": "stderr",
     "output_type": "stream",
     "text": [
      "100%|██████████| 1921/1921 [09:04<00:00,  3.53it/s]\n"
     ]
    },
    {
     "name": "stdout",
     "output_type": "stream",
     "text": [
      "train loss : 0.0013683473587562205\n"
     ]
    },
    {
     "name": "stderr",
     "output_type": "stream",
     "text": [
      "100%|██████████| 389/389 [01:16<00:00,  5.07it/s]\n"
     ]
    },
    {
     "name": "stdout",
     "output_type": "stream",
     "text": [
      "validation loss : -0.7071262525086666 (accompanies loss, mean), -0.6717513203620911 (vocal loss, median)\n",
      "\n",
      "epoch : 38\n",
      "---------------------------\n"
     ]
    },
    {
     "name": "stderr",
     "output_type": "stream",
     "text": [
      "100%|██████████| 1921/1921 [08:48<00:00,  3.64it/s]\n"
     ]
    },
    {
     "name": "stdout",
     "output_type": "stream",
     "text": [
      "train loss : 0.0013523277705673785\n"
     ]
    },
    {
     "name": "stderr",
     "output_type": "stream",
     "text": [
      "100%|██████████| 389/389 [01:17<00:00,  5.05it/s]\n"
     ]
    },
    {
     "name": "stdout",
     "output_type": "stream",
     "text": [
      "Validation loss improved(-0.6390449578010183 -> -0.6064823700842237)\n",
      "validation loss : -0.6064823700842237 (accompanies loss, mean), -0.6855601668357849 (vocal loss, median)\n",
      "\n",
      "epoch : 39\n",
      "---------------------------\n"
     ]
    },
    {
     "name": "stderr",
     "output_type": "stream",
     "text": [
      "100%|██████████| 1921/1921 [08:57<00:00,  3.57it/s]\n"
     ]
    },
    {
     "name": "stdout",
     "output_type": "stream",
     "text": [
      "train loss : 0.0013327979443721399\n"
     ]
    },
    {
     "name": "stderr",
     "output_type": "stream",
     "text": [
      "100%|██████████| 389/389 [01:11<00:00,  5.43it/s]\n"
     ]
    },
    {
     "name": "stdout",
     "output_type": "stream",
     "text": [
      "validation loss : -0.6729804854739593 (accompanies loss, mean), -0.6533651351928711 (vocal loss, median)\n",
      "\n",
      "epoch : 40\n",
      "---------------------------\n"
     ]
    },
    {
     "name": "stderr",
     "output_type": "stream",
     "text": [
      "100%|██████████| 1921/1921 [09:04<00:00,  3.53it/s]\n"
     ]
    },
    {
     "name": "stdout",
     "output_type": "stream",
     "text": [
      "train loss : 0.0013213478977183004\n"
     ]
    },
    {
     "name": "stderr",
     "output_type": "stream",
     "text": [
      "100%|██████████| 389/389 [01:15<00:00,  5.17it/s]\n"
     ]
    },
    {
     "name": "stdout",
     "output_type": "stream",
     "text": [
      "Validation loss improved(-0.6064823700842237 -> -0.5390106010688567)\n",
      "validation loss : -0.5390106010688567 (accompanies loss, mean), -0.7004085779190063 (vocal loss, median)\n",
      "\n",
      "epoch : 41\n",
      "---------------------------\n"
     ]
    },
    {
     "name": "stderr",
     "output_type": "stream",
     "text": [
      "100%|██████████| 1921/1921 [08:46<00:00,  3.65it/s]\n"
     ]
    },
    {
     "name": "stdout",
     "output_type": "stream",
     "text": [
      "train loss : 0.0013045892091636936\n"
     ]
    },
    {
     "name": "stderr",
     "output_type": "stream",
     "text": [
      "100%|██████████| 389/389 [01:13<00:00,  5.26it/s]\n"
     ]
    },
    {
     "name": "stdout",
     "output_type": "stream",
     "text": [
      "Validation loss improved(-0.5390106010688567 -> -0.46850216425038166)\n",
      "validation loss : -0.46850216425038166 (accompanies loss, mean), -0.6131467819213867 (vocal loss, median)\n",
      "\n",
      "epoch : 42\n",
      "---------------------------\n"
     ]
    },
    {
     "name": "stderr",
     "output_type": "stream",
     "text": [
      "100%|██████████| 1921/1921 [09:00<00:00,  3.55it/s]\n"
     ]
    },
    {
     "name": "stdout",
     "output_type": "stream",
     "text": [
      "train loss : 0.0012842901765426275\n"
     ]
    },
    {
     "name": "stderr",
     "output_type": "stream",
     "text": [
      "100%|██████████| 389/389 [01:01<00:00,  6.30it/s]\n"
     ]
    },
    {
     "name": "stdout",
     "output_type": "stream",
     "text": [
      "validation loss : -0.47189926588241826 (accompanies loss, mean), -0.5524277091026306 (vocal loss, median)\n",
      "\n",
      "epoch : 43\n",
      "---------------------------\n"
     ]
    },
    {
     "name": "stderr",
     "output_type": "stream",
     "text": [
      "100%|██████████| 1921/1921 [09:06<00:00,  3.52it/s]\n"
     ]
    },
    {
     "name": "stdout",
     "output_type": "stream",
     "text": [
      "train loss : 0.0012697820688363129\n"
     ]
    },
    {
     "name": "stderr",
     "output_type": "stream",
     "text": [
      "100%|██████████| 389/389 [01:17<00:00,  5.00it/s]\n"
     ]
    },
    {
     "name": "stdout",
     "output_type": "stream",
     "text": [
      "Validation loss improved(-0.46850216425038166 -> -0.4066763843908679)\n",
      "validation loss : -0.4066763843908679 (accompanies loss, mean), -0.6458346247673035 (vocal loss, median)\n",
      "\n",
      "epoch : 44\n",
      "---------------------------\n"
     ]
    },
    {
     "name": "stderr",
     "output_type": "stream",
     "text": [
      "100%|██████████| 1921/1921 [08:43<00:00,  3.67it/s]\n"
     ]
    },
    {
     "name": "stdout",
     "output_type": "stream",
     "text": [
      "train loss : 0.0012708345824963584\n"
     ]
    },
    {
     "name": "stderr",
     "output_type": "stream",
     "text": [
      "100%|██████████| 389/389 [01:15<00:00,  5.14it/s]\n"
     ]
    },
    {
     "name": "stdout",
     "output_type": "stream",
     "text": [
      "Validation loss improved(-0.4066763843908679 -> -0.3229318436676285)\n",
      "validation loss : -0.3229318436676285 (accompanies loss, mean), -0.6814343929290771 (vocal loss, median)\n",
      "\n",
      "epoch : 45\n",
      "---------------------------\n"
     ]
    },
    {
     "name": "stderr",
     "output_type": "stream",
     "text": [
      "100%|██████████| 1921/1921 [08:55<00:00,  3.59it/s]\n"
     ]
    },
    {
     "name": "stdout",
     "output_type": "stream",
     "text": [
      "train loss : 0.0012516560645360127\n"
     ]
    },
    {
     "name": "stderr",
     "output_type": "stream",
     "text": [
      "100%|██████████| 389/389 [01:09<00:00,  5.57it/s]\n"
     ]
    },
    {
     "name": "stdout",
     "output_type": "stream",
     "text": [
      "Validation loss improved(-0.3229318436676285 -> -0.2903461952841156)\n",
      "validation loss : -0.2903461952841156 (accompanies loss, mean), -0.5283935070037842 (vocal loss, median)\n",
      "\n",
      "epoch : 46\n",
      "---------------------------\n"
     ]
    },
    {
     "name": "stderr",
     "output_type": "stream",
     "text": [
      "100%|██████████| 1921/1921 [09:02<00:00,  3.54it/s]\n"
     ]
    },
    {
     "name": "stdout",
     "output_type": "stream",
     "text": [
      "train loss : 0.0012373094092928368\n"
     ]
    },
    {
     "name": "stderr",
     "output_type": "stream",
     "text": [
      "100%|██████████| 389/389 [01:16<00:00,  5.09it/s]\n"
     ]
    },
    {
     "name": "stdout",
     "output_type": "stream",
     "text": [
      "validation loss : -0.38970782176830565 (accompanies loss, mean), -0.43264713883399963 (vocal loss, median)\n",
      "\n",
      "epoch : 47\n",
      "---------------------------\n"
     ]
    },
    {
     "name": "stderr",
     "output_type": "stream",
     "text": [
      "100%|██████████| 1921/1921 [08:40<00:00,  3.69it/s]\n"
     ]
    },
    {
     "name": "stdout",
     "output_type": "stream",
     "text": [
      "train loss : 0.0012203566501162127\n"
     ]
    },
    {
     "name": "stderr",
     "output_type": "stream",
     "text": [
      "100%|██████████| 389/389 [01:16<00:00,  5.06it/s]\n"
     ]
    },
    {
     "name": "stdout",
     "output_type": "stream",
     "text": [
      "validation loss : -0.3205210106733396 (accompanies loss, mean), -0.384259432554245 (vocal loss, median)\n",
      "\n",
      "epoch : 48\n",
      "---------------------------\n"
     ]
    },
    {
     "name": "stderr",
     "output_type": "stream",
     "text": [
      "100%|██████████| 1921/1921 [08:56<00:00,  3.58it/s]\n"
     ]
    },
    {
     "name": "stdout",
     "output_type": "stream",
     "text": [
      "train loss : 0.001207880263951383\n"
     ]
    },
    {
     "name": "stderr",
     "output_type": "stream",
     "text": [
      "100%|██████████| 389/389 [01:11<00:00,  5.41it/s]\n"
     ]
    },
    {
     "name": "stdout",
     "output_type": "stream",
     "text": [
      "validation loss : -0.4669784240118923 (accompanies loss, mean), -0.3402026295661926 (vocal loss, median)\n",
      "\n",
      "epoch : 49\n",
      "---------------------------\n"
     ]
    },
    {
     "name": "stderr",
     "output_type": "stream",
     "text": [
      "100%|██████████| 1921/1921 [09:02<00:00,  3.54it/s]\n"
     ]
    },
    {
     "name": "stdout",
     "output_type": "stream",
     "text": [
      "train loss : 0.0011975974004606604\n"
     ]
    },
    {
     "name": "stderr",
     "output_type": "stream",
     "text": [
      "100%|██████████| 389/389 [01:14<00:00,  5.20it/s]\n"
     ]
    },
    {
     "name": "stdout",
     "output_type": "stream",
     "text": [
      "validation loss : -0.4561036537149168 (accompanies loss, mean), -0.4432608485221863 (vocal loss, median)\n",
      "\n",
      "epoch : 50\n",
      "---------------------------\n"
     ]
    },
    {
     "name": "stderr",
     "output_type": "stream",
     "text": [
      "100%|██████████| 1921/1921 [08:43<00:00,  3.67it/s]\n"
     ]
    },
    {
     "name": "stdout",
     "output_type": "stream",
     "text": [
      "train loss : 0.0011831343560197805\n"
     ]
    },
    {
     "name": "stderr",
     "output_type": "stream",
     "text": [
      "100%|██████████| 389/389 [01:15<00:00,  5.19it/s]\n"
     ]
    },
    {
     "name": "stdout",
     "output_type": "stream",
     "text": [
      "validation loss : -0.508805311019647 (accompanies loss, mean), -0.2933991551399231 (vocal loss, median)\n",
      "\n",
      "epoch : 51\n",
      "---------------------------\n"
     ]
    },
    {
     "name": "stderr",
     "output_type": "stream",
     "text": [
      "100%|██████████| 1921/1921 [09:03<00:00,  3.53it/s]\n"
     ]
    },
    {
     "name": "stdout",
     "output_type": "stream",
     "text": [
      "train loss : 0.001168214790212851\n"
     ]
    },
    {
     "name": "stderr",
     "output_type": "stream",
     "text": [
      "100%|██████████| 389/389 [01:03<00:00,  6.14it/s]\n"
     ]
    },
    {
     "name": "stdout",
     "output_type": "stream",
     "text": [
      "validation loss : -0.36407105017099683 (accompanies loss, mean), -0.2939088046550751 (vocal loss, median)\n",
      "\n",
      "epoch : 52\n",
      "---------------------------\n"
     ]
    },
    {
     "name": "stderr",
     "output_type": "stream",
     "text": [
      "100%|██████████| 1921/1921 [09:01<00:00,  3.55it/s]\n"
     ]
    },
    {
     "name": "stdout",
     "output_type": "stream",
     "text": [
      "train loss : 0.0011572824098343855\n"
     ]
    },
    {
     "name": "stderr",
     "output_type": "stream",
     "text": [
      "100%|██████████| 389/389 [01:18<00:00,  4.97it/s]\n"
     ]
    },
    {
     "name": "stdout",
     "output_type": "stream",
     "text": [
      "validation loss : -0.41089587017352247 (accompanies loss, mean), -0.17414997518062592 (vocal loss, median)\n",
      "\n",
      "epoch : 53\n",
      "---------------------------\n"
     ]
    },
    {
     "name": "stderr",
     "output_type": "stream",
     "text": [
      "100%|██████████| 1921/1921 [08:43<00:00,  3.67it/s]\n"
     ]
    },
    {
     "name": "stdout",
     "output_type": "stream",
     "text": [
      "train loss : 0.0011505436586740454\n"
     ]
    },
    {
     "name": "stderr",
     "output_type": "stream",
     "text": [
      "100%|██████████| 389/389 [01:14<00:00,  5.25it/s]\n"
     ]
    },
    {
     "name": "stdout",
     "output_type": "stream",
     "text": [
      "validation loss : -0.4226057034164912 (accompanies loss, mean), -0.26651591062545776 (vocal loss, median)\n",
      "\n",
      "epoch : 54\n",
      "---------------------------\n"
     ]
    },
    {
     "name": "stderr",
     "output_type": "stream",
     "text": [
      "100%|██████████| 1921/1921 [09:06<00:00,  3.51it/s]\n"
     ]
    },
    {
     "name": "stdout",
     "output_type": "stream",
     "text": [
      "train loss : 0.001140691973886436\n"
     ]
    },
    {
     "name": "stderr",
     "output_type": "stream",
     "text": [
      "100%|██████████| 389/389 [01:03<00:00,  6.10it/s]\n"
     ]
    },
    {
     "name": "stdout",
     "output_type": "stream",
     "text": [
      "validation loss : -0.4967290407887377 (accompanies loss, mean), -0.21527624130249023 (vocal loss, median)\n",
      "\n",
      "epoch : 55\n",
      "---------------------------\n"
     ]
    },
    {
     "name": "stderr",
     "output_type": "stream",
     "text": [
      "100%|██████████| 1921/1921 [08:51<00:00,  3.61it/s]\n"
     ]
    },
    {
     "name": "stdout",
     "output_type": "stream",
     "text": [
      "train loss : 0.0011352456574322033\n"
     ]
    },
    {
     "name": "stderr",
     "output_type": "stream",
     "text": [
      "100%|██████████| 389/389 [01:17<00:00,  5.05it/s]\n"
     ]
    },
    {
     "name": "stdout",
     "output_type": "stream",
     "text": [
      "validation loss : -0.4471427231153598 (accompanies loss, mean), -0.07446020841598511 (vocal loss, median)\n",
      "\n",
      "epoch : 56\n",
      "---------------------------\n"
     ]
    },
    {
     "name": "stderr",
     "output_type": "stream",
     "text": [
      "100%|██████████| 1921/1921 [08:44<00:00,  3.66it/s]\n"
     ]
    },
    {
     "name": "stdout",
     "output_type": "stream",
     "text": [
      "train loss : 0.0011286075808201645\n"
     ]
    },
    {
     "name": "stderr",
     "output_type": "stream",
     "text": [
      "100%|██████████| 389/389 [01:13<00:00,  5.29it/s]\n"
     ]
    },
    {
     "name": "stdout",
     "output_type": "stream",
     "text": [
      "validation loss : -0.347207726962681 (accompanies loss, mean), -0.08895508944988251 (vocal loss, median)\n",
      "\n",
      "epoch : 57\n",
      "---------------------------\n"
     ]
    },
    {
     "name": "stderr",
     "output_type": "stream",
     "text": [
      "100%|██████████| 1921/1921 [09:10<00:00,  3.49it/s]\n"
     ]
    },
    {
     "name": "stdout",
     "output_type": "stream",
     "text": [
      "train loss : 0.0011139849853092133\n"
     ]
    },
    {
     "name": "stderr",
     "output_type": "stream",
     "text": [
      "100%|██████████| 389/389 [01:00<00:00,  6.45it/s]\n"
     ]
    },
    {
     "name": "stdout",
     "output_type": "stream",
     "text": [
      "validation loss : -0.38328568885083214 (accompanies loss, mean), -0.09046626091003418 (vocal loss, median)\n",
      "\n",
      "epoch : 58\n",
      "---------------------------\n"
     ]
    },
    {
     "name": "stderr",
     "output_type": "stream",
     "text": [
      "100%|██████████| 1921/1921 [08:53<00:00,  3.60it/s]\n"
     ]
    },
    {
     "name": "stdout",
     "output_type": "stream",
     "text": [
      "train loss : 0.0011017371454273572\n"
     ]
    },
    {
     "name": "stderr",
     "output_type": "stream",
     "text": [
      "100%|██████████| 389/389 [01:16<00:00,  5.07it/s]\n"
     ]
    },
    {
     "name": "stdout",
     "output_type": "stream",
     "text": [
      "Validation loss improved(-0.2903461952841156 -> -0.2778525656021494)\n",
      "validation loss : -0.2778525656021494 (accompanies loss, mean), -0.18240126967430115 (vocal loss, median)\n",
      "\n",
      "epoch : 59\n",
      "---------------------------\n"
     ]
    },
    {
     "name": "stderr",
     "output_type": "stream",
     "text": [
      "100%|██████████| 1921/1921 [08:43<00:00,  3.67it/s]\n"
     ]
    },
    {
     "name": "stdout",
     "output_type": "stream",
     "text": [
      "train loss : 0.0010847943679038934\n"
     ]
    },
    {
     "name": "stderr",
     "output_type": "stream",
     "text": [
      "100%|██████████| 389/389 [01:12<00:00,  5.40it/s]\n"
     ]
    },
    {
     "name": "stdout",
     "output_type": "stream",
     "text": [
      "validation loss : -0.48996544447481843 (accompanies loss, mean), -0.04330801963806152 (vocal loss, median)\n",
      "\n",
      "epoch : 60\n",
      "---------------------------\n"
     ]
    },
    {
     "name": "stderr",
     "output_type": "stream",
     "text": [
      "100%|██████████| 1921/1921 [09:06<00:00,  3.52it/s]\n"
     ]
    },
    {
     "name": "stdout",
     "output_type": "stream",
     "text": [
      "train loss : 0.001077112037896929\n"
     ]
    },
    {
     "name": "stderr",
     "output_type": "stream",
     "text": [
      "100%|██████████| 389/389 [00:58<00:00,  6.68it/s]\n"
     ]
    },
    {
     "name": "stdout",
     "output_type": "stream",
     "text": [
      "validation loss : -0.2786672040977344 (accompanies loss, mean), -0.037723176181316376 (vocal loss, median)\n",
      "\n",
      "epoch : 61\n",
      "---------------------------\n"
     ]
    },
    {
     "name": "stderr",
     "output_type": "stream",
     "text": [
      "100%|██████████| 1921/1921 [09:01<00:00,  3.55it/s]\n"
     ]
    },
    {
     "name": "stdout",
     "output_type": "stream",
     "text": [
      "train loss : 0.0010751172083119508\n"
     ]
    },
    {
     "name": "stderr",
     "output_type": "stream",
     "text": [
      "100%|██████████| 389/389 [01:16<00:00,  5.09it/s]\n"
     ]
    },
    {
     "name": "stdout",
     "output_type": "stream",
     "text": [
      "Validation loss improved(-0.2778525656021494 -> -0.23642618586281958)\n",
      "validation loss : -0.23642618586281958 (accompanies loss, mean), -0.10895343124866486 (vocal loss, median)\n",
      "\n",
      "epoch : 62\n",
      "---------------------------\n"
     ]
    },
    {
     "name": "stderr",
     "output_type": "stream",
     "text": [
      "100%|██████████| 1921/1921 [08:48<00:00,  3.64it/s]\n"
     ]
    },
    {
     "name": "stdout",
     "output_type": "stream",
     "text": [
      "train loss : 0.0010645700480498553\n"
     ]
    },
    {
     "name": "stderr",
     "output_type": "stream",
     "text": [
      "100%|██████████| 389/389 [01:16<00:00,  5.08it/s]\n"
     ]
    },
    {
     "name": "stdout",
     "output_type": "stream",
     "text": [
      "validation loss : -0.2646377873448666 (accompanies loss, mean), -0.1829526424407959 (vocal loss, median)\n",
      "\n",
      "epoch : 63\n",
      "---------------------------\n"
     ]
    },
    {
     "name": "stderr",
     "output_type": "stream",
     "text": [
      "100%|██████████| 1921/1921 [09:00<00:00,  3.56it/s]\n"
     ]
    },
    {
     "name": "stdout",
     "output_type": "stream",
     "text": [
      "train loss : 0.0010683687589830013\n"
     ]
    },
    {
     "name": "stderr",
     "output_type": "stream",
     "text": [
      "100%|██████████| 389/389 [01:11<00:00,  5.46it/s]\n"
     ]
    },
    {
     "name": "stdout",
     "output_type": "stream",
     "text": [
      "Validation loss improved(-0.23642618586281958 -> -0.13820043485022093)\n",
      "validation loss : -0.13820043485022093 (accompanies loss, mean), -0.2506113350391388 (vocal loss, median)\n",
      "\n",
      "epoch : 64\n",
      "---------------------------\n"
     ]
    },
    {
     "name": "stderr",
     "output_type": "stream",
     "text": [
      "100%|██████████| 1921/1921 [09:00<00:00,  3.55it/s]\n"
     ]
    },
    {
     "name": "stdout",
     "output_type": "stream",
     "text": [
      "train loss : 0.0010677890277229721\n"
     ]
    },
    {
     "name": "stderr",
     "output_type": "stream",
     "text": [
      "100%|██████████| 389/389 [01:17<00:00,  5.02it/s]\n"
     ]
    },
    {
     "name": "stdout",
     "output_type": "stream",
     "text": [
      "validation loss : -0.21054977061181107 (accompanies loss, mean), -0.39568662643432617 (vocal loss, median)\n",
      "\n",
      "epoch : 65\n",
      "---------------------------\n"
     ]
    },
    {
     "name": "stderr",
     "output_type": "stream",
     "text": [
      "100%|██████████| 1921/1921 [08:47<00:00,  3.64it/s]\n"
     ]
    },
    {
     "name": "stdout",
     "output_type": "stream",
     "text": [
      "train loss : 0.0010545238631997098\n"
     ]
    },
    {
     "name": "stderr",
     "output_type": "stream",
     "text": [
      "100%|██████████| 389/389 [01:14<00:00,  5.23it/s]\n"
     ]
    },
    {
     "name": "stdout",
     "output_type": "stream",
     "text": [
      "Validation loss improved(-0.13820043485022093 -> -0.0954529519237639)\n",
      "validation loss : -0.0954529519237639 (accompanies loss, mean), -0.3890991806983948 (vocal loss, median)\n",
      "\n",
      "epoch : 66\n",
      "---------------------------\n"
     ]
    },
    {
     "name": "stderr",
     "output_type": "stream",
     "text": [
      "100%|██████████| 1921/1921 [09:06<00:00,  3.52it/s]\n"
     ]
    },
    {
     "name": "stdout",
     "output_type": "stream",
     "text": [
      "train loss : 0.001042508291061045\n"
     ]
    },
    {
     "name": "stderr",
     "output_type": "stream",
     "text": [
      "100%|██████████| 389/389 [01:00<00:00,  6.39it/s]\n"
     ]
    },
    {
     "name": "stdout",
     "output_type": "stream",
     "text": [
      "Validation loss improved(-0.0954529519237639 -> -0.07673083181817254)\n",
      "validation loss : -0.07673083181817254 (accompanies loss, mean), -0.5360231995582581 (vocal loss, median)\n",
      "\n",
      "epoch : 67\n",
      "---------------------------\n"
     ]
    },
    {
     "name": "stderr",
     "output_type": "stream",
     "text": [
      "100%|██████████| 1921/1921 [09:00<00:00,  3.55it/s]\n"
     ]
    },
    {
     "name": "stdout",
     "output_type": "stream",
     "text": [
      "train loss : 0.0010310497205123102\n"
     ]
    },
    {
     "name": "stderr",
     "output_type": "stream",
     "text": [
      "100%|██████████| 389/389 [01:17<00:00,  5.02it/s]\n"
     ]
    },
    {
     "name": "stdout",
     "output_type": "stream",
     "text": [
      "Validation loss improved(-0.07673083181817254 -> 0.07276475760749468)\n",
      "validation loss : 0.07276475760749468 (accompanies loss, mean), -0.7372639775276184 (vocal loss, median)\n",
      "\n",
      "epoch : 68\n",
      "---------------------------\n"
     ]
    },
    {
     "name": "stderr",
     "output_type": "stream",
     "text": [
      "100%|██████████| 1921/1921 [08:43<00:00,  3.67it/s]\n"
     ]
    },
    {
     "name": "stdout",
     "output_type": "stream",
     "text": [
      "train loss : 0.001014808102422317\n"
     ]
    },
    {
     "name": "stderr",
     "output_type": "stream",
     "text": [
      "100%|██████████| 389/389 [01:15<00:00,  5.16it/s]\n"
     ]
    },
    {
     "name": "stdout",
     "output_type": "stream",
     "text": [
      "validation loss : 0.054143823772354396 (accompanies loss, mean), -0.5486474633216858 (vocal loss, median)\n",
      "\n",
      "epoch : 69\n",
      "---------------------------\n"
     ]
    },
    {
     "name": "stderr",
     "output_type": "stream",
     "text": [
      "100%|██████████| 1921/1921 [09:03<00:00,  3.54it/s]\n"
     ]
    },
    {
     "name": "stdout",
     "output_type": "stream",
     "text": [
      "train loss : 0.001017301346173331\n"
     ]
    },
    {
     "name": "stderr",
     "output_type": "stream",
     "text": [
      "100%|██████████| 389/389 [01:05<00:00,  5.91it/s]\n"
     ]
    },
    {
     "name": "stdout",
     "output_type": "stream",
     "text": [
      "validation loss : 0.007052457570191145 (accompanies loss, mean), -0.6899881958961487 (vocal loss, median)\n",
      "\n",
      "epoch : 70\n",
      "---------------------------\n"
     ]
    },
    {
     "name": "stderr",
     "output_type": "stream",
     "text": [
      "100%|██████████| 1921/1921 [09:00<00:00,  3.55it/s]\n"
     ]
    },
    {
     "name": "stdout",
     "output_type": "stream",
     "text": [
      "train loss : 0.0010165887058507894\n"
     ]
    },
    {
     "name": "stderr",
     "output_type": "stream",
     "text": [
      "100%|██████████| 389/389 [01:18<00:00,  4.98it/s]\n"
     ]
    },
    {
     "name": "stdout",
     "output_type": "stream",
     "text": [
      "Validation loss improved(0.07276475760749468 -> 0.13177189926189947)\n",
      "validation loss : 0.13177189926189947 (accompanies loss, mean), -0.36075788736343384 (vocal loss, median)\n",
      "\n",
      "epoch : 71\n",
      "---------------------------\n"
     ]
    },
    {
     "name": "stderr",
     "output_type": "stream",
     "text": [
      "100%|██████████| 1921/1921 [08:43<00:00,  3.67it/s]\n"
     ]
    },
    {
     "name": "stdout",
     "output_type": "stream",
     "text": [
      "train loss : 0.0010148369448480887\n"
     ]
    },
    {
     "name": "stderr",
     "output_type": "stream",
     "text": [
      "100%|██████████| 389/389 [01:15<00:00,  5.12it/s]\n"
     ]
    },
    {
     "name": "stdout",
     "output_type": "stream",
     "text": [
      "validation loss : -0.029041843565239856 (accompanies loss, mean), -0.5782281756401062 (vocal loss, median)\n",
      "\n",
      "epoch : 72\n",
      "---------------------------\n"
     ]
    },
    {
     "name": "stderr",
     "output_type": "stream",
     "text": [
      "100%|██████████| 1921/1921 [08:59<00:00,  3.56it/s]\n"
     ]
    },
    {
     "name": "stdout",
     "output_type": "stream",
     "text": [
      "train loss : 0.0009922818390959913\n"
     ]
    },
    {
     "name": "stderr",
     "output_type": "stream",
     "text": [
      "100%|██████████| 389/389 [01:07<00:00,  5.75it/s]\n"
     ]
    },
    {
     "name": "stdout",
     "output_type": "stream",
     "text": [
      "Validation loss improved(0.13177189926189947 -> 0.25111415675488613)\n",
      "validation loss : 0.25111415675488613 (accompanies loss, mean), -0.5805948376655579 (vocal loss, median)\n",
      "\n",
      "epoch : 73\n",
      "---------------------------\n"
     ]
    },
    {
     "name": "stderr",
     "output_type": "stream",
     "text": [
      "100%|██████████| 1921/1921 [09:05<00:00,  3.52it/s]\n"
     ]
    },
    {
     "name": "stdout",
     "output_type": "stream",
     "text": [
      "train loss : 0.0009804374193503034\n"
     ]
    },
    {
     "name": "stderr",
     "output_type": "stream",
     "text": [
      "100%|██████████| 389/389 [01:15<00:00,  5.15it/s]\n"
     ]
    },
    {
     "name": "stdout",
     "output_type": "stream",
     "text": [
      "validation loss : 0.20718719022914087 (accompanies loss, mean), -0.7333612442016602 (vocal loss, median)\n",
      "\n",
      "epoch : 74\n",
      "---------------------------\n"
     ]
    },
    {
     "name": "stderr",
     "output_type": "stream",
     "text": [
      "100%|██████████| 1921/1921 [08:48<00:00,  3.64it/s]\n"
     ]
    },
    {
     "name": "stdout",
     "output_type": "stream",
     "text": [
      "train loss : 0.00097725517451156\n"
     ]
    },
    {
     "name": "stderr",
     "output_type": "stream",
     "text": [
      "100%|██████████| 389/389 [01:14<00:00,  5.19it/s]\n"
     ]
    },
    {
     "name": "stdout",
     "output_type": "stream",
     "text": [
      "Validation loss improved(0.25111415675488613 -> 0.2634499356168096)\n",
      "validation loss : 0.2634499356168096 (accompanies loss, mean), -0.653320848941803 (vocal loss, median)\n",
      "\n",
      "epoch : 75\n",
      "---------------------------\n"
     ]
    },
    {
     "name": "stderr",
     "output_type": "stream",
     "text": [
      "100%|██████████| 1921/1921 [08:55<00:00,  3.59it/s]\n"
     ]
    },
    {
     "name": "stdout",
     "output_type": "stream",
     "text": [
      "train loss : 0.0009653003580070063\n"
     ]
    },
    {
     "name": "stderr",
     "output_type": "stream",
     "text": [
      "100%|██████████| 389/389 [01:05<00:00,  5.97it/s]\n"
     ]
    },
    {
     "name": "stdout",
     "output_type": "stream",
     "text": [
      "Validation loss improved(0.2634499356168096 -> 0.3393128142546937)\n",
      "validation loss : 0.3393128142546937 (accompanies loss, mean), -1.0594760179519653 (vocal loss, median)\n",
      "\n",
      "epoch : 76\n",
      "---------------------------\n"
     ]
    },
    {
     "name": "stderr",
     "output_type": "stream",
     "text": [
      "100%|██████████| 1921/1921 [09:11<00:00,  3.48it/s]\n"
     ]
    },
    {
     "name": "stdout",
     "output_type": "stream",
     "text": [
      "train loss : 0.0009728553778574192\n"
     ]
    },
    {
     "name": "stderr",
     "output_type": "stream",
     "text": [
      "100%|██████████| 389/389 [01:09<00:00,  5.61it/s]\n"
     ]
    },
    {
     "name": "stdout",
     "output_type": "stream",
     "text": [
      "validation loss : 0.2570465742912829 (accompanies loss, mean), -0.15302635729312897 (vocal loss, median)\n",
      "\n",
      "epoch : 77\n",
      "---------------------------\n"
     ]
    },
    {
     "name": "stderr",
     "output_type": "stream",
     "text": [
      "100%|██████████| 1921/1921 [08:52<00:00,  3.61it/s]\n"
     ]
    },
    {
     "name": "stdout",
     "output_type": "stream",
     "text": [
      "train loss : 0.0009552904550512729\n"
     ]
    },
    {
     "name": "stderr",
     "output_type": "stream",
     "text": [
      "100%|██████████| 389/389 [01:16<00:00,  5.07it/s]\n"
     ]
    },
    {
     "name": "stdout",
     "output_type": "stream",
     "text": [
      "validation loss : 0.29175953867846327 (accompanies loss, mean), -0.2903846502304077 (vocal loss, median)\n",
      "\n",
      "epoch : 78\n",
      "---------------------------\n"
     ]
    },
    {
     "name": "stderr",
     "output_type": "stream",
     "text": [
      "100%|██████████| 1921/1921 [08:51<00:00,  3.61it/s]\n"
     ]
    },
    {
     "name": "stdout",
     "output_type": "stream",
     "text": [
      "train loss : 0.0009454838662427967\n"
     ]
    },
    {
     "name": "stderr",
     "output_type": "stream",
     "text": [
      "100%|██████████| 389/389 [01:11<00:00,  5.46it/s]\n"
     ]
    },
    {
     "name": "stdout",
     "output_type": "stream",
     "text": [
      "Validation loss improved(0.3393128142546937 -> 0.42407530606282134)\n",
      "validation loss : 0.42407530606282134 (accompanies loss, mean), -0.36891940236091614 (vocal loss, median)\n",
      "\n",
      "epoch : 79\n",
      "---------------------------\n"
     ]
    },
    {
     "name": "stderr",
     "output_type": "stream",
     "text": [
      "100%|██████████| 1921/1921 [09:08<00:00,  3.50it/s]\n"
     ]
    },
    {
     "name": "stdout",
     "output_type": "stream",
     "text": [
      "train loss : 0.0009432767090403141\n"
     ]
    },
    {
     "name": "stderr",
     "output_type": "stream",
     "text": [
      "100%|██████████| 389/389 [01:05<00:00,  5.98it/s]\n"
     ]
    },
    {
     "name": "stdout",
     "output_type": "stream",
     "text": [
      "validation loss : 0.3994336924267821 (accompanies loss, mean), -0.10681276768445969 (vocal loss, median)\n",
      "\n",
      "epoch : 80\n",
      "---------------------------\n"
     ]
    },
    {
     "name": "stderr",
     "output_type": "stream",
     "text": [
      "100%|██████████| 1921/1921 [09:00<00:00,  3.55it/s]\n"
     ]
    },
    {
     "name": "stdout",
     "output_type": "stream",
     "text": [
      "train loss : 0.000937663938208108\n"
     ]
    },
    {
     "name": "stderr",
     "output_type": "stream",
     "text": [
      "100%|██████████| 389/389 [01:17<00:00,  5.00it/s]\n"
     ]
    },
    {
     "name": "stdout",
     "output_type": "stream",
     "text": [
      "validation loss : 0.31385095454883466 (accompanies loss, mean), -0.7111887335777283 (vocal loss, median)\n",
      "\n",
      "epoch : 81\n",
      "---------------------------\n"
     ]
    },
    {
     "name": "stderr",
     "output_type": "stream",
     "text": [
      "100%|██████████| 1921/1921 [08:44<00:00,  3.66it/s]\n"
     ]
    },
    {
     "name": "stdout",
     "output_type": "stream",
     "text": [
      "train loss : 0.000930196350228217\n"
     ]
    },
    {
     "name": "stderr",
     "output_type": "stream",
     "text": [
      "100%|██████████| 389/389 [01:14<00:00,  5.20it/s]\n"
     ]
    },
    {
     "name": "stdout",
     "output_type": "stream",
     "text": [
      "validation loss : -0.08298824779593232 (accompanies loss, mean), -0.7159824371337891 (vocal loss, median)\n",
      "\n",
      "epoch : 82\n",
      "---------------------------\n"
     ]
    },
    {
     "name": "stderr",
     "output_type": "stream",
     "text": [
      "100%|██████████| 1921/1921 [09:02<00:00,  3.54it/s]\n"
     ]
    },
    {
     "name": "stdout",
     "output_type": "stream",
     "text": [
      "train loss : 0.0009249204935574512\n"
     ]
    },
    {
     "name": "stderr",
     "output_type": "stream",
     "text": [
      "100%|██████████| 389/389 [01:06<00:00,  5.89it/s]\n"
     ]
    },
    {
     "name": "stdout",
     "output_type": "stream",
     "text": [
      "validation loss : 0.15805790909289755 (accompanies loss, mean), -0.847737729549408 (vocal loss, median)\n",
      "\n",
      "epoch : 83\n",
      "---------------------------\n"
     ]
    },
    {
     "name": "stderr",
     "output_type": "stream",
     "text": [
      "100%|██████████| 1921/1921 [08:59<00:00,  3.56it/s]\n"
     ]
    },
    {
     "name": "stdout",
     "output_type": "stream",
     "text": [
      "train loss : 0.0009233220208171412\n"
     ]
    },
    {
     "name": "stderr",
     "output_type": "stream",
     "text": [
      "100%|██████████| 389/389 [01:16<00:00,  5.07it/s]\n"
     ]
    },
    {
     "name": "stdout",
     "output_type": "stream",
     "text": [
      "validation loss : 0.10763215560286993 (accompanies loss, mean), -0.8755559921264648 (vocal loss, median)\n",
      "\n",
      "epoch : 84\n",
      "---------------------------\n"
     ]
    },
    {
     "name": "stderr",
     "output_type": "stream",
     "text": [
      "100%|██████████| 1921/1921 [08:45<00:00,  3.66it/s]\n"
     ]
    },
    {
     "name": "stdout",
     "output_type": "stream",
     "text": [
      "train loss : 0.0009120339458013831\n"
     ]
    },
    {
     "name": "stderr",
     "output_type": "stream",
     "text": [
      "100%|██████████| 389/389 [01:15<00:00,  5.17it/s]\n"
     ]
    },
    {
     "name": "stdout",
     "output_type": "stream",
     "text": [
      "validation loss : -0.16044671849936143 (accompanies loss, mean), -1.1017208099365234 (vocal loss, median)\n",
      "\n",
      "epoch : 85\n",
      "---------------------------\n"
     ]
    },
    {
     "name": "stderr",
     "output_type": "stream",
     "text": [
      "100%|██████████| 1921/1921 [09:01<00:00,  3.54it/s]\n"
     ]
    },
    {
     "name": "stdout",
     "output_type": "stream",
     "text": [
      "train loss : 0.0009080817948275265\n"
     ]
    },
    {
     "name": "stderr",
     "output_type": "stream",
     "text": [
      "100%|██████████| 389/389 [01:03<00:00,  6.15it/s]\n"
     ]
    },
    {
     "name": "stdout",
     "output_type": "stream",
     "text": [
      "validation loss : 0.03842644792089429 (accompanies loss, mean), -1.12754225730896 (vocal loss, median)\n",
      "\n",
      "epoch : 86\n",
      "---------------------------\n"
     ]
    },
    {
     "name": "stderr",
     "output_type": "stream",
     "text": [
      "100%|██████████| 1921/1921 [09:01<00:00,  3.55it/s]\n"
     ]
    },
    {
     "name": "stdout",
     "output_type": "stream",
     "text": [
      "train loss : 0.0008990310111367936\n"
     ]
    },
    {
     "name": "stderr",
     "output_type": "stream",
     "text": [
      "100%|██████████| 389/389 [01:17<00:00,  5.05it/s]\n"
     ]
    },
    {
     "name": "stdout",
     "output_type": "stream",
     "text": [
      "validation loss : -0.09027075228070598 (accompanies loss, mean), -0.8084127902984619 (vocal loss, median)\n",
      "\n",
      "epoch : 87\n",
      "---------------------------\n"
     ]
    },
    {
     "name": "stderr",
     "output_type": "stream",
     "text": [
      "100%|██████████| 1921/1921 [08:39<00:00,  3.70it/s]\n"
     ]
    },
    {
     "name": "stdout",
     "output_type": "stream",
     "text": [
      "train loss : 0.0008848913831056661\n"
     ]
    },
    {
     "name": "stderr",
     "output_type": "stream",
     "text": [
      "100%|██████████| 389/389 [01:15<00:00,  5.13it/s]\n"
     ]
    },
    {
     "name": "stdout",
     "output_type": "stream",
     "text": [
      "validation loss : -0.02643997557417589 (accompanies loss, mean), -0.9140337109565735 (vocal loss, median)\n",
      "\n",
      "epoch : 88\n",
      "---------------------------\n"
     ]
    },
    {
     "name": "stderr",
     "output_type": "stream",
     "text": [
      "100%|██████████| 1921/1921 [09:04<00:00,  3.53it/s]\n"
     ]
    },
    {
     "name": "stdout",
     "output_type": "stream",
     "text": [
      "train loss : 0.0008891561058457212\n"
     ]
    },
    {
     "name": "stderr",
     "output_type": "stream",
     "text": [
      "100%|██████████| 389/389 [01:06<00:00,  5.84it/s]\n"
     ]
    },
    {
     "name": "stdout",
     "output_type": "stream",
     "text": [
      "validation loss : -0.03208847954292789 (accompanies loss, mean), -0.7983350157737732 (vocal loss, median)\n",
      "\n",
      "epoch : 89\n",
      "---------------------------\n"
     ]
    },
    {
     "name": "stderr",
     "output_type": "stream",
     "text": [
      "100%|██████████| 1921/1921 [08:58<00:00,  3.56it/s]\n"
     ]
    },
    {
     "name": "stdout",
     "output_type": "stream",
     "text": [
      "train loss : 0.0008790645608559317\n"
     ]
    },
    {
     "name": "stderr",
     "output_type": "stream",
     "text": [
      "100%|██████████| 389/389 [01:17<00:00,  5.05it/s]\n"
     ]
    },
    {
     "name": "stdout",
     "output_type": "stream",
     "text": [
      "validation loss : -0.007819158502648053 (accompanies loss, mean), -0.9889775514602661 (vocal loss, median)\n",
      "\n",
      "epoch : 90\n",
      "---------------------------\n"
     ]
    },
    {
     "name": "stderr",
     "output_type": "stream",
     "text": [
      "100%|██████████| 1921/1921 [08:44<00:00,  3.66it/s]\n"
     ]
    },
    {
     "name": "stdout",
     "output_type": "stream",
     "text": [
      "train loss : 0.0008747761315760301\n"
     ]
    },
    {
     "name": "stderr",
     "output_type": "stream",
     "text": [
      "100%|██████████| 389/389 [01:15<00:00,  5.13it/s]\n"
     ]
    },
    {
     "name": "stdout",
     "output_type": "stream",
     "text": [
      "validation loss : -0.12148812692022827 (accompanies loss, mean), -0.9442217946052551 (vocal loss, median)\n",
      "\n",
      "epoch : 91\n",
      "---------------------------\n"
     ]
    },
    {
     "name": "stderr",
     "output_type": "stream",
     "text": [
      "100%|██████████| 1921/1921 [09:01<00:00,  3.55it/s]\n"
     ]
    },
    {
     "name": "stdout",
     "output_type": "stream",
     "text": [
      "train loss : 0.0008639064109321002\n"
     ]
    },
    {
     "name": "stderr",
     "output_type": "stream",
     "text": [
      "100%|██████████| 389/389 [01:08<00:00,  5.68it/s]\n"
     ]
    },
    {
     "name": "stdout",
     "output_type": "stream",
     "text": [
      "validation loss : 0.07778195373338384 (accompanies loss, mean), -1.2257274389266968 (vocal loss, median)\n",
      "\n",
      "epoch : 92\n",
      "---------------------------\n"
     ]
    },
    {
     "name": "stderr",
     "output_type": "stream",
     "text": [
      "100%|██████████| 1921/1921 [09:06<00:00,  3.52it/s]\n"
     ]
    },
    {
     "name": "stdout",
     "output_type": "stream",
     "text": [
      "train loss : 0.0008597734887846318\n"
     ]
    },
    {
     "name": "stderr",
     "output_type": "stream",
     "text": [
      "100%|██████████| 389/389 [01:16<00:00,  5.05it/s]\n"
     ]
    },
    {
     "name": "stdout",
     "output_type": "stream",
     "text": [
      "validation loss : 0.1218894337433863 (accompanies loss, mean), -1.1591947078704834 (vocal loss, median)\n",
      "\n",
      "epoch : 93\n",
      "---------------------------\n"
     ]
    },
    {
     "name": "stderr",
     "output_type": "stream",
     "text": [
      "100%|██████████| 1921/1921 [08:47<00:00,  3.64it/s]\n"
     ]
    },
    {
     "name": "stdout",
     "output_type": "stream",
     "text": [
      "train loss : 0.000852918143357725\n"
     ]
    },
    {
     "name": "stderr",
     "output_type": "stream",
     "text": [
      "100%|██████████| 389/389 [01:16<00:00,  5.08it/s]\n"
     ]
    },
    {
     "name": "stdout",
     "output_type": "stream",
     "text": [
      "validation loss : 0.043216727878396144 (accompanies loss, mean), -0.9919729828834534 (vocal loss, median)\n",
      "\n",
      "epoch : 94\n",
      "---------------------------\n"
     ]
    },
    {
     "name": "stderr",
     "output_type": "stream",
     "text": [
      "100%|██████████| 1921/1921 [08:56<00:00,  3.58it/s]\n"
     ]
    },
    {
     "name": "stdout",
     "output_type": "stream",
     "text": [
      "train loss : 0.0008723741092645284\n"
     ]
    },
    {
     "name": "stderr",
     "output_type": "stream",
     "text": [
      "100%|██████████| 389/389 [01:10<00:00,  5.54it/s]\n"
     ]
    },
    {
     "name": "stdout",
     "output_type": "stream",
     "text": [
      "validation loss : 0.15918305832783475 (accompanies loss, mean), -0.1533203423023224 (vocal loss, median)\n",
      "\n",
      "epoch : 95\n",
      "---------------------------\n"
     ]
    },
    {
     "name": "stderr",
     "output_type": "stream",
     "text": [
      "100%|██████████| 1921/1921 [09:07<00:00,  3.51it/s]\n"
     ]
    },
    {
     "name": "stdout",
     "output_type": "stream",
     "text": [
      "train loss : 0.0008581700219155858\n"
     ]
    },
    {
     "name": "stderr",
     "output_type": "stream",
     "text": [
      "100%|██████████| 389/389 [01:10<00:00,  5.50it/s]\n"
     ]
    },
    {
     "name": "stdout",
     "output_type": "stream",
     "text": [
      "validation loss : 0.17866963515667394 (accompanies loss, mean), -0.5015777349472046 (vocal loss, median)\n",
      "\n",
      "epoch : 96\n",
      "---------------------------\n"
     ]
    },
    {
     "name": "stderr",
     "output_type": "stream",
     "text": [
      "100%|██████████| 1921/1921 [08:49<00:00,  3.63it/s]\n"
     ]
    },
    {
     "name": "stdout",
     "output_type": "stream",
     "text": [
      "train loss : 0.0008417334766711977\n"
     ]
    },
    {
     "name": "stderr",
     "output_type": "stream",
     "text": [
      "100%|██████████| 389/389 [01:16<00:00,  5.08it/s]\n"
     ]
    },
    {
     "name": "stdout",
     "output_type": "stream",
     "text": [
      "validation loss : 0.25163309146483087 (accompanies loss, mean), -0.8043810725212097 (vocal loss, median)\n",
      "\n",
      "epoch : 97\n",
      "---------------------------\n"
     ]
    },
    {
     "name": "stderr",
     "output_type": "stream",
     "text": [
      "100%|██████████| 1921/1921 [08:54<00:00,  3.59it/s]\n"
     ]
    },
    {
     "name": "stdout",
     "output_type": "stream",
     "text": [
      "train loss : 0.000834753719324048\n"
     ]
    },
    {
     "name": "stderr",
     "output_type": "stream",
     "text": [
      "100%|██████████| 389/389 [01:08<00:00,  5.68it/s]\n"
     ]
    },
    {
     "name": "stdout",
     "output_type": "stream",
     "text": [
      "validation loss : 0.1689989931698002 (accompanies loss, mean), -0.5511575937271118 (vocal loss, median)\n",
      "\n",
      "epoch : 98\n",
      "---------------------------\n"
     ]
    },
    {
     "name": "stderr",
     "output_type": "stream",
     "text": [
      "100%|██████████| 1921/1921 [09:08<00:00,  3.50it/s]\n"
     ]
    },
    {
     "name": "stdout",
     "output_type": "stream",
     "text": [
      "train loss : 0.0008346555019532858\n"
     ]
    },
    {
     "name": "stderr",
     "output_type": "stream",
     "text": [
      "100%|██████████| 389/389 [01:02<00:00,  6.19it/s]\n"
     ]
    },
    {
     "name": "stdout",
     "output_type": "stream",
     "text": [
      "validation loss : 0.19024588427258543 (accompanies loss, mean), -0.5382983088493347 (vocal loss, median)\n",
      "\n",
      "Early stop. Loading best model...\n"
     ]
    },
    {
     "name": "stderr",
     "output_type": "stream",
     "text": [
      "100%|██████████| 389/389 [01:17<00:00,  5.04it/s]\n"
     ]
    },
    {
     "name": "stdout",
     "output_type": "stream",
     "text": [
      "test loss : 0.368322434043247 (accompanies loss, mean), -0.48110899329185486 (vocal loss, median)\n",
      "\n"
     ]
    }
   ],
   "source": [
    "epochs = 200\n",
    "for t in range(start_epoch+1, epochs):\n",
    "    print(f\"epoch : {t+1}\\n---------------------------\")\n",
    "    model.train()\n",
    "    train(train_dataloader, model, loss_fn, optimizer)\n",
    "    val(valid_dataloader, model, test_loss_fn)\n",
    "\n",
    "    if early_stop.is_stop():\n",
    "        print(\"Early stop. Loading best model...\")\n",
    "        model.load_state_dict(torch.load('checkpoint/best.pt'))\n",
    "        break\n",
    "\n",
    "    torch.save({\n",
    "        'epoch': t+1,\n",
    "        'model_state_dict': model.state_dict(),\n",
    "        'optimizer_state_dict': optimizer.state_dict(),\n",
    "        'earlystop_bestloss': early_stop.best_loss,\n",
    "        'earlystop_counter': early_stop.counter,\n",
    "        'train_losslist': train_loss_list,\n",
    "        'val_losslist': val_loss_list\n",
    "    }, f'checkpoint/checkpoint_epoch{t+1}')\n",
    "\n",
    "    try:\n",
    "        os.remove(f'checkpoint/checkpoint_epoch{t}')\n",
    "    except OSError:\n",
    "        pass\n",
    "    \n",
    "test(test_dataloader, model, test_loss_fn)"
   ]
  },
  {
   "cell_type": "code",
   "execution_count": 30,
   "metadata": {},
   "outputs": [
    {
     "data": {
      "text/plain": [
       "[<matplotlib.lines.Line2D at 0x7f8d291ca9d0>]"
      ]
     },
     "execution_count": 30,
     "metadata": {},
     "output_type": "execute_result"
    },
    {
     "data": {
      "image/png": "[encoded data removed]",
      "text/plain": [
       "<Figure size 640x480 with 1 Axes>"
      ]
     },
     "metadata": {},
     "output_type": "display_data"
    }
   ],
   "source": [
    "plt.plot(train_loss_list)"
   ]
  },
  {
   "cell_type": "code",
   "execution_count": 29,
   "metadata": {},
   "outputs": [
    {
     "data": {
      "text/plain": [
       "[<matplotlib.lines.Line2D at 0x7f8d234ff490>]"
      ]
     },
     "execution_count": 29,
     "metadata": {},
     "output_type": "execute_result"
    },
    {
     "data": {
      "image/png": "[encoded data removed]",
      "text/plain": [
       "<Figure size 640x480 with 1 Axes>"
      ]
     },
     "metadata": {},
     "output_type": "display_data"
    }
   ],
   "source": [
    "plt.plot(val_loss_list)"
   ]
  },
  {
   "cell_type": "code",
   "execution_count": 31,
   "metadata": {
    "id": "8dzB0UYOQzb4"
   },
   "outputs": [],
   "source": [
    "torch.save(model.state_dict(), \"../model.pth\")"
   ]
  },
  {
   "cell_type": "code",
   "execution_count": 32,
   "metadata": {
    "colab": {
     "base_uri": "https://localhost:8080/"
    },
    "id": "y2HN_gCzsZDC",
    "outputId": "27f10e66-4fd9-4306-db86-1d4f3065e7cd"
   },
   "outputs": [
    {
     "data": {
      "text/plain": [
       "<All keys matched successfully>"
      ]
     },
     "execution_count": 32,
     "metadata": {},
     "output_type": "execute_result"
    }
   ],
   "source": [
    "model_load = WaveUNet().to(device)\n",
    "model_load.load_state_dict(torch.load(\"../model.pth\"))"
   ]
  },
  {
   "cell_type": "code",
   "execution_count": null,
   "metadata": {},
   "outputs": [],
   "source": [
    "val(valid_dataloader, model_load, test_loss_fn)"
   ]
  },
  {
   "cell_type": "code",
   "execution_count": 103,
   "metadata": {
    "id": "5rvETVMoq4ue"
   },
   "outputs": [],
   "source": [
    "song_index = 18\n",
    "test_arr = torch.Tensor(test_ds[song_index][0]).to(device)\n",
    "test_arr = torch.unsqueeze(test_arr, 0)\n",
    "\n",
    "model_load.eval()\n",
    "with torch.no_grad():\n",
    "    pred = model_load(test_arr)\n",
    "\n",
    "pred = pred.cpu()"
   ]
  },
  {
   "cell_type": "code",
   "execution_count": 104,
   "metadata": {},
   "outputs": [
    {
     "name": "stdout",
     "output_type": "stream",
     "text": [
      "-16.60931396484375 9.919690132141113 -5.403880596160889 1.3881580829620361\n"
     ]
    }
   ],
   "source": [
    "print(test_loss_fn(pred[0][0], torch.Tensor(test_ds[song_index][1][0]))[0].item(),\n",
    "      test_loss_fn(pred[0][1], torch.Tensor(test_ds[song_index][1][1]))[0].item(),\n",
    "      test_loss_fn(pred[0][2], torch.Tensor(test_ds[song_index][1][2]))[0].item(),\n",
    "      test_loss_fn(pred[0][3], torch.Tensor(test_ds[song_index][1][3]))[0].item())\n"
   ]
  },
  {
   "cell_type": "code",
   "execution_count": 105,
   "metadata": {
    "colab": {
     "base_uri": "https://localhost:8080/",
     "height": 283
    },
    "id": "0yRGTEAPsbxY",
    "outputId": "1a3619d8-f887-4c30-d610-526bfc91ae52"
   },
   "outputs": [
    {
     "data": {
      "image/png": "[encoded data removed]",
      "text/plain": [
       "<Figure size 1000x800 with 8 Axes>"
      ]
     },
     "metadata": {},
     "output_type": "display_data"
    }
   ],
   "source": [
    "plt.figure(figsize=(10, 8))\n",
    "\n",
    "for i in range(4):\n",
    "    plt.subplot(4, 2, i*2+1)\n",
    "    plt.plot(test_ds[song_index][1][i])\n",
    "    plt.subplot(4, 2, i*2+2)\n",
    "    plt.plot(pred[0][i])\n",
    "plt.show()\n",
    "\n",
    "for i in range(4):\n",
    "    soundfile.write(f'./output/test_orign_{i}.wav', test_ds[song_index][1][i], 22050, format='wav')\n",
    "    soundfile.write(f'./output/test_out_{i}.wav', pred[0][i], 22050, format='wav')"
   ]
  },
  {
   "cell_type": "code",
   "execution_count": 107,
   "metadata": {},
   "outputs": [
    {
     "data": {
      "image/png": "[encoded data removed]",
      "text/plain": [
       "<Figure size 1400x2200 with 8 Axes>"
      ]
     },
     "metadata": {},
     "output_type": "display_data"
    }
   ],
   "source": [
    "songname = 'Tom McKenzie - Directions'\n",
    "song = np.load(f'../dataset/createdmusdb18/test/data_numpy/{songname}.stem.0.mp3.npy')\n",
    "song = torch.Tensor(song.reshape(1, 1, -1)).to(device)\n",
    "song_stem1 = np.load(f'../dataset/createdmusdb18/test/data_numpy/{songname}.stem.1.mp3.npy')\n",
    "song_stem2 = np.load(f'../dataset/createdmusdb18/test/data_numpy/{songname}.stem.2.mp3.npy')\n",
    "song_stem3 = np.load(f'../dataset/createdmusdb18/test/data_numpy/{songname}.stem.3.mp3.npy')\n",
    "song_stem4 = np.load(f'../dataset/createdmusdb18/test/data_numpy/{songname}.stem.4.mp3.npy')\n",
    "song_stems = [song_stem1, song_stem2, song_stem3, song_stem4]\n",
    "\n",
    "model_load.eval()\n",
    "with torch.no_grad():\n",
    "    pred = model_load(song)\n",
    "\n",
    "pred = pred.cpu()\n",
    "\n",
    "plt.figure(figsize=(14, 22))\n",
    "\n",
    "for i in range(4):\n",
    "    plt.subplot(8, 1, i*2+1)\n",
    "    plt.plot(song_stems[i])\n",
    "    plt.subplot(8, 1, i*2+2)\n",
    "    plt.plot(pred[0][i])\n",
    "plt.show()"
   ]
  },
  {
   "cell_type": "code",
   "execution_count": 108,
   "metadata": {},
   "outputs": [],
   "source": [
    "for i in range(4):\n",
    "    soundfile.write(f'./output/song_orign_{i}.wav', song_stems[i], 22050, format='wav')\n",
    "    soundfile.write(f'./output/song_out_{i}.wav', pred[0][i], 22050, format='wav')"
   ]
  }
 ],
 "metadata": {
  "accelerator": "GPU",
  "colab": {
   "provenance": []
  },
  "gpuClass": "premium",
  "kernelspec": {
   "display_name": "mlenv",
   "language": "python",
   "name": "python3"
  },
  "language_info": {
   "codemirror_mode": {
    "name": "ipython",
    "version": 3
   },
   "file_extension": ".py",
   "mimetype": "text/x-python",
   "name": "python",
   "nbconvert_exporter": "python",
   "pygments_lexer": "ipython3",
   "version": "3.8.0"
  },
  "vscode": {
   "interpreter": {
    "hash": "fbeac686187292a2fb2dc452101cb0b2f490f61a772b44920184cdddd43d1f0d"
   }
  }
 },
 "nbformat": 4,
 "nbformat_minor": 1
}
