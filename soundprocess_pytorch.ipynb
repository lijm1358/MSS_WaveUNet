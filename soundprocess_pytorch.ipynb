{
  "cells": [
    {
      "cell_type": "code",
      "execution_count": 52,
      "metadata": {
        "colab": {
          "base_uri": "https://localhost:8080/"
        },
        "id": "7FzflK4fL2ll",
        "outputId": "69a32f06-c0f4-4223-b6ed-d3da18bf8e0d"
      },
      "outputs": [
        {
          "output_type": "stream",
          "name": "stdout",
          "text": [
            "Mounted at /content/gdrive\n"
          ]
        }
      ],
      "source": [
        "from google.colab import drive\n",
        "drive.mount(\"/content/gdrive\", force_remount=True)"
      ]
    },
    {
      "cell_type": "code",
      "execution_count": 2,
      "metadata": {
        "colab": {
          "base_uri": "https://localhost:8080/"
        },
        "id": "I0s1QHuPL3qr",
        "outputId": "19b63686-413b-4764-eeff-1deb16981406"
      },
      "outputs": [
        {
          "output_type": "stream",
          "name": "stdout",
          "text": [
            "Looking in indexes: https://pypi.org/simple, https://us-python.pkg.dev/colab-wheels/public/simple/\n",
            "Collecting pydub\n",
            "  Downloading pydub-0.25.1-py2.py3-none-any.whl (32 kB)\n",
            "Installing collected packages: pydub\n",
            "Successfully installed pydub-0.25.1\n"
          ]
        }
      ],
      "source": [
        "!pip install pydub"
      ]
    },
    {
      "cell_type": "code",
      "execution_count": 3,
      "metadata": {
        "colab": {
          "base_uri": "https://localhost:8080/"
        },
        "id": "PeApTPxNvL3Y",
        "outputId": "31a33de1-0204-4ebd-bd72-64a35bb65f2e"
      },
      "outputs": [
        {
          "output_type": "stream",
          "name": "stdout",
          "text": [
            "Looking in indexes: https://pypi.org/simple, https://us-python.pkg.dev/colab-wheels/public/simple/\n",
            "Collecting torchmetrics\n",
            "  Downloading torchmetrics-0.11.0-py3-none-any.whl (512 kB)\n",
            "\u001b[2K     \u001b[90m━━━━━━━━━━━━━━━━━━━━━━━━━━━━━━━━━━━━━━\u001b[0m \u001b[32m512.4/512.4 KB\u001b[0m \u001b[31m10.9 MB/s\u001b[0m eta \u001b[36m0:00:00\u001b[0m\n",
            "\u001b[?25hRequirement already satisfied: torch>=1.8.1 in /usr/local/lib/python3.8/dist-packages (from torchmetrics) (1.13.1+cu116)\n",
            "Requirement already satisfied: typing-extensions in /usr/local/lib/python3.8/dist-packages (from torchmetrics) (4.4.0)\n",
            "Requirement already satisfied: numpy>=1.17.2 in /usr/local/lib/python3.8/dist-packages (from torchmetrics) (1.21.6)\n",
            "Requirement already satisfied: packaging in /usr/local/lib/python3.8/dist-packages (from torchmetrics) (21.3)\n",
            "Requirement already satisfied: pyparsing!=3.0.5,>=2.0.2 in /usr/local/lib/python3.8/dist-packages (from packaging->torchmetrics) (3.0.9)\n",
            "Installing collected packages: torchmetrics\n",
            "Successfully installed torchmetrics-0.11.0\n"
          ]
        }
      ],
      "source": [
        "!pip install torchmetrics"
      ]
    },
    {
      "cell_type": "code",
      "execution_count": 4,
      "metadata": {
        "id": "94kdUPk-LzsA"
      },
      "outputs": [],
      "source": [
        "import os\n",
        "import sys\n",
        "import warnings\n",
        "import subprocess\n",
        "from subprocess import call\n",
        "from functools import partial\n",
        "\n",
        "import librosa\n",
        "\n",
        "from tqdm import tqdm\n",
        "\n",
        "import numpy as np\n",
        "\n",
        "import torch\n",
        "from torch import nn, Tensor\n",
        "import torch.nn.functional as F\n",
        "from torch.nn.functional import pad\n",
        "\n",
        "from torch.utils.data import Dataset\n",
        "from torch.utils.data import DataLoader\n",
        "\n",
        "from torchmetrics.audio import SignalDistortionRatio as SDR\n",
        "\n",
        "import matplotlib.pyplot as plt\n",
        "\n",
        "import pydub "
      ]
    },
    {
      "cell_type": "code",
      "execution_count": null,
      "metadata": {
        "id": "mHRoNfiqLzsC"
      },
      "outputs": [],
      "source": [
        "# path_folder_in = '/content/gdrive/MyDrive/musdb18/test'\n",
        "# path_folder_out = '/content/gdrive/MyDrive/createdmusdb18/test'\n",
        "# \n",
        "# \n",
        "# \n",
        "# files = os.listdir(path_folder_in)\n",
        "# for file in tqdm(files, position=0, leave=True):\n",
        "#   # tqdm.write(f\"current song : {file}\")\n",
        "#   file_in = path_folder_in + '/' + file\n",
        "#   for i in range(5):\n",
        "#     filesp = file.split(\".\")\n",
        "#     filesp[-1] = f\"{i}.mp3\"\n",
        "#     filesp = \".\".join(filesp)\n",
        "#     file_out = f\"{path_folder_out}/{filesp}\"\n",
        "#     # tqdm.write(f\"processing {file_out}\", end='\\r')\n",
        "#     call(('ffmpeg', '-y', '-i', file_in, '-map', f'0:{i}', '-vn', file_out),\n",
        "#          stdout=subprocess.DEVNULL,\n",
        "#          stderr=subprocess.STDOUT)"
      ]
    },
    {
      "cell_type": "code",
      "source": [
        "train_path = '/content/gdrive/MyDrive/createdmusdb18/train/data_numpy'\n",
        "target_path = '/content/gdrive/MyDrive/createdmusdb18/train/data_numpy_split'\n",
        "song_np_full = []\n",
        "count = 0\n",
        "for i, filename in enumerate(tqdm(os.listdir(train_path))):\n",
        "    song_np = np.load(os.path.join(train_path, filename))\n",
        "    song_np_full.append(song_np)\n",
        "    if i%5==4:\n",
        "        song_np_full = np.stack(song_np_full)\n",
        "        index = 0\n",
        "        while index+16384 <= song_np_full.shape[1]:\n",
        "            np.save(os.path.join(target_path, str(count)), song_np_full[:, index:index+16384])\n",
        "            index+=16384\n",
        "            count+=1\n",
        "        song_np_full = []"
      ],
      "metadata": {
        "id": "jw2g-pCOsE6R",
        "colab": {
          "base_uri": "https://localhost:8080/"
        },
        "outputId": "5babe083-22f9-451c-cdb8-e1265ff18c9b"
      },
      "execution_count": 53,
      "outputs": [
        {
          "output_type": "stream",
          "name": "stderr",
          "text": [
            "100%|██████████| 500/500 [13:11<00:00,  1.58s/it]\n"
          ]
        }
      ]
    },
    {
      "cell_type": "code",
      "execution_count": 55,
      "metadata": {
        "id": "X7N0hkaCLzsD"
      },
      "outputs": [],
      "source": [
        "class MUSDBDataset(Dataset):\n",
        "    def __init__(self, data_dir: str, train:bool=True):\n",
        "        self.music_fulllist = []\n",
        "        self.music_list = []\n",
        "        self.sep_list = []\n",
        "        self.data_size = 500 if train is True else 250\n",
        "        self.train = train\n",
        "        self.crop_size = 284672\n",
        "        if train:\n",
        "            self.data_dir = os.path.join(data_dir, 'data_numpy_split')\n",
        "        else:\n",
        "            self.data_dir = os.path.join(data_dir, 'data_numpy')\n",
        "        # if not os.path.exists(self.data_dir) or \\\n",
        "        #     len([name for name in os.listdir(self.data_dir)]) < self.data_size:\n",
        "        #     print(\"Data has not been saved as numpy object. Converting...\")\n",
        "        #     if not os.path.exists(self.data_dir):\n",
        "        #         os.makedirs(self.data_dir)\n",
        "        #     self.convert_to_numpy(data_dir, self.data_dir)\n",
        "        self.music_fulllist = self.get_filenames(self.data_dir)\n",
        "        if not train:\n",
        "            self.music_list, self.sep_list = self.separate_source(self.music_fulllist)\n",
        "\n",
        "    def __len__(self):\n",
        "        return len(self.music_fulllist) if self.train else len(self.music_list)\n",
        "        #return len(self.music_list)\n",
        "\n",
        "    def __getitem__(self, idx):\n",
        "        if self.train:\n",
        "            music = self.music_fulllist[idx]\n",
        "            music = np.load(music)\n",
        "            return np.expand_dims(music[0], 0), music[1:]\n",
        "        else:\n",
        "            base_music = self.music_list[idx]\n",
        "            base_music = np.load(base_music)\n",
        "            base_music = np.stack([base_music[:self.crop_size]])\n",
        "\n",
        "            sep_music = self.sep_list[idx*4 : idx*4+4]\n",
        "            sep_music = np.stack([np.load(idx)[:self.crop_size] for idx in sep_music])\n",
        "            return base_music, sep_music\n",
        "\n",
        "    def get_filenames(self, path):\n",
        "        files_list = list()\n",
        "        for filename in os.listdir(path):\n",
        "            files_list.append(os.path.join(path, filename))\n",
        "        return files_list\n",
        "\n",
        "    def convert_to_numpy(self, music_dir, target_dir):\n",
        "        warnings.filterwarnings('ignore')\n",
        "        music_list = self.get_filenames(music_dir)\n",
        "        for music in tqdm(music_list):\n",
        "            outfile_name = music.split(\"/\")[-1]\n",
        "            outfile_name = target_dir + \"/\" + outfile_name\n",
        "            arr, _ = librosa.load(music)\n",
        "            np.save(outfile_name, arr)\n",
        "\n",
        "    def separate_source(self, mus_list):\n",
        "        warnings.filterwarnings('ignore')\n",
        "        music_list = list()\n",
        "        sep_list = list()\n",
        "        for music in tqdm(mus_list):\n",
        "            mus_type = music.split(\".\")[-3]\n",
        "            if mus_type == '0':\n",
        "                music_list.append(music)\n",
        "            else:\n",
        "                sep_list.append(music)\n",
        "\n",
        "        return music_list, sep_list"
      ]
    },
    {
      "cell_type": "code",
      "execution_count": 56,
      "metadata": {
        "id": "htj5Z8MpLzsE",
        "colab": {
          "base_uri": "https://localhost:8080/"
        },
        "outputId": "c9dc23ba-d3f8-4571-ccb5-4e88748d5fad"
      },
      "outputs": [
        {
          "output_type": "stream",
          "name": "stderr",
          "text": [
            "100%|██████████| 250/250 [00:00<00:00, 765943.02it/s]\n"
          ]
        }
      ],
      "source": [
        "# train_ds = MUSDBDataset('/content/gdrive/MyDrive/createdmusdb18/train')\n",
        "train_ds = MUSDBDataset('/content/gdrive/MyDrive/createdmusdb18/train')\n",
        "test_ds = MUSDBDataset('/content/gdrive/MyDrive/createdmusdb18/test', train=False)"
      ]
    },
    {
      "cell_type": "code",
      "source": [
        "train_ds[0][1].shape"
      ],
      "metadata": {
        "colab": {
          "base_uri": "https://localhost:8080/"
        },
        "id": "37Rwwhvf3eno",
        "outputId": "9960ed99-fd2e-4726-d5f4-3d13ca31cbe1"
      },
      "execution_count": 57,
      "outputs": [
        {
          "output_type": "execute_result",
          "data": {
            "text/plain": [
              "(4, 16384)"
            ]
          },
          "metadata": {},
          "execution_count": 57
        }
      ]
    },
    {
      "cell_type": "code",
      "source": [
        "test_ds[0][1].shape"
      ],
      "metadata": {
        "colab": {
          "base_uri": "https://localhost:8080/"
        },
        "id": "Y7vrankSDrJ4",
        "outputId": "ebb9e4bf-2224-4ec5-8bce-e9ab0b0aef1f"
      },
      "execution_count": 58,
      "outputs": [
        {
          "output_type": "execute_result",
          "data": {
            "text/plain": [
              "(4, 284672)"
            ]
          },
          "metadata": {},
          "execution_count": 58
        }
      ]
    },
    {
      "cell_type": "code",
      "execution_count": 59,
      "metadata": {
        "id": "0XBPVV1sLzsF"
      },
      "outputs": [],
      "source": [
        "train_dataloader = DataLoader(train_ds, batch_size=16)\n",
        "test_dataloader = DataLoader(test_ds, batch_size=16)"
      ]
    },
    {
      "cell_type": "code",
      "execution_count": 60,
      "metadata": {
        "id": "3m3_EPkjLzsF"
      },
      "outputs": [],
      "source": [
        "class DownSampling(nn.Module):\n",
        "    def __init__(self, in_ch=1, out_ch=24, kernel_size=15):\n",
        "        super().__init__()\n",
        "        self.net = nn.Sequential(\n",
        "            nn.Conv1d(in_ch, out_ch, kernel_size=kernel_size, padding=7),\n",
        "            nn.LeakyReLU(inplace=True),\n",
        "            nn.Conv1d(out_ch, out_ch, kernel_size=kernel_size, padding=7),\n",
        "            nn.LeakyReLU(inplace=True),\n",
        "        )\n",
        "        \n",
        "    def forward(self, x: Tensor):\n",
        "        x = self.net(x)\n",
        "        return x"
      ]
    },
    {
      "cell_type": "code",
      "execution_count": 61,
      "metadata": {
        "id": "khmjRe9-LzsG"
      },
      "outputs": [],
      "source": [
        "class UpSampling(nn.Module):\n",
        "    def __init__(self, in_ch, out_ch, kernel_size):\n",
        "        super().__init__()\n",
        "        self.upsample = nn.Upsample(scale_factor=2, mode=\"linear\", align_corners=True)\n",
        "        self.conv = nn.Sequential(\n",
        "            nn.Conv1d(in_ch, out_ch, kernel_size=kernel_size, padding=2),\n",
        "            nn.LeakyReLU(inplace=True),\n",
        "            nn.Conv1d(out_ch, out_ch, kernel_size=kernel_size, padding=2),\n",
        "            nn.LeakyReLU(inplace=True),\n",
        "        )\n",
        "        \n",
        "    def forward(self, x, x_back):\n",
        "        x = self.upsample(x);\n",
        "        diff = x_back.shape[-1] - x.shape[-1]\n",
        "        x = pad(x, (0, diff))\n",
        "        x = torch.cat([x, x_back], axis=1)\n",
        "        return self.conv(x)"
      ]
    },
    {
      "cell_type": "code",
      "execution_count": 62,
      "metadata": {
        "id": "LOe36a_mLzsH"
      },
      "outputs": [],
      "source": [
        "class WaveUNet(nn.Module):\n",
        "    def __init__(self, n_level=12, n_source=4):\n",
        "        super().__init__()\n",
        "        self.level = n_level\n",
        "        \n",
        "        layers=[DownSampling(in_ch=1,out_ch=24,kernel_size=15)]\n",
        "        \n",
        "        for i in range(self.level-1):\n",
        "            layers.append(DownSampling(in_ch=24*(i+1),out_ch=24*(i+2),kernel_size=15))\n",
        "            \n",
        "        # layers.append(DownSampling(in_ch=24*(self.level), out_ch=24*(self.level+1), kernel_size=15, decimate=False))\n",
        "        layers.append(DownSampling(in_ch=24*(self.level), out_ch=24*(self.level+1), kernel_size=15))\n",
        "            \n",
        "        for i in range(self.level):\n",
        "            layers.append(UpSampling(in_ch=24*(self.level+1-i) + 24*(self.level - i), out_ch=24*(self.level-i), kernel_size=5))\n",
        "            \n",
        "        self.net = nn.ModuleList(layers)\n",
        "        self.separation = nn.Sequential(\n",
        "            nn.Conv1d(25, n_source, kernel_size=1),\n",
        "            nn.LeakyReLU(inplace=True),\n",
        "            nn.Conv1d(n_source, n_source, kernel_size=1),\n",
        "            nn.LeakyReLU(inplace=True),\n",
        "        )\n",
        "    \n",
        "    def forward(self, x: Tensor):\n",
        "        layer_to_concat = []\n",
        "        # print(\"before in \", x.shape)\n",
        "        layer_to_concat.append(x)\n",
        "        for layer in self.net[0: self.level]:\n",
        "            x = layer(x)\n",
        "            # print(\"conv \", x.shape)\n",
        "            layer_to_concat.append(x)\n",
        "            x = x[:, :, 1::2]\n",
        "            # print(\"decimate \", x.shape)\n",
        "        x = self.net[self.level](x)\n",
        "        # print(\"middle out \", x.shape)\n",
        "        layer_to_concat.append(x)\n",
        "        for i, layer in enumerate(self.net[self.level+1:]):\n",
        "            # print(\"before up \", x.shape)\n",
        "            x = layer_to_concat[-1]\n",
        "            x = layer(x, layer_to_concat[-1-i-1])\n",
        "            # print(\"after up \", x.shape)\n",
        "            layer_to_concat[-1] = x\n",
        "            \n",
        "        x = torch.cat([layer_to_concat[0], x], axis=1)\n",
        "        x = self.separation(x)\n",
        "\n",
        "        return x"
      ]
    },
    {
      "cell_type": "code",
      "execution_count": 63,
      "metadata": {
        "id": "rwTtpsAdLzsH",
        "colab": {
          "base_uri": "https://localhost:8080/"
        },
        "outputId": "50dee6d2-5daf-4094-e4ca-e811f5b2fff2"
      },
      "outputs": [
        {
          "output_type": "stream",
          "name": "stdout",
          "text": [
            "Using cuda device\n"
          ]
        }
      ],
      "source": [
        "device = \"cuda\" if torch.cuda.is_available() else \"cpu\"\n",
        "print(f\"Using {device} device\")"
      ]
    },
    {
      "cell_type": "code",
      "execution_count": 64,
      "metadata": {
        "id": "wJcJkej6LzsI"
      },
      "outputs": [],
      "source": [
        "model = WaveUNet(n_level=12).to(device)\n",
        "# print(model)"
      ]
    },
    {
      "cell_type": "code",
      "execution_count": 65,
      "metadata": {
        "id": "L0646__YLzsI"
      },
      "outputs": [],
      "source": [
        "loss_fn = nn.MSELoss()\n",
        "\n",
        "test_loss = SDR().to(device)\n",
        "optimizer = torch.optim.Adam(model.parameters(), lr=0.0001, betas=[0.9, 0.999])"
      ]
    },
    {
      "cell_type": "code",
      "execution_count": 66,
      "metadata": {
        "id": "p9ikop1ULzsJ"
      },
      "outputs": [],
      "source": [
        "def train(dataloader, model, loss_fn, optimizer):\n",
        "    size = len(dataloader.dataset)\n",
        "    for batch, (X, y) in enumerate(dataloader):\n",
        "        X, y = X.to(device), y.to(device)\n",
        "        pred = model(X)\n",
        "        loss = loss_fn(pred, y)\n",
        "        \n",
        "        optimizer.zero_grad()\n",
        "        loss.backward()\n",
        "        optimizer.step()\n",
        "        \n",
        "        if batch*len(X) % 800 == 0:\n",
        "            print(f\"loss : {loss.item()} ({batch*len(X)}/{size})\")\n",
        "\n",
        "        del pred\n",
        "        del loss\n",
        "        del X, y"
      ]
    },
    {
      "cell_type": "code",
      "execution_count": 67,
      "metadata": {
        "id": "zwZK5M1c18F4"
      },
      "outputs": [],
      "source": [
        "def test(dataloader, model, loss_fn):\n",
        "    model.eval()\n",
        "    test_loss = 0\n",
        "    with torch.no_grad():\n",
        "        for X, y in dataloader:\n",
        "            X, y = X.to(device), y.to(device)\n",
        "            pred = model(X)\n",
        "            test_loss += loss_fn(pred, y).item()\n",
        "    test_loss /= len(dataloader)\n",
        "    print(f\"Test loss : {test_loss}\\n\")"
      ]
    },
    {
      "cell_type": "code",
      "execution_count": 68,
      "metadata": {
        "id": "3MhFHqZwLzsJ",
        "colab": {
          "base_uri": "https://localhost:8080/",
          "height": 1000
        },
        "outputId": "ceb53c04-eb88-447a-f8b4-7b569879b7fa"
      },
      "outputs": [
        {
          "output_type": "stream",
          "name": "stdout",
          "text": [
            "epoch : 1\n",
            "---------------------------\n",
            "loss : 0.03301911801099777 (0/30729)\n",
            "loss : 0.017839204519987106 (800/30729)\n",
            "loss : 0.0002462365082465112 (1600/30729)\n",
            "loss : 0.0040946477092802525 (2400/30729)\n",
            "loss : 0.002815782791003585 (3200/30729)\n",
            "loss : 0.004637870471924543 (4000/30729)\n",
            "loss : 0.0006262432434596121 (4800/30729)\n",
            "loss : 0.0029275156557559967 (5600/30729)\n",
            "loss : 0.0006390626076608896 (6400/30729)\n",
            "loss : 0.005832795985043049 (7200/30729)\n",
            "loss : 0.006514036096632481 (8000/30729)\n",
            "loss : 0.0031051423866301775 (8800/30729)\n",
            "loss : 0.0035126020666211843 (9600/30729)\n",
            "loss : 0.002043253742158413 (10400/30729)\n",
            "loss : 0.002908873837441206 (11200/30729)\n",
            "loss : 0.003960856236517429 (12000/30729)\n",
            "loss : 0.001287031453102827 (12800/30729)\n",
            "loss : 0.0011831902666017413 (13600/30729)\n",
            "loss : 0.0051181623712182045 (14400/30729)\n",
            "loss : 0.004767945036292076 (15200/30729)\n",
            "loss : 0.0015862714499235153 (16000/30729)\n",
            "loss : 0.0002297628961969167 (16800/30729)\n",
            "loss : 0.0004441766650415957 (17600/30729)\n",
            "loss : 0.002894776174798608 (18400/30729)\n",
            "loss : 0.0014957062667235732 (19200/30729)\n",
            "loss : 0.0027176309376955032 (20000/30729)\n",
            "loss : 0.0019026572117581964 (20800/30729)\n",
            "loss : 0.004460720345377922 (21600/30729)\n",
            "loss : 0.003823383478447795 (22400/30729)\n",
            "loss : 0.005695991683751345 (23200/30729)\n",
            "loss : 0.0011279287282377481 (24000/30729)\n",
            "loss : 0.003185170702636242 (24800/30729)\n",
            "loss : 0.0019184912089258432 (25600/30729)\n",
            "loss : 0.004295739810913801 (26400/30729)\n",
            "loss : 0.0025692007038742304 (27200/30729)\n",
            "loss : 1.1983143849647604e-05 (28000/30729)\n",
            "loss : 0.004360870458185673 (28800/30729)\n",
            "loss : 0.004100615158677101 (29600/30729)\n",
            "loss : 0.003153573488816619 (30400/30729)\n",
            "Test loss : 0.0010357340070186183\n",
            "\n",
            "epoch : 2\n",
            "---------------------------\n",
            "loss : 0.003119459142908454 (0/30729)\n",
            "loss : 0.0025704463478177786 (800/30729)\n",
            "loss : 0.00018273602472618222 (1600/30729)\n",
            "loss : 0.0036027298774570227 (2400/30729)\n",
            "loss : 0.0023692375980317593 (3200/30729)\n",
            "loss : 0.0033541349694132805 (4000/30729)\n",
            "loss : 0.000672091031447053 (4800/30729)\n",
            "loss : 0.0024910112842917442 (5600/30729)\n",
            "loss : 0.000629425689112395 (6400/30729)\n",
            "loss : 0.004472002852708101 (7200/30729)\n",
            "loss : 0.004409109242260456 (8000/30729)\n",
            "loss : 0.002847508294507861 (8800/30729)\n",
            "loss : 0.0030753479804843664 (9600/30729)\n",
            "loss : 0.0014269278617575765 (10400/30729)\n",
            "loss : 0.0025725956074893475 (11200/30729)\n",
            "loss : 0.0031720222905278206 (12000/30729)\n",
            "loss : 0.0009620267665013671 (12800/30729)\n",
            "loss : 0.001172527321614325 (13600/30729)\n",
            "loss : 0.0047348132357001305 (14400/30729)\n",
            "loss : 0.004324029665440321 (15200/30729)\n",
            "loss : 0.0013206100556999445 (16000/30729)\n",
            "loss : 0.00022559496574103832 (16800/30729)\n",
            "loss : 0.0004337173595558852 (17600/30729)\n",
            "loss : 0.00252741202712059 (18400/30729)\n",
            "loss : 0.0013650101609528065 (19200/30729)\n",
            "loss : 0.0025780200958251953 (20000/30729)\n",
            "loss : 0.001874995417892933 (20800/30729)\n",
            "loss : 0.004152281675487757 (21600/30729)\n",
            "loss : 0.003368785372003913 (22400/30729)\n",
            "loss : 0.005385984666645527 (23200/30729)\n",
            "loss : 0.0010028959950432181 (24000/30729)\n",
            "loss : 0.003073751460760832 (24800/30729)\n",
            "loss : 0.0016966512193903327 (25600/30729)\n",
            "loss : 0.0039367638528347015 (26400/30729)\n",
            "loss : 0.002480753231793642 (27200/30729)\n",
            "loss : 8.256472028733697e-06 (28000/30729)\n",
            "loss : 0.004109201952815056 (28800/30729)\n",
            "loss : 0.003967301920056343 (29600/30729)\n",
            "loss : 0.0028274725191295147 (30400/30729)\n",
            "Test loss : 0.0009747026779223233\n",
            "\n",
            "epoch : 3\n",
            "---------------------------\n",
            "loss : 0.0023927674628794193 (0/30729)\n",
            "loss : 0.0021806866861879826 (800/30729)\n",
            "loss : 0.00018078795983456075 (1600/30729)\n",
            "loss : 0.0036303671076893806 (2400/30729)\n",
            "loss : 0.002175999339669943 (3200/30729)\n",
            "loss : 0.0031207825522869825 (4000/30729)\n",
            "loss : 0.0006564927753061056 (4800/30729)\n",
            "loss : 0.002479386515915394 (5600/30729)\n",
            "loss : 0.0006229561986401677 (6400/30729)\n",
            "loss : 0.004643671214580536 (7200/30729)\n",
            "loss : 0.004469849169254303 (8000/30729)\n",
            "loss : 0.0028134894091635942 (8800/30729)\n",
            "loss : 0.002915091346949339 (9600/30729)\n",
            "loss : 0.0014557200483977795 (10400/30729)\n",
            "loss : 0.0026378100737929344 (11200/30729)\n",
            "loss : 0.0030744795221835375 (12000/30729)\n",
            "loss : 0.0009934173431247473 (12800/30729)\n",
            "loss : 0.0011559765553101897 (13600/30729)\n",
            "loss : 0.004797108471393585 (14400/30729)\n",
            "loss : 0.004329409450292587 (15200/30729)\n",
            "loss : 0.0013288998743519187 (16000/30729)\n",
            "loss : 0.00022387783974409103 (16800/30729)\n",
            "loss : 0.0004492267034947872 (17600/30729)\n",
            "loss : 0.0025720647536218166 (18400/30729)\n",
            "loss : 0.0014047101140022278 (19200/30729)\n",
            "loss : 0.0025352761149406433 (20000/30729)\n",
            "loss : 0.001882926095277071 (20800/30729)\n",
            "loss : 0.004111291375011206 (21600/30729)\n",
            "loss : 0.0033778618089854717 (22400/30729)\n",
            "loss : 0.00529923802241683 (23200/30729)\n",
            "loss : 0.0010117958299815655 (24000/30729)\n",
            "loss : 0.003053497988730669 (24800/30729)\n",
            "loss : 0.0018399666296318173 (25600/30729)\n",
            "loss : 0.003936057910323143 (26400/30729)\n",
            "loss : 0.002408150117844343 (27200/30729)\n",
            "loss : 6.216081601451151e-06 (28000/30729)\n",
            "loss : 0.003923014272004366 (28800/30729)\n",
            "loss : 0.0039301649667322636 (29600/30729)\n",
            "loss : 0.002767540281638503 (30400/30729)\n",
            "Test loss : 0.0010037444008048624\n",
            "\n",
            "epoch : 4\n",
            "---------------------------\n",
            "loss : 0.002202699426561594 (0/30729)\n",
            "loss : 0.0020586131140589714 (800/30729)\n",
            "loss : 0.00017660646699368954 (1600/30729)\n",
            "loss : 0.0036110891960561275 (2400/30729)\n",
            "loss : 0.0021349231246858835 (3200/30729)\n",
            "loss : 0.0029938635416328907 (4000/30729)\n",
            "loss : 0.0006201565265655518 (4800/30729)\n",
            "loss : 0.002360255690291524 (5600/30729)\n",
            "loss : 0.000587601971346885 (6400/30729)\n",
            "loss : 0.004713087342679501 (7200/30729)\n",
            "loss : 0.004553103819489479 (8000/30729)\n",
            "loss : 0.002585724228993058 (8800/30729)\n",
            "loss : 0.002980167279019952 (9600/30729)\n",
            "loss : 0.0015300901141017675 (10400/30729)\n",
            "loss : 0.002552828984335065 (11200/30729)\n",
            "loss : 0.0029461162630468607 (12000/30729)\n",
            "loss : 0.0010480138007551432 (12800/30729)\n",
            "loss : 0.0008842918905429542 (13600/30729)\n",
            "loss : 0.00449084397405386 (14400/30729)\n",
            "loss : 0.003917803056538105 (15200/30729)\n",
            "loss : 0.0012521904427558184 (16000/30729)\n",
            "loss : 0.0001944020768860355 (16800/30729)\n",
            "loss : 0.0004618217935785651 (17600/30729)\n",
            "loss : 0.0023011094890534878 (18400/30729)\n",
            "loss : 0.001165086287073791 (19200/30729)\n",
            "loss : 0.0020497513469308615 (20000/30729)\n",
            "loss : 0.001456022378988564 (20800/30729)\n",
            "loss : 0.0033642221242189407 (21600/30729)\n",
            "loss : 0.0030274726450443268 (22400/30729)\n",
            "loss : 0.005149157717823982 (23200/30729)\n",
            "loss : 0.0010283878073096275 (24000/30729)\n",
            "loss : 0.0025041343178600073 (24800/30729)\n",
            "loss : 0.0018740722443908453 (25600/30729)\n",
            "loss : 0.0035541041288524866 (26400/30729)\n",
            "loss : 0.0021153707057237625 (27200/30729)\n",
            "loss : 3.9342739910352975e-06 (28000/30729)\n",
            "loss : 0.003474254161119461 (28800/30729)\n",
            "loss : 0.0034327541943639517 (29600/30729)\n",
            "loss : 0.002683288650587201 (30400/30729)\n",
            "Test loss : 0.0009522618929622695\n",
            "\n",
            "epoch : 5\n",
            "---------------------------\n",
            "loss : 0.002064503263682127 (0/30729)\n",
            "loss : 0.0019587036222219467 (800/30729)\n",
            "loss : 0.00022518049809150398 (1600/30729)\n",
            "loss : 0.003119287546724081 (2400/30729)\n",
            "loss : 0.0019458766328170896 (3200/30729)\n",
            "loss : 0.002660156227648258 (4000/30729)\n",
            "loss : 0.0005425313720479608 (4800/30729)\n",
            "loss : 0.0019425572827458382 (5600/30729)\n",
            "loss : 0.00046000740258023143 (6400/30729)\n",
            "loss : 0.0043912893161177635 (7200/30729)\n",
            "loss : 0.0044952817261219025 (8000/30729)\n",
            "loss : 0.0021737616043537855 (8800/30729)\n",
            "loss : 0.0025918828323483467 (9600/30729)\n",
            "loss : 0.001465711509808898 (10400/30729)\n",
            "loss : 0.002112430753186345 (11200/30729)\n",
            "loss : 0.002550642006099224 (12000/30729)\n",
            "loss : 0.0010599286761134863 (12800/30729)\n",
            "loss : 0.0007797943544574082 (13600/30729)\n",
            "loss : 0.004071669653058052 (14400/30729)\n",
            "loss : 0.0035187897738069296 (15200/30729)\n",
            "loss : 0.0012270407751202583 (16000/30729)\n",
            "loss : 0.00017550258780829608 (16800/30729)\n",
            "loss : 0.00040464807534590364 (17600/30729)\n",
            "loss : 0.0021557053551077843 (18400/30729)\n",
            "loss : 0.0011472139740362763 (19200/30729)\n",
            "loss : 0.002006987575441599 (20000/30729)\n",
            "loss : 0.0013372881803661585 (20800/30729)\n",
            "loss : 0.00310697453096509 (21600/30729)\n",
            "loss : 0.0030252141878008842 (22400/30729)\n",
            "loss : 0.00429387716576457 (23200/30729)\n",
            "loss : 0.0008763755904510617 (24000/30729)\n",
            "loss : 0.0023137901443988085 (24800/30729)\n",
            "loss : 0.0019323190208524466 (25600/30729)\n",
            "loss : 0.0033647874370217323 (26400/30729)\n",
            "loss : 0.002088078297674656 (27200/30729)\n",
            "loss : 4.330977390054613e-06 (28000/30729)\n",
            "loss : 0.0033767884597182274 (28800/30729)\n",
            "loss : 0.003411527257412672 (29600/30729)\n",
            "loss : 0.002579585649073124 (30400/30729)\n",
            "Test loss : 0.0009373902867082506\n",
            "\n",
            "epoch : 6\n",
            "---------------------------\n",
            "loss : 0.0017797145992517471 (0/30729)\n",
            "loss : 0.0019461732590571046 (800/30729)\n",
            "loss : 0.00020490356837399304 (1600/30729)\n",
            "loss : 0.0029550010804086924 (2400/30729)\n",
            "loss : 0.001985381357371807 (3200/30729)\n",
            "loss : 0.0025386293418705463 (4000/30729)\n",
            "loss : 0.000501781003549695 (4800/30729)\n",
            "loss : 0.001812314847484231 (5600/30729)\n",
            "loss : 0.00047403553617186844 (6400/30729)\n",
            "loss : 0.004339441657066345 (7200/30729)\n",
            "loss : 0.004606070928275585 (8000/30729)\n",
            "loss : 0.002026711590588093 (8800/30729)\n",
            "loss : 0.0025180126540362835 (9600/30729)\n",
            "loss : 0.0014993402874097228 (10400/30729)\n",
            "loss : 0.0020665740594267845 (11200/30729)\n",
            "loss : 0.0024050758220255375 (12000/30729)\n",
            "loss : 0.0010227542370557785 (12800/30729)\n",
            "loss : 0.0007210369221866131 (13600/30729)\n",
            "loss : 0.00390838086605072 (14400/30729)\n",
            "loss : 0.0034039414022117853 (15200/30729)\n",
            "loss : 0.0012432725634425879 (16000/30729)\n",
            "loss : 0.00017304642824456096 (16800/30729)\n",
            "loss : 0.000385661784093827 (17600/30729)\n",
            "loss : 0.002110476139932871 (18400/30729)\n",
            "loss : 0.0011122773867100477 (19200/30729)\n",
            "loss : 0.001986177172511816 (20000/30729)\n",
            "loss : 0.0012398870894685388 (20800/30729)\n",
            "loss : 0.003077257424592972 (21600/30729)\n",
            "loss : 0.0030126452911645174 (22400/30729)\n",
            "loss : 0.004204520955681801 (23200/30729)\n",
            "loss : 0.000884158187545836 (24000/30729)\n",
            "loss : 0.002257008571177721 (24800/30729)\n",
            "loss : 0.0016561157535761595 (25600/30729)\n",
            "loss : 0.003291899571195245 (26400/30729)\n",
            "loss : 0.002045016037300229 (27200/30729)\n",
            "loss : 4.0388486013398506e-06 (28000/30729)\n",
            "loss : 0.0032621196005493402 (28800/30729)\n",
            "loss : 0.0033833258785307407 (29600/30729)\n",
            "loss : 0.0024945130571722984 (30400/30729)\n",
            "Test loss : 0.0009426288161193952\n",
            "\n",
            "epoch : 7\n",
            "---------------------------\n",
            "loss : 0.001653423416428268 (0/30729)\n",
            "loss : 0.001927138539031148 (800/30729)\n",
            "loss : 0.00023448413412552327 (1600/30729)\n",
            "loss : 0.002894700039178133 (2400/30729)\n",
            "loss : 0.0019457782618701458 (3200/30729)\n",
            "loss : 0.002457113703712821 (4000/30729)\n",
            "loss : 0.0005094766383990645 (4800/30729)\n",
            "loss : 0.0018914303509518504 (5600/30729)\n",
            "loss : 0.00045413398765958846 (6400/30729)\n",
            "loss : 0.004328371956944466 (7200/30729)\n",
            "loss : 0.004659304860979319 (8000/30729)\n",
            "loss : 0.001969873206689954 (8800/30729)\n",
            "loss : 0.002503424184396863 (9600/30729)\n",
            "loss : 0.0015290015144273639 (10400/30729)\n",
            "loss : 0.002075075637549162 (11200/30729)\n",
            "loss : 0.002293693833053112 (12000/30729)\n",
            "loss : 0.001033034292049706 (12800/30729)\n",
            "loss : 0.0007084985263645649 (13600/30729)\n",
            "loss : 0.003856974421069026 (14400/30729)\n",
            "loss : 0.003361270995810628 (15200/30729)\n",
            "loss : 0.0012254588073119521 (16000/30729)\n",
            "loss : 0.00018069855286739767 (16800/30729)\n",
            "loss : 0.00038378723547793925 (17600/30729)\n",
            "loss : 0.0020294804126024246 (18400/30729)\n",
            "loss : 0.00111555983312428 (19200/30729)\n",
            "loss : 0.0019478395115584135 (20000/30729)\n",
            "loss : 0.00118282251060009 (20800/30729)\n",
            "loss : 0.002908817958086729 (21600/30729)\n",
            "loss : 0.0030018161050975323 (22400/30729)\n",
            "loss : 0.004111529793590307 (23200/30729)\n",
            "loss : 0.0008861440001055598 (24000/30729)\n",
            "loss : 0.002209179103374481 (24800/30729)\n",
            "loss : 0.001483432948589325 (25600/30729)\n",
            "loss : 0.003244095016270876 (26400/30729)\n",
            "loss : 0.002045509871095419 (27200/30729)\n",
            "loss : 4.6407999434450176e-06 (28000/30729)\n",
            "loss : 0.003300851210951805 (28800/30729)\n",
            "loss : 0.003293087240308523 (29600/30729)\n",
            "loss : 0.0025110989809036255 (30400/30729)\n",
            "Test loss : 0.000953311551711522\n",
            "\n",
            "epoch : 8\n",
            "---------------------------\n",
            "loss : 0.0015599976759403944 (0/30729)\n",
            "loss : 0.001911928877234459 (800/30729)\n",
            "loss : 0.0002477724337950349 (1600/30729)\n",
            "loss : 0.0027921139262616634 (2400/30729)\n",
            "loss : 0.0019832169637084007 (3200/30729)\n",
            "loss : 0.0024898110423237085 (4000/30729)\n",
            "loss : 0.0005137620028108358 (4800/30729)\n",
            "loss : 0.0017042960971593857 (5600/30729)\n",
            "loss : 0.0004576772917062044 (6400/30729)\n",
            "loss : 0.004290898330509663 (7200/30729)\n",
            "loss : 0.0046701617538928986 (8000/30729)\n",
            "loss : 0.0019193915650248528 (8800/30729)\n",
            "loss : 0.002660455647855997 (9600/30729)\n",
            "loss : 0.0015390256885439157 (10400/30729)\n",
            "loss : 0.0020455322228372097 (11200/30729)\n",
            "loss : 0.002239760011434555 (12000/30729)\n",
            "loss : 0.0010210484033450484 (12800/30729)\n",
            "loss : 0.0007021690253168344 (13600/30729)\n",
            "loss : 0.0038245022296905518 (14400/30729)\n",
            "loss : 0.0033262690994888544 (15200/30729)\n",
            "loss : 0.0012114564888179302 (16000/30729)\n",
            "loss : 0.0001333738910034299 (16800/30729)\n",
            "loss : 0.00039377130451612175 (17600/30729)\n",
            "loss : 0.002033284865319729 (18400/30729)\n",
            "loss : 0.0011011239839717746 (19200/30729)\n",
            "loss : 0.0018993702251464128 (20000/30729)\n",
            "loss : 0.0010650468757376075 (20800/30729)\n",
            "loss : 0.002595469355583191 (21600/30729)\n",
            "loss : 0.003017461858689785 (22400/30729)\n",
            "loss : 0.003960030153393745 (23200/30729)\n",
            "loss : 0.0008814232423901558 (24000/30729)\n",
            "loss : 0.002194915898144245 (24800/30729)\n",
            "loss : 0.0015579325845465064 (25600/30729)\n",
            "loss : 0.0032054982148110867 (26400/30729)\n",
            "loss : 0.002053193747997284 (27200/30729)\n",
            "loss : 7.019229087745771e-06 (28000/30729)\n",
            "loss : 0.0032119571696966887 (28800/30729)\n",
            "loss : 0.00324369128793478 (29600/30729)\n",
            "loss : 0.0024732088204473257 (30400/30729)\n",
            "Test loss : 0.0009270973241655156\n",
            "\n",
            "epoch : 9\n",
            "---------------------------\n",
            "loss : 0.0015205126255750656 (0/30729)\n",
            "loss : 0.001855430076830089 (800/30729)\n",
            "loss : 0.0002542530419304967 (1600/30729)\n",
            "loss : 0.002733585424721241 (2400/30729)\n",
            "loss : 0.002009481657296419 (3200/30729)\n",
            "loss : 0.002414545975625515 (4000/30729)\n",
            "loss : 0.0004064689564984292 (4800/30729)\n",
            "loss : 0.0017168850172311068 (5600/30729)\n",
            "loss : 0.00046648879651911557 (6400/30729)\n",
            "loss : 0.004256611689925194 (7200/30729)\n",
            "loss : 0.004629692528396845 (8000/30729)\n",
            "loss : 0.0018929149955511093 (8800/30729)\n",
            "loss : 0.002678163815289736 (9600/30729)\n",
            "loss : 0.001493076328188181 (10400/30729)\n",
            "loss : 0.001990493154153228 (11200/30729)\n",
            "loss : 0.002216959837824106 (12000/30729)\n",
            "loss : 0.0010098428465425968 (12800/30729)\n",
            "loss : 0.0006994798895902932 (13600/30729)\n",
            "loss : 0.003818161552771926 (14400/30729)\n",
            "loss : 0.0032776514999568462 (15200/30729)\n",
            "loss : 0.0012118953745812178 (16000/30729)\n",
            "loss : 0.00011145855387439951 (16800/30729)\n",
            "loss : 0.00036222257767803967 (17600/30729)\n",
            "loss : 0.0020177853293716908 (18400/30729)\n",
            "loss : 0.0010372359538450837 (19200/30729)\n",
            "loss : 0.00181931525003165 (20000/30729)\n",
            "loss : 0.0010212647030130029 (20800/30729)\n",
            "loss : 0.0024566897191107273 (21600/30729)\n",
            "loss : 0.0030031767673790455 (22400/30729)\n",
            "loss : 0.003920318558812141 (23200/30729)\n",
            "loss : 0.000878534687217325 (24000/30729)\n",
            "loss : 0.002154252026230097 (24800/30729)\n",
            "loss : 0.001511013600975275 (25600/30729)\n",
            "loss : 0.003138774773105979 (26400/30729)\n",
            "loss : 0.002055852673947811 (27200/30729)\n",
            "loss : 7.2932739385578316e-06 (28000/30729)\n",
            "loss : 0.00317553011700511 (28800/30729)\n",
            "loss : 0.0031254133209586143 (29600/30729)\n",
            "loss : 0.0024454747326672077 (30400/30729)\n",
            "Test loss : 0.0008769662817940116\n",
            "\n",
            "epoch : 10\n",
            "---------------------------\n",
            "loss : 0.0014890898019075394 (0/30729)\n",
            "loss : 0.0018914798274636269 (800/30729)\n",
            "loss : 0.00024946045596152544 (1600/30729)\n",
            "loss : 0.0027059181593358517 (2400/30729)\n",
            "loss : 0.0020074467174708843 (3200/30729)\n",
            "loss : 0.0025871056132018566 (4000/30729)\n",
            "loss : 0.00040310091571882367 (4800/30729)\n",
            "loss : 0.0017810752615332603 (5600/30729)\n",
            "loss : 0.00044272461673244834 (6400/30729)\n",
            "loss : 0.004150555469095707 (7200/30729)\n",
            "loss : 0.0044413236901164055 (8000/30729)\n",
            "loss : 0.0018693073652684689 (8800/30729)\n",
            "loss : 0.002687241183593869 (9600/30729)\n",
            "loss : 0.001380233676172793 (10400/30729)\n",
            "loss : 0.002153321634978056 (11200/30729)\n",
            "loss : 0.0022110918071120977 (12000/30729)\n",
            "loss : 0.0010733612580224872 (12800/30729)\n",
            "loss : 0.0006978571182116866 (13600/30729)\n",
            "loss : 0.0036375655326992273 (14400/30729)\n",
            "loss : 0.0031926240772008896 (15200/30729)\n",
            "loss : 0.0011540756095200777 (16000/30729)\n",
            "loss : 0.00011432075552875176 (16800/30729)\n",
            "loss : 0.0003433910314925015 (17600/30729)\n",
            "loss : 0.0020549031905829906 (18400/30729)\n",
            "loss : 0.0010692925425246358 (19200/30729)\n",
            "loss : 0.0017916618380695581 (20000/30729)\n",
            "loss : 0.00100662000477314 (20800/30729)\n",
            "loss : 0.002505894284695387 (21600/30729)\n",
            "loss : 0.0029640449211001396 (22400/30729)\n",
            "loss : 0.003919284790754318 (23200/30729)\n",
            "loss : 0.0009031449444591999 (24000/30729)\n",
            "loss : 0.002122157486155629 (24800/30729)\n",
            "loss : 0.0016901982016861439 (25600/30729)\n",
            "loss : 0.003149924799799919 (26400/30729)\n",
            "loss : 0.0020467527210712433 (27200/30729)\n",
            "loss : 6.152031346573494e-06 (28000/30729)\n",
            "loss : 0.003083194838836789 (28800/30729)\n",
            "loss : 0.0030819294042885303 (29600/30729)\n",
            "loss : 0.0024005696177482605 (30400/30729)\n",
            "Test loss : 0.0008740670455154032\n",
            "\n",
            "epoch : 11\n",
            "---------------------------\n",
            "loss : 0.0014419108629226685 (0/30729)\n",
            "loss : 0.0019849338568747044 (800/30729)\n",
            "loss : 0.0002503571449778974 (1600/30729)\n",
            "loss : 0.002704374259337783 (2400/30729)\n",
            "loss : 0.0020141536369919777 (3200/30729)\n",
            "loss : 0.002303351880982518 (4000/30729)\n",
            "loss : 0.00037237993092276156 (4800/30729)\n",
            "loss : 0.0016943872906267643 (5600/30729)\n",
            "loss : 0.0004234257503412664 (6400/30729)\n",
            "loss : 0.004134781192988157 (7200/30729)\n",
            "loss : 0.004439214244484901 (8000/30729)\n",
            "loss : 0.0018849163316190243 (8800/30729)\n",
            "loss : 0.0026435661129653454 (9600/30729)\n",
            "loss : 0.0013244980946183205 (10400/30729)\n",
            "loss : 0.0019387861248105764 (11200/30729)\n",
            "loss : 0.002144288970157504 (12000/30729)\n",
            "loss : 0.0010075048776343465 (12800/30729)\n",
            "loss : 0.0006906995549798012 (13600/30729)\n",
            "loss : 0.003597291186451912 (14400/30729)\n",
            "loss : 0.003084711264818907 (15200/30729)\n",
            "loss : 0.00100357411429286 (16000/30729)\n",
            "loss : 9.2754875367973e-05 (16800/30729)\n",
            "loss : 0.0003455875557847321 (17600/30729)\n",
            "loss : 0.0018938102293759584 (18400/30729)\n",
            "loss : 0.0010057736653834581 (19200/30729)\n",
            "loss : 0.0016931399004533887 (20000/30729)\n",
            "loss : 0.0009766144212335348 (20800/30729)\n",
            "loss : 0.0023922924883663654 (21600/30729)\n",
            "loss : 0.0029492899775505066 (22400/30729)\n",
            "loss : 0.003903099801391363 (23200/30729)\n",
            "loss : 0.0008737766183912754 (24000/30729)\n",
            "loss : 0.002055923920124769 (24800/30729)\n",
            "loss : 0.001586758065968752 (25600/30729)\n",
            "loss : 0.003025958314538002 (26400/30729)\n",
            "loss : 0.0020645642653107643 (27200/30729)\n",
            "loss : 8.605292350694072e-06 (28000/30729)\n",
            "loss : 0.0030232411809265614 (28800/30729)\n",
            "loss : 0.002990648616105318 (29600/30729)\n",
            "loss : 0.0023068098817020655 (30400/30729)\n",
            "Test loss : 0.0008476329530822113\n",
            "\n",
            "epoch : 12\n",
            "---------------------------\n",
            "loss : 0.0013118770439177752 (0/30729)\n",
            "loss : 0.0019476505694910884 (800/30729)\n",
            "loss : 0.0002714279689826071 (1600/30729)\n",
            "loss : 0.002653703326359391 (2400/30729)\n",
            "loss : 0.002030294155701995 (3200/30729)\n",
            "loss : 0.0022648153826594353 (4000/30729)\n",
            "loss : 0.00039740282227285206 (4800/30729)\n",
            "loss : 0.0016055270098149776 (5600/30729)\n",
            "loss : 0.0004340214654803276 (6400/30729)\n",
            "loss : 0.004210484679788351 (7200/30729)\n",
            "loss : 0.004467325285077095 (8000/30729)\n",
            "loss : 0.001852883375249803 (8800/30729)\n",
            "loss : 0.0026861275546252728 (9600/30729)\n",
            "loss : 0.001286754384636879 (10400/30729)\n",
            "loss : 0.001964178401976824 (11200/30729)\n",
            "loss : 0.0021088423673063517 (12000/30729)\n",
            "loss : 0.0010117278434336185 (12800/30729)\n",
            "loss : 0.0006899549625813961 (13600/30729)\n",
            "loss : 0.0035132949706166983 (14400/30729)\n",
            "loss : 0.003048623912036419 (15200/30729)\n",
            "loss : 0.000997044495306909 (16000/30729)\n",
            "loss : 9.17816796572879e-05 (16800/30729)\n",
            "loss : 0.0003509382950142026 (17600/30729)\n",
            "loss : 0.0018080880399793386 (18400/30729)\n",
            "loss : 0.00104375253431499 (19200/30729)\n",
            "loss : 0.001655123895034194 (20000/30729)\n",
            "loss : 0.0009560128091834486 (20800/30729)\n",
            "loss : 0.002328581875190139 (21600/30729)\n",
            "loss : 0.0026502683758735657 (22400/30729)\n",
            "loss : 0.0038615541998296976 (23200/30729)\n",
            "loss : 0.0008550447528250515 (24000/30729)\n",
            "loss : 0.0020248116925358772 (24800/30729)\n",
            "loss : 0.001610748702660203 (25600/30729)\n",
            "loss : 0.002939485711976886 (26400/30729)\n",
            "loss : 0.002044317312538624 (27200/30729)\n",
            "loss : 7.537305009464035e-06 (28000/30729)\n",
            "loss : 0.0029703215695917606 (28800/30729)\n",
            "loss : 0.0029752347618341446 (29600/30729)\n",
            "loss : 0.0023068971931934357 (30400/30729)\n",
            "Test loss : 0.0008149751229211688\n",
            "\n",
            "epoch : 13\n",
            "---------------------------\n",
            "loss : 0.0013646334409713745 (0/30729)\n",
            "loss : 0.0019191589672118425 (800/30729)\n",
            "loss : 0.00026240223087370396 (1600/30729)\n",
            "loss : 0.002622472122311592 (2400/30729)\n",
            "loss : 0.002041528932750225 (3200/30729)\n",
            "loss : 0.0027139312587678432 (4000/30729)\n",
            "loss : 0.0004224211152177304 (4800/30729)\n",
            "loss : 0.0017009384464472532 (5600/30729)\n",
            "loss : 0.0004228781908750534 (6400/30729)\n",
            "loss : 0.0040796007961034775 (7200/30729)\n",
            "loss : 0.004420630633831024 (8000/30729)\n",
            "loss : 0.0018242222722619772 (8800/30729)\n",
            "loss : 0.0026396908797323704 (9600/30729)\n",
            "loss : 0.0012923007598146796 (10400/30729)\n",
            "loss : 0.0018685440300032496 (11200/30729)\n",
            "loss : 0.002082420513033867 (12000/30729)\n",
            "loss : 0.0010035643354058266 (12800/30729)\n",
            "loss : 0.0006776713998988271 (13600/30729)\n",
            "loss : 0.003326450940221548 (14400/30729)\n",
            "loss : 0.002980258781462908 (15200/30729)\n",
            "loss : 0.0009621742647141218 (16000/30729)\n",
            "loss : 9.424597374163568e-05 (16800/30729)\n",
            "loss : 0.000385013670893386 (17600/30729)\n",
            "loss : 0.0017912588082253933 (18400/30729)\n",
            "loss : 0.0009925089543685317 (19200/30729)\n",
            "loss : 0.001653108629398048 (20000/30729)\n",
            "loss : 0.0009532661642879248 (20800/30729)\n",
            "loss : 0.0022990494035184383 (21600/30729)\n",
            "loss : 0.0026283988263458014 (22400/30729)\n",
            "loss : 0.003879137570038438 (23200/30729)\n",
            "loss : 0.000824860529974103 (24000/30729)\n",
            "loss : 0.0019962491933256388 (24800/30729)\n",
            "loss : 0.0014222434256225824 (25600/30729)\n",
            "loss : 0.002874143421649933 (26400/30729)\n",
            "loss : 0.002034088596701622 (27200/30729)\n",
            "loss : 1.1323832950438373e-05 (28000/30729)\n",
            "loss : 0.0029073525220155716 (28800/30729)\n",
            "loss : 0.0028708672616630793 (29600/30729)\n",
            "loss : 0.0022584092803299427 (30400/30729)\n",
            "Test loss : 0.000797713131760247\n",
            "\n",
            "epoch : 14\n",
            "---------------------------\n",
            "loss : 0.0012454944662749767 (0/30729)\n",
            "loss : 0.0018228428671136498 (800/30729)\n",
            "loss : 0.00027012164355255663 (1600/30729)\n",
            "loss : 0.0025664526037871838 (2400/30729)\n",
            "loss : 0.002046627225354314 (3200/30729)\n",
            "loss : 0.002224439289420843 (4000/30729)\n",
            "loss : 0.00037990370765328407 (4800/30729)\n",
            "loss : 0.0015680204378440976 (5600/30729)\n",
            "loss : 0.00042685004882514477 (6400/30729)\n",
            "loss : 0.0041403332725167274 (7200/30729)\n",
            "loss : 0.004273948259651661 (8000/30729)\n",
            "loss : 0.0018044003518298268 (8800/30729)\n",
            "loss : 0.0025988705456256866 (9600/30729)\n",
            "loss : 0.0012281965464353561 (10400/30729)\n",
            "loss : 0.002037706784904003 (11200/30729)\n",
            "loss : 0.0021078314166516066 (12000/30729)\n",
            "loss : 0.0010224025463685393 (12800/30729)\n",
            "loss : 0.0006761371623724699 (13600/30729)\n",
            "loss : 0.0033108012285083532 (14400/30729)\n",
            "loss : 0.0029488832224160433 (15200/30729)\n",
            "loss : 0.0009303201222792268 (16000/30729)\n",
            "loss : 8.467849693261087e-05 (16800/30729)\n",
            "loss : 0.0004023756773676723 (17600/30729)\n",
            "loss : 0.001750375609844923 (18400/30729)\n",
            "loss : 0.0010000972542911768 (19200/30729)\n",
            "loss : 0.0016350807854905725 (20000/30729)\n",
            "loss : 0.0009376711677759886 (20800/30729)\n",
            "loss : 0.0022360130678862333 (21600/30729)\n",
            "loss : 0.0025634646881371737 (22400/30729)\n",
            "loss : 0.0038569392636418343 (23200/30729)\n",
            "loss : 0.0008068780298344791 (24000/30729)\n",
            "loss : 0.002012765035033226 (24800/30729)\n",
            "loss : 0.001443411922082305 (25600/30729)\n",
            "loss : 0.0028372660744935274 (26400/30729)\n",
            "loss : 0.002033091615885496 (27200/30729)\n",
            "loss : 9.675330147729255e-06 (28000/30729)\n",
            "loss : 0.0028830785304307938 (28800/30729)\n",
            "loss : 0.002854722086340189 (29600/30729)\n",
            "loss : 0.0022386275231838226 (30400/30729)\n",
            "Test loss : 0.0007823705673217773\n",
            "\n",
            "epoch : 15\n",
            "---------------------------\n",
            "loss : 0.0011943825520575047 (0/30729)\n",
            "loss : 0.0017554099904373288 (800/30729)\n",
            "loss : 0.0002652688999660313 (1600/30729)\n",
            "loss : 0.002552497899159789 (2400/30729)\n",
            "loss : 0.002018001629039645 (3200/30729)\n",
            "loss : 0.002125402679666877 (4000/30729)\n",
            "loss : 0.000370387511793524 (4800/30729)\n",
            "loss : 0.0015143699711188674 (5600/30729)\n",
            "loss : 0.00042587562347762287 (6400/30729)\n",
            "loss : 0.0040743849240243435 (7200/30729)\n",
            "loss : 0.004151271656155586 (8000/30729)\n",
            "loss : 0.0017717999871820211 (8800/30729)\n",
            "loss : 0.0025321240536868572 (9600/30729)\n",
            "loss : 0.001201108330860734 (10400/30729)\n",
            "loss : 0.0020194605458527803 (11200/30729)\n",
            "loss : 0.002017510123550892 (12000/30729)\n",
            "loss : 0.0010227581951767206 (12800/30729)\n",
            "loss : 0.0006799772381782532 (13600/30729)\n",
            "loss : 0.0031993663869798183 (14400/30729)\n",
            "loss : 0.002927046734839678 (15200/30729)\n",
            "loss : 0.0009291038732044399 (16000/30729)\n",
            "loss : 8.129607158480212e-05 (16800/30729)\n",
            "loss : 0.0003949932288378477 (17600/30729)\n",
            "loss : 0.0017362399958074093 (18400/30729)\n",
            "loss : 0.0009763492271304131 (19200/30729)\n",
            "loss : 0.0016300370916724205 (20000/30729)\n",
            "loss : 0.0009354610810987651 (20800/30729)\n",
            "loss : 0.0022089809644967318 (21600/30729)\n",
            "loss : 0.002562990179285407 (22400/30729)\n",
            "loss : 0.00382577208802104 (23200/30729)\n",
            "loss : 0.0008018139633350074 (24000/30729)\n",
            "loss : 0.0019646254368126392 (24800/30729)\n",
            "loss : 0.0014870798913761973 (25600/30729)\n",
            "loss : 0.002797410823404789 (26400/30729)\n",
            "loss : 0.0020211946684867144 (27200/30729)\n",
            "loss : 7.493343218811788e-06 (28000/30729)\n",
            "loss : 0.0028197907377034426 (28800/30729)\n",
            "loss : 0.002847425639629364 (29600/30729)\n",
            "loss : 0.002218242734670639 (30400/30729)\n",
            "Test loss : 0.0007749415963189676\n",
            "\n",
            "epoch : 16\n",
            "---------------------------\n",
            "loss : 0.0011550318449735641 (0/30729)\n",
            "loss : 0.0017604728927835822 (800/30729)\n",
            "loss : 0.0002613062970340252 (1600/30729)\n",
            "loss : 0.0025944074150174856 (2400/30729)\n",
            "loss : 0.001998698338866234 (3200/30729)\n",
            "loss : 0.0020767131354659796 (4000/30729)\n",
            "loss : 0.00037273167981766164 (4800/30729)\n",
            "loss : 0.001489348360337317 (5600/30729)\n",
            "loss : 0.0004260937566868961 (6400/30729)\n",
            "loss : 0.00399436429142952 (7200/30729)\n",
            "loss : 0.00408164830878377 (8000/30729)\n",
            "loss : 0.0017642872408032417 (8800/30729)\n",
            "loss : 0.0025047422386705875 (9600/30729)\n",
            "loss : 0.0011923668207600713 (10400/30729)\n",
            "loss : 0.0019427102524787188 (11200/30729)\n",
            "loss : 0.001993062673136592 (12000/30729)\n",
            "loss : 0.0010025757364928722 (12800/30729)\n",
            "loss : 0.0006760734831914306 (13600/30729)\n",
            "loss : 0.0031101852655410767 (14400/30729)\n",
            "loss : 0.002880675019696355 (15200/30729)\n",
            "loss : 0.0009145071962848306 (16000/30729)\n",
            "loss : 8.405142580159009e-05 (16800/30729)\n",
            "loss : 0.00037907803198322654 (17600/30729)\n",
            "loss : 0.0017095244256779552 (18400/30729)\n",
            "loss : 0.0009657451882958412 (19200/30729)\n",
            "loss : 0.001619506161659956 (20000/30729)\n",
            "loss : 0.0009431185899302363 (20800/30729)\n",
            "loss : 0.0022159162908792496 (21600/30729)\n",
            "loss : 0.0025885498616844416 (22400/30729)\n",
            "loss : 0.0038534505292773247 (23200/30729)\n",
            "loss : 0.0007865294464863837 (24000/30729)\n",
            "loss : 0.0019740057177841663 (24800/30729)\n",
            "loss : 0.001480537699535489 (25600/30729)\n",
            "loss : 0.002831116085872054 (26400/30729)\n",
            "loss : 0.0020152076613157988 (27200/30729)\n",
            "loss : 5.892032277188264e-06 (28000/30729)\n",
            "loss : 0.0028199399821460247 (28800/30729)\n",
            "loss : 0.0028418549336493015 (29600/30729)\n",
            "loss : 0.0021755765192210674 (30400/30729)\n"
          ]
        },
        {
          "output_type": "error",
          "ename": "KeyboardInterrupt",
          "evalue": "ignored",
          "traceback": [
            "\u001b[0;31m---------------------------------------------------------------------------\u001b[0m",
            "\u001b[0;31mKeyboardInterrupt\u001b[0m                         Traceback (most recent call last)",
            "\u001b[0;32m<ipython-input-68-f62cf9f323ad>\u001b[0m in \u001b[0;36m<module>\u001b[0;34m\u001b[0m\n\u001b[1;32m      4\u001b[0m     \u001b[0mmodel\u001b[0m\u001b[0;34m.\u001b[0m\u001b[0mtrain\u001b[0m\u001b[0;34m(\u001b[0m\u001b[0;34m)\u001b[0m\u001b[0;34m\u001b[0m\u001b[0;34m\u001b[0m\u001b[0m\n\u001b[1;32m      5\u001b[0m     \u001b[0mtrain\u001b[0m\u001b[0;34m(\u001b[0m\u001b[0mtrain_dataloader\u001b[0m\u001b[0;34m,\u001b[0m \u001b[0mmodel\u001b[0m\u001b[0;34m,\u001b[0m \u001b[0mloss_fn\u001b[0m\u001b[0;34m,\u001b[0m \u001b[0moptimizer\u001b[0m\u001b[0;34m)\u001b[0m\u001b[0;34m\u001b[0m\u001b[0;34m\u001b[0m\u001b[0m\n\u001b[0;32m----> 6\u001b[0;31m     \u001b[0mtest\u001b[0m\u001b[0;34m(\u001b[0m\u001b[0mtest_dataloader\u001b[0m\u001b[0;34m,\u001b[0m \u001b[0mmodel\u001b[0m\u001b[0;34m,\u001b[0m \u001b[0mloss_fn\u001b[0m\u001b[0;34m)\u001b[0m\u001b[0;34m\u001b[0m\u001b[0;34m\u001b[0m\u001b[0m\n\u001b[0m\u001b[1;32m      7\u001b[0m     \u001b[0mtorch\u001b[0m\u001b[0;34m.\u001b[0m\u001b[0mcuda\u001b[0m\u001b[0;34m.\u001b[0m\u001b[0mempty_cache\u001b[0m\u001b[0;34m(\u001b[0m\u001b[0;34m)\u001b[0m\u001b[0;34m\u001b[0m\u001b[0;34m\u001b[0m\u001b[0m\n",
            "\u001b[0;32m<ipython-input-67-4e7c88084518>\u001b[0m in \u001b[0;36mtest\u001b[0;34m(dataloader, model, loss_fn)\u001b[0m\n\u001b[1;32m      3\u001b[0m     \u001b[0mtest_loss\u001b[0m \u001b[0;34m=\u001b[0m \u001b[0;36m0\u001b[0m\u001b[0;34m\u001b[0m\u001b[0;34m\u001b[0m\u001b[0m\n\u001b[1;32m      4\u001b[0m     \u001b[0;32mwith\u001b[0m \u001b[0mtorch\u001b[0m\u001b[0;34m.\u001b[0m\u001b[0mno_grad\u001b[0m\u001b[0;34m(\u001b[0m\u001b[0;34m)\u001b[0m\u001b[0;34m:\u001b[0m\u001b[0;34m\u001b[0m\u001b[0;34m\u001b[0m\u001b[0m\n\u001b[0;32m----> 5\u001b[0;31m         \u001b[0;32mfor\u001b[0m \u001b[0mX\u001b[0m\u001b[0;34m,\u001b[0m \u001b[0my\u001b[0m \u001b[0;32min\u001b[0m \u001b[0mdataloader\u001b[0m\u001b[0;34m:\u001b[0m\u001b[0;34m\u001b[0m\u001b[0;34m\u001b[0m\u001b[0m\n\u001b[0m\u001b[1;32m      6\u001b[0m             \u001b[0mX\u001b[0m\u001b[0;34m,\u001b[0m \u001b[0my\u001b[0m \u001b[0;34m=\u001b[0m \u001b[0mX\u001b[0m\u001b[0;34m.\u001b[0m\u001b[0mto\u001b[0m\u001b[0;34m(\u001b[0m\u001b[0mdevice\u001b[0m\u001b[0;34m)\u001b[0m\u001b[0;34m,\u001b[0m \u001b[0my\u001b[0m\u001b[0;34m.\u001b[0m\u001b[0mto\u001b[0m\u001b[0;34m(\u001b[0m\u001b[0mdevice\u001b[0m\u001b[0;34m)\u001b[0m\u001b[0;34m\u001b[0m\u001b[0;34m\u001b[0m\u001b[0m\n\u001b[1;32m      7\u001b[0m             \u001b[0mpred\u001b[0m \u001b[0;34m=\u001b[0m \u001b[0mmodel\u001b[0m\u001b[0;34m(\u001b[0m\u001b[0mX\u001b[0m\u001b[0;34m)\u001b[0m\u001b[0;34m\u001b[0m\u001b[0;34m\u001b[0m\u001b[0m\n",
            "\u001b[0;32m/usr/local/lib/python3.8/dist-packages/torch/utils/data/dataloader.py\u001b[0m in \u001b[0;36m__next__\u001b[0;34m(self)\u001b[0m\n\u001b[1;32m    626\u001b[0m                 \u001b[0;31m# TODO(https://github.com/pytorch/pytorch/issues/76750)\u001b[0m\u001b[0;34m\u001b[0m\u001b[0;34m\u001b[0m\u001b[0;34m\u001b[0m\u001b[0m\n\u001b[1;32m    627\u001b[0m                 \u001b[0mself\u001b[0m\u001b[0;34m.\u001b[0m\u001b[0m_reset\u001b[0m\u001b[0;34m(\u001b[0m\u001b[0;34m)\u001b[0m  \u001b[0;31m# type: ignore[call-arg]\u001b[0m\u001b[0;34m\u001b[0m\u001b[0;34m\u001b[0m\u001b[0m\n\u001b[0;32m--> 628\u001b[0;31m             \u001b[0mdata\u001b[0m \u001b[0;34m=\u001b[0m \u001b[0mself\u001b[0m\u001b[0;34m.\u001b[0m\u001b[0m_next_data\u001b[0m\u001b[0;34m(\u001b[0m\u001b[0;34m)\u001b[0m\u001b[0;34m\u001b[0m\u001b[0;34m\u001b[0m\u001b[0m\n\u001b[0m\u001b[1;32m    629\u001b[0m             \u001b[0mself\u001b[0m\u001b[0;34m.\u001b[0m\u001b[0m_num_yielded\u001b[0m \u001b[0;34m+=\u001b[0m \u001b[0;36m1\u001b[0m\u001b[0;34m\u001b[0m\u001b[0;34m\u001b[0m\u001b[0m\n\u001b[1;32m    630\u001b[0m             \u001b[0;32mif\u001b[0m \u001b[0mself\u001b[0m\u001b[0;34m.\u001b[0m\u001b[0m_dataset_kind\u001b[0m \u001b[0;34m==\u001b[0m \u001b[0m_DatasetKind\u001b[0m\u001b[0;34m.\u001b[0m\u001b[0mIterable\u001b[0m \u001b[0;32mand\u001b[0m\u001b[0;31m \u001b[0m\u001b[0;31m\\\u001b[0m\u001b[0;34m\u001b[0m\u001b[0;34m\u001b[0m\u001b[0m\n",
            "\u001b[0;32m/usr/local/lib/python3.8/dist-packages/torch/utils/data/dataloader.py\u001b[0m in \u001b[0;36m_next_data\u001b[0;34m(self)\u001b[0m\n\u001b[1;32m    669\u001b[0m     \u001b[0;32mdef\u001b[0m \u001b[0m_next_data\u001b[0m\u001b[0;34m(\u001b[0m\u001b[0mself\u001b[0m\u001b[0;34m)\u001b[0m\u001b[0;34m:\u001b[0m\u001b[0;34m\u001b[0m\u001b[0;34m\u001b[0m\u001b[0m\n\u001b[1;32m    670\u001b[0m         \u001b[0mindex\u001b[0m \u001b[0;34m=\u001b[0m \u001b[0mself\u001b[0m\u001b[0;34m.\u001b[0m\u001b[0m_next_index\u001b[0m\u001b[0;34m(\u001b[0m\u001b[0;34m)\u001b[0m  \u001b[0;31m# may raise StopIteration\u001b[0m\u001b[0;34m\u001b[0m\u001b[0;34m\u001b[0m\u001b[0m\n\u001b[0;32m--> 671\u001b[0;31m         \u001b[0mdata\u001b[0m \u001b[0;34m=\u001b[0m \u001b[0mself\u001b[0m\u001b[0;34m.\u001b[0m\u001b[0m_dataset_fetcher\u001b[0m\u001b[0;34m.\u001b[0m\u001b[0mfetch\u001b[0m\u001b[0;34m(\u001b[0m\u001b[0mindex\u001b[0m\u001b[0;34m)\u001b[0m  \u001b[0;31m# may raise StopIteration\u001b[0m\u001b[0;34m\u001b[0m\u001b[0;34m\u001b[0m\u001b[0m\n\u001b[0m\u001b[1;32m    672\u001b[0m         \u001b[0;32mif\u001b[0m \u001b[0mself\u001b[0m\u001b[0;34m.\u001b[0m\u001b[0m_pin_memory\u001b[0m\u001b[0;34m:\u001b[0m\u001b[0;34m\u001b[0m\u001b[0;34m\u001b[0m\u001b[0m\n\u001b[1;32m    673\u001b[0m             \u001b[0mdata\u001b[0m \u001b[0;34m=\u001b[0m \u001b[0m_utils\u001b[0m\u001b[0;34m.\u001b[0m\u001b[0mpin_memory\u001b[0m\u001b[0;34m.\u001b[0m\u001b[0mpin_memory\u001b[0m\u001b[0;34m(\u001b[0m\u001b[0mdata\u001b[0m\u001b[0;34m,\u001b[0m \u001b[0mself\u001b[0m\u001b[0;34m.\u001b[0m\u001b[0m_pin_memory_device\u001b[0m\u001b[0;34m)\u001b[0m\u001b[0;34m\u001b[0m\u001b[0;34m\u001b[0m\u001b[0m\n",
            "\u001b[0;32m/usr/local/lib/python3.8/dist-packages/torch/utils/data/_utils/fetch.py\u001b[0m in \u001b[0;36mfetch\u001b[0;34m(self, possibly_batched_index)\u001b[0m\n\u001b[1;32m     56\u001b[0m                 \u001b[0mdata\u001b[0m \u001b[0;34m=\u001b[0m \u001b[0mself\u001b[0m\u001b[0;34m.\u001b[0m\u001b[0mdataset\u001b[0m\u001b[0;34m.\u001b[0m\u001b[0m__getitems__\u001b[0m\u001b[0;34m(\u001b[0m\u001b[0mpossibly_batched_index\u001b[0m\u001b[0;34m)\u001b[0m\u001b[0;34m\u001b[0m\u001b[0;34m\u001b[0m\u001b[0m\n\u001b[1;32m     57\u001b[0m             \u001b[0;32melse\u001b[0m\u001b[0;34m:\u001b[0m\u001b[0;34m\u001b[0m\u001b[0;34m\u001b[0m\u001b[0m\n\u001b[0;32m---> 58\u001b[0;31m                 \u001b[0mdata\u001b[0m \u001b[0;34m=\u001b[0m \u001b[0;34m[\u001b[0m\u001b[0mself\u001b[0m\u001b[0;34m.\u001b[0m\u001b[0mdataset\u001b[0m\u001b[0;34m[\u001b[0m\u001b[0midx\u001b[0m\u001b[0;34m]\u001b[0m \u001b[0;32mfor\u001b[0m \u001b[0midx\u001b[0m \u001b[0;32min\u001b[0m \u001b[0mpossibly_batched_index\u001b[0m\u001b[0;34m]\u001b[0m\u001b[0;34m\u001b[0m\u001b[0;34m\u001b[0m\u001b[0m\n\u001b[0m\u001b[1;32m     59\u001b[0m         \u001b[0;32melse\u001b[0m\u001b[0;34m:\u001b[0m\u001b[0;34m\u001b[0m\u001b[0;34m\u001b[0m\u001b[0m\n\u001b[1;32m     60\u001b[0m             \u001b[0mdata\u001b[0m \u001b[0;34m=\u001b[0m \u001b[0mself\u001b[0m\u001b[0;34m.\u001b[0m\u001b[0mdataset\u001b[0m\u001b[0;34m[\u001b[0m\u001b[0mpossibly_batched_index\u001b[0m\u001b[0;34m]\u001b[0m\u001b[0;34m\u001b[0m\u001b[0;34m\u001b[0m\u001b[0m\n",
            "\u001b[0;32m/usr/local/lib/python3.8/dist-packages/torch/utils/data/_utils/fetch.py\u001b[0m in \u001b[0;36m<listcomp>\u001b[0;34m(.0)\u001b[0m\n\u001b[1;32m     56\u001b[0m                 \u001b[0mdata\u001b[0m \u001b[0;34m=\u001b[0m \u001b[0mself\u001b[0m\u001b[0;34m.\u001b[0m\u001b[0mdataset\u001b[0m\u001b[0;34m.\u001b[0m\u001b[0m__getitems__\u001b[0m\u001b[0;34m(\u001b[0m\u001b[0mpossibly_batched_index\u001b[0m\u001b[0;34m)\u001b[0m\u001b[0;34m\u001b[0m\u001b[0;34m\u001b[0m\u001b[0m\n\u001b[1;32m     57\u001b[0m             \u001b[0;32melse\u001b[0m\u001b[0;34m:\u001b[0m\u001b[0;34m\u001b[0m\u001b[0;34m\u001b[0m\u001b[0m\n\u001b[0;32m---> 58\u001b[0;31m                 \u001b[0mdata\u001b[0m \u001b[0;34m=\u001b[0m \u001b[0;34m[\u001b[0m\u001b[0mself\u001b[0m\u001b[0;34m.\u001b[0m\u001b[0mdataset\u001b[0m\u001b[0;34m[\u001b[0m\u001b[0midx\u001b[0m\u001b[0;34m]\u001b[0m \u001b[0;32mfor\u001b[0m \u001b[0midx\u001b[0m \u001b[0;32min\u001b[0m \u001b[0mpossibly_batched_index\u001b[0m\u001b[0;34m]\u001b[0m\u001b[0;34m\u001b[0m\u001b[0;34m\u001b[0m\u001b[0m\n\u001b[0m\u001b[1;32m     59\u001b[0m         \u001b[0;32melse\u001b[0m\u001b[0;34m:\u001b[0m\u001b[0;34m\u001b[0m\u001b[0;34m\u001b[0m\u001b[0m\n\u001b[1;32m     60\u001b[0m             \u001b[0mdata\u001b[0m \u001b[0;34m=\u001b[0m \u001b[0mself\u001b[0m\u001b[0;34m.\u001b[0m\u001b[0mdataset\u001b[0m\u001b[0;34m[\u001b[0m\u001b[0mpossibly_batched_index\u001b[0m\u001b[0;34m]\u001b[0m\u001b[0;34m\u001b[0m\u001b[0;34m\u001b[0m\u001b[0m\n",
            "\u001b[0;32m<ipython-input-55-d6930ecc2852>\u001b[0m in \u001b[0;36m__getitem__\u001b[0;34m(self, idx)\u001b[0m\n\u001b[1;32m     32\u001b[0m         \u001b[0;32melse\u001b[0m\u001b[0;34m:\u001b[0m\u001b[0;34m\u001b[0m\u001b[0;34m\u001b[0m\u001b[0m\n\u001b[1;32m     33\u001b[0m             \u001b[0mbase_music\u001b[0m \u001b[0;34m=\u001b[0m \u001b[0mself\u001b[0m\u001b[0;34m.\u001b[0m\u001b[0mmusic_list\u001b[0m\u001b[0;34m[\u001b[0m\u001b[0midx\u001b[0m\u001b[0;34m]\u001b[0m\u001b[0;34m\u001b[0m\u001b[0;34m\u001b[0m\u001b[0m\n\u001b[0;32m---> 34\u001b[0;31m             \u001b[0mbase_music\u001b[0m \u001b[0;34m=\u001b[0m \u001b[0mnp\u001b[0m\u001b[0;34m.\u001b[0m\u001b[0mload\u001b[0m\u001b[0;34m(\u001b[0m\u001b[0mbase_music\u001b[0m\u001b[0;34m)\u001b[0m\u001b[0;34m\u001b[0m\u001b[0;34m\u001b[0m\u001b[0m\n\u001b[0m\u001b[1;32m     35\u001b[0m             \u001b[0mbase_music\u001b[0m \u001b[0;34m=\u001b[0m \u001b[0mnp\u001b[0m\u001b[0;34m.\u001b[0m\u001b[0mstack\u001b[0m\u001b[0;34m(\u001b[0m\u001b[0;34m[\u001b[0m\u001b[0mbase_music\u001b[0m\u001b[0;34m[\u001b[0m\u001b[0;34m:\u001b[0m\u001b[0mself\u001b[0m\u001b[0;34m.\u001b[0m\u001b[0mcrop_size\u001b[0m\u001b[0;34m]\u001b[0m\u001b[0;34m]\u001b[0m\u001b[0;34m)\u001b[0m\u001b[0;34m\u001b[0m\u001b[0;34m\u001b[0m\u001b[0m\n\u001b[1;32m     36\u001b[0m \u001b[0;34m\u001b[0m\u001b[0m\n",
            "\u001b[0;32m/usr/local/lib/python3.8/dist-packages/numpy/lib/npyio.py\u001b[0m in \u001b[0;36mload\u001b[0;34m(file, mmap_mode, allow_pickle, fix_imports, encoding)\u001b[0m\n\u001b[1;32m    438\u001b[0m                 \u001b[0;32mreturn\u001b[0m \u001b[0mformat\u001b[0m\u001b[0;34m.\u001b[0m\u001b[0mopen_memmap\u001b[0m\u001b[0;34m(\u001b[0m\u001b[0mfile\u001b[0m\u001b[0;34m,\u001b[0m \u001b[0mmode\u001b[0m\u001b[0;34m=\u001b[0m\u001b[0mmmap_mode\u001b[0m\u001b[0;34m)\u001b[0m\u001b[0;34m\u001b[0m\u001b[0;34m\u001b[0m\u001b[0m\n\u001b[1;32m    439\u001b[0m             \u001b[0;32melse\u001b[0m\u001b[0;34m:\u001b[0m\u001b[0;34m\u001b[0m\u001b[0;34m\u001b[0m\u001b[0m\n\u001b[0;32m--> 440\u001b[0;31m                 return format.read_array(fid, allow_pickle=allow_pickle,\n\u001b[0m\u001b[1;32m    441\u001b[0m                                          pickle_kwargs=pickle_kwargs)\n\u001b[1;32m    442\u001b[0m         \u001b[0;32melse\u001b[0m\u001b[0;34m:\u001b[0m\u001b[0;34m\u001b[0m\u001b[0;34m\u001b[0m\u001b[0m\n",
            "\u001b[0;32m/usr/local/lib/python3.8/dist-packages/numpy/lib/format.py\u001b[0m in \u001b[0;36mread_array\u001b[0;34m(fp, allow_pickle, pickle_kwargs)\u001b[0m\n\u001b[1;32m    755\u001b[0m         \u001b[0;32mif\u001b[0m \u001b[0misfileobj\u001b[0m\u001b[0;34m(\u001b[0m\u001b[0mfp\u001b[0m\u001b[0;34m)\u001b[0m\u001b[0;34m:\u001b[0m\u001b[0;34m\u001b[0m\u001b[0;34m\u001b[0m\u001b[0m\n\u001b[1;32m    756\u001b[0m             \u001b[0;31m# We can use the fast fromfile() function.\u001b[0m\u001b[0;34m\u001b[0m\u001b[0;34m\u001b[0m\u001b[0;34m\u001b[0m\u001b[0m\n\u001b[0;32m--> 757\u001b[0;31m             \u001b[0marray\u001b[0m \u001b[0;34m=\u001b[0m \u001b[0mnumpy\u001b[0m\u001b[0;34m.\u001b[0m\u001b[0mfromfile\u001b[0m\u001b[0;34m(\u001b[0m\u001b[0mfp\u001b[0m\u001b[0;34m,\u001b[0m \u001b[0mdtype\u001b[0m\u001b[0;34m=\u001b[0m\u001b[0mdtype\u001b[0m\u001b[0;34m,\u001b[0m \u001b[0mcount\u001b[0m\u001b[0;34m=\u001b[0m\u001b[0mcount\u001b[0m\u001b[0;34m)\u001b[0m\u001b[0;34m\u001b[0m\u001b[0;34m\u001b[0m\u001b[0m\n\u001b[0m\u001b[1;32m    758\u001b[0m         \u001b[0;32melse\u001b[0m\u001b[0;34m:\u001b[0m\u001b[0;34m\u001b[0m\u001b[0;34m\u001b[0m\u001b[0m\n\u001b[1;32m    759\u001b[0m             \u001b[0;31m# This is not a real file. We have to read it the\u001b[0m\u001b[0;34m\u001b[0m\u001b[0;34m\u001b[0m\u001b[0;34m\u001b[0m\u001b[0m\n",
            "\u001b[0;31mKeyboardInterrupt\u001b[0m: "
          ]
        }
      ],
      "source": [
        "epochs = 30\n",
        "for t in range(epochs):\n",
        "    print(f\"epoch : {t+1}\\n---------------------------\")\n",
        "    model.train()\n",
        "    train(train_dataloader, model, loss_fn, optimizer)\n",
        "    test(test_dataloader, model, loss_fn)\n",
        "    torch.cuda.empty_cache()"
      ]
    },
    {
      "cell_type": "code",
      "execution_count": 69,
      "metadata": {
        "id": "8dzB0UYOQzb4"
      },
      "outputs": [],
      "source": [
        "torch.save(model.state_dict(), \"/content/gdrive/MyDrive/model2.pth\")"
      ]
    },
    {
      "cell_type": "code",
      "execution_count": 70,
      "metadata": {
        "id": "y2HN_gCzsZDC",
        "colab": {
          "base_uri": "https://localhost:8080/"
        },
        "outputId": "27f10e66-4fd9-4306-db86-1d4f3065e7cd"
      },
      "outputs": [
        {
          "output_type": "execute_result",
          "data": {
            "text/plain": [
              "<All keys matched successfully>"
            ]
          },
          "metadata": {},
          "execution_count": 70
        }
      ],
      "source": [
        "model_load = WaveUNet().to(device)\n",
        "model_load.load_state_dict(torch.load(\"/content/gdrive/MyDrive/model2.pth\"))"
      ]
    },
    {
      "cell_type": "code",
      "source": [
        "test_arr = torch.Tensor(test_ds[0][0]).to(device)"
      ],
      "metadata": {
        "id": "KBtXOBLlBR47"
      },
      "execution_count": 89,
      "outputs": []
    },
    {
      "cell_type": "code",
      "source": [
        "test_arr = torch.unsqueeze(test_arr, 0)"
      ],
      "metadata": {
        "id": "0AIOvfqnBZTn"
      },
      "execution_count": 92,
      "outputs": []
    },
    {
      "cell_type": "code",
      "execution_count": 94,
      "metadata": {
        "id": "5rvETVMoq4ue"
      },
      "outputs": [],
      "source": [
        "model_load.eval()\n",
        "with torch.no_grad():\n",
        "    pred = model_load(test_arr)"
      ]
    },
    {
      "cell_type": "code",
      "execution_count": 74,
      "metadata": {
        "id": "U_GFvF0QLzsK"
      },
      "outputs": [],
      "source": [
        "def write(f, sr, x, normalized=False):\n",
        "    \"\"\"numpy array to MP3\"\"\"\n",
        "    channels = 2 if (x.ndim == 2 and x.shape[1] == 2) else 1\n",
        "    if normalized:  # normalized array - each item should be a float in [-1, 1)\n",
        "        y = np.int16(x * 2 ** 15)\n",
        "    else:\n",
        "        y = np.int16(x)\n",
        "    song = pydub.AudioSegment(x.tobytes(), frame_rate=sr, sample_width=2, channels=1)\n",
        "    song.export(f, format=\"mp3\", bitrate=\"320k\")\n",
        "\n",
        "# write('/content/gdrive/MyDrive/test.mp3', 22050, np.array(splittest[0][0].cpu()), normalized=True)"
      ]
    },
    {
      "cell_type": "code",
      "source": [
        "plt.plot(test_ds[0][1][0])"
      ],
      "metadata": {
        "colab": {
          "base_uri": "https://localhost:8080/",
          "height": 283
        },
        "id": "Iuh1knGduhYM",
        "outputId": "ddef9fd2-4b57-4113-dff3-ff018d222a0d"
      },
      "execution_count": 112,
      "outputs": [
        {
          "output_type": "execute_result",
          "data": {
            "text/plain": [
              "[<matplotlib.lines.Line2D at 0x7fd419c7c280>]"
            ]
          },
          "metadata": {},
          "execution_count": 112
        },
        {
          "output_type": "display_data",
          "data": {
            "text/plain": [
              "<Figure size 432x288 with 1 Axes>"
            ],
            "image/png": "[encoded data removed]"
          },
          "metadata": {
            "needs_background": "light"
          }
        }
      ]
    },
    {
      "cell_type": "code",
      "execution_count": 113,
      "metadata": {
        "id": "0yRGTEAPsbxY",
        "colab": {
          "base_uri": "https://localhost:8080/",
          "height": 283
        },
        "outputId": "1a3619d8-f887-4c30-d610-526bfc91ae52"
      },
      "outputs": [
        {
          "output_type": "execute_result",
          "data": {
            "text/plain": [
              "[<matplotlib.lines.Line2D at 0x7fd413392b80>]"
            ]
          },
          "metadata": {},
          "execution_count": 113
        },
        {
          "output_type": "display_data",
          "data": {
            "text/plain": [
              "<Figure size 432x288 with 1 Axes>"
            ],
            "image/png": "[encoded data removed]"
          },
          "metadata": {
            "needs_background": "light"
          }
        }
      ],
      "source": [
        "plt.plot(pred[0][0].cpu())"
      ]
    },
    {
      "cell_type": "code",
      "source": [
        "import soundfile\n",
        "\n",
        "soundfile.write('/content/gdrive/MyDrive/model_out/test0.wav', \n",
        "                test_ds[0][1][0], \n",
        "                22050, \n",
        "                format='wav')\n",
        "\n",
        "soundfile.write('/content/gdrive/MyDrive/model_out/test0_out.wav', \n",
        "                pred[0][0].cpu(), \n",
        "                22050, \n",
        "                format='wav')"
      ],
      "metadata": {
        "id": "SLZkuDBaCgfu"
      },
      "execution_count": 114,
      "outputs": []
    },
    {
      "cell_type": "code",
      "execution_count": 102,
      "metadata": {
        "id": "ohw-xSC9ufG2"
      },
      "outputs": [],
      "source": [
        "write('/content/gdrive/MyDrive/test2.mp3', 22050, test_ds[0][1][1], normalized=True)"
      ]
    },
    {
      "cell_type": "code",
      "execution_count": null,
      "metadata": {
        "id": "AP8rm2DnvYfr",
        "colab": {
          "base_uri": "https://localhost:8080/"
        },
        "outputId": "d810547d-b532-4b5d-b355-c1af1c643c5f"
      },
      "outputs": [
        {
          "output_type": "execute_result",
          "data": {
            "text/plain": [
              "tensor([[-3.1242e-03, -5.1037e-03, -6.8920e-03,  ..., -9.6870e-04,\n",
              "         -8.3271e-04, -6.1841e-04],\n",
              "        [-4.6458e-03, -9.0684e-03, -1.3509e-02,  ...,  1.0061e-01,\n",
              "          8.9305e-02,  8.5974e-02],\n",
              "        [-5.0559e-03, -1.2085e-02, -2.0577e-02,  ..., -5.6188e-04,\n",
              "         -4.4316e-04, -6.3813e-05],\n",
              "        [-2.3955e-03, -6.8933e-03, -1.3077e-02,  ..., -2.9201e-04,\n",
              "         -3.5774e-04, -3.2391e-04]], device='cuda:0')"
            ]
          },
          "metadata": {},
          "execution_count": 36
        }
      ],
      "source": [
        "pred[0]"
      ]
    }
  ],
  "metadata": {
    "accelerator": "GPU",
    "colab": {
      "provenance": []
    },
    "gpuClass": "premium",
    "kernelspec": {
      "display_name": "Python 3.8.13 ('soundprocessing')",
      "language": "python",
      "name": "python3"
    },
    "language_info": {
      "codemirror_mode": {
        "name": "ipython",
        "version": 3
      },
      "file_extension": ".py",
      "mimetype": "text/x-python",
      "name": "python",
      "nbconvert_exporter": "python",
      "pygments_lexer": "ipython3",
      "version": "3.8.13 (default, Mar 28 2022, 11:38:47) \n[GCC 7.5.0]"
    },
    "vscode": {
      "interpreter": {
        "hash": "a5bbe51b3405e60c087d18985c6a5d36133bee8e93b3430261fcdb872e4da9e2"
      }
    }
  },
  "nbformat": 4,
  "nbformat_minor": 0
}