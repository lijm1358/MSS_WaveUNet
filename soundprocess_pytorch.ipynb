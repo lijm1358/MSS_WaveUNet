{
 "cells": [
  {
   "cell_type": "code",
   "execution_count": 1,
   "metadata": {},
   "outputs": [
    {
     "name": "stderr",
     "output_type": "stream",
     "text": [
      "/home/lijm1358/anaconda3/envs/soundprocessing/lib/python3.8/site-packages/tqdm/auto.py:22: TqdmWarning: IProgress not found. Please update jupyter and ipywidgets. See https://ipywidgets.readthedocs.io/en/stable/user_install.html\n",
      "  from .autonotebook import tqdm as notebook_tqdm\n"
     ]
    }
   ],
   "source": [
    "import os\n",
    "import warnings\n",
    "\n",
    "import librosa\n",
    "\n",
    "from tqdm import tqdm\n",
    "\n",
    "import numpy as np\n",
    "\n",
    "import torch\n",
    "from torch import nn, Tensor\n",
    "import torch.nn.functional as F\n",
    "\n",
    "from torch.utils.data import Dataset\n",
    "from torch.utils.data import DataLoader\n",
    "\n",
    "from torchsummary import summary\n",
    "from torchviz import make_dot"
   ]
  },
  {
   "cell_type": "code",
   "execution_count": 2,
   "metadata": {},
   "outputs": [],
   "source": [
    "class MUSDBDataset(Dataset):\n",
    "    def __init__(self, data_dir: str):\n",
    "        self.crop_size = 284672\n",
    "        self.data_dir = os.path.join(data_dir, 'data_numpy')\n",
    "        if not os.path.exists(self.data_dir) or \\\n",
    "            len([name for name in os.listdir(self.data_dir)]) < 500:\n",
    "            print(\"Data has not been saved as numpy object. Converting...\")\n",
    "            if not os.path.exists(self.data_dir):\n",
    "                os.makedirs(self.data_dir)\n",
    "            self.convert_to_numpy(data_dir, self.data_dir)\n",
    "        self.music_fulllist = self.get_filenames(self.data_dir)\n",
    "        self.music_list, self.sep_list = self.separate_source(self.music_fulllist)\n",
    "\n",
    "    def __len__(self):\n",
    "        return len(self.music_list)\n",
    "\n",
    "    def __getitem__(self, idx):\n",
    "        base_music = self.music_list[idx]\n",
    "        base_music = np.load(base_music)\n",
    "        base_music = np.stack([base_music[:self.crop_size]])\n",
    "\n",
    "        sep_music = self.sep_list[idx*4 : idx*4+4]\n",
    "        sep_music = np.stack([np.load(idx)[:self.crop_size] for idx in sep_music])\n",
    "        return base_music, sep_music\n",
    "\n",
    "    def get_filenames(self, path):\n",
    "        files_list = list()\n",
    "        for filename in os.listdir(path):\n",
    "            if not filename == \"data_numpy\":\n",
    "                files_list.append(os.path.join(path, filename))\n",
    "        return files_list\n",
    "\n",
    "    def convert_to_numpy(self, music_dir, target_dir):\n",
    "        warnings.filterwarnings('ignore')\n",
    "        music_list = self.get_filenames(music_dir)\n",
    "        for music in tqdm(music_list):\n",
    "            outfile_name = music.split(\"/\")[-1]\n",
    "            outfile_name = target_dir + \"/\" + outfile_name\n",
    "            arr, _ = librosa.load(music)\n",
    "            np.save(outfile_name, arr)\n",
    "\n",
    "    def separate_source(self, mus_list):\n",
    "        warnings.filterwarnings('ignore')\n",
    "        music_list = list()\n",
    "        sep_list = list()\n",
    "        for music in tqdm(mus_list):\n",
    "            mus_type = music.split(\".\")[-3]\n",
    "            if mus_type == '0':\n",
    "                music_list.append(music)\n",
    "            else:\n",
    "                sep_list.append(music)\n",
    "\n",
    "        return music_list, sep_list"
   ]
  },
  {
   "cell_type": "code",
   "execution_count": 3,
   "metadata": {},
   "outputs": [
    {
     "name": "stderr",
     "output_type": "stream",
     "text": [
      "100%|██████████| 500/500 [00:00<00:00, 1364445.02it/s]\n"
     ]
    }
   ],
   "source": [
    "ds = MUSDBDataset('/mnt/d/createdmusdb18/train')"
   ]
  },
  {
   "cell_type": "code",
   "execution_count": 4,
   "metadata": {},
   "outputs": [],
   "source": [
    "train_dataloader = DataLoader(ds, batch_size=4)"
   ]
  },
  {
   "cell_type": "code",
   "execution_count": 5,
   "metadata": {},
   "outputs": [],
   "source": [
    "\n",
    "class DownSampling(nn.Module):\n",
    "    def __init__(self, in_ch=1, out_ch=24, kernel_size=15, decimate: bool = True):\n",
    "        super().__init__()\n",
    "        self.net = nn.Sequential(\n",
    "            nn.Conv1d(in_ch, out_ch, kernel_size=kernel_size, padding=7),\n",
    "            nn.LeakyReLU(inplace=True),\n",
    "            nn.Conv1d(out_ch, out_ch, kernel_size=kernel_size, padding=7),\n",
    "            nn.LeakyReLU(inplace=True),\n",
    "        )\n",
    "        self.decimate = decimate\n",
    "        \n",
    "    def forward(self, x: Tensor):\n",
    "        x = self.net(x)\n",
    "        if self.decimate:\n",
    "            x = x[:, :, ::2]\n",
    "        return x"
   ]
  },
  {
   "cell_type": "code",
   "execution_count": 6,
   "metadata": {},
   "outputs": [],
   "source": [
    "class UpSampling(nn.Module):\n",
    "    def __init__(self, in_ch, out_ch, kernel_size):\n",
    "        super().__init__()\n",
    "        self.upsample = nn.Upsample(scale_factor=2, mode=\"linear\", align_corners=True)\n",
    "        self.conv = nn.Sequential(\n",
    "            nn.Conv1d(in_ch, out_ch, kernel_size=kernel_size, padding=2),\n",
    "            nn.LeakyReLU(inplace=True),\n",
    "            nn.Conv1d(out_ch, out_ch, kernel_size=kernel_size, padding=2),\n",
    "            nn.LeakyReLU(inplace=True),\n",
    "        )\n",
    "        \n",
    "    def forward(self, x, x_back):\n",
    "        x = self.upsample(x);\n",
    "        x = torch.cat([x, x_back], axis=1)\n",
    "        return self.conv(x)"
   ]
  },
  {
   "cell_type": "code",
   "execution_count": 84,
   "metadata": {},
   "outputs": [],
   "source": [
    "class WaveUNet(nn.Module):\n",
    "    def __init__(self, n_level=12):\n",
    "        super().__init__()\n",
    "        self.level = n_level\n",
    "        \n",
    "        self.layer_to_concat = []\n",
    "        \n",
    "        layers=[DownSampling(in_ch=1,out_ch=24,kernel_size=15)]\n",
    "        \n",
    "        for i in range(self.level-1):\n",
    "            layers.append(DownSampling(in_ch=24*(i+1),out_ch=24*(i+2),kernel_size=15))\n",
    "            \n",
    "        # layers.append(DownSampling(in_ch=24*(self.level), out_ch=24*(self.level+1), kernel_size=15, decimate=False))\n",
    "        layers.append(DownSampling(in_ch=24*(self.level), out_ch=24*(self.level+1), kernel_size=15))\n",
    "            \n",
    "        for i in range(self.level):\n",
    "            layers.append(UpSampling(in_ch=24*(self.level+1-i) + 24*(self.level-i), out_ch=24*(self.level-i), kernel_size=5))\n",
    "        self.net = nn.ModuleList(layers)\n",
    "    \n",
    "    def forward(self, x: Tensor):\n",
    "        for layer in self.net[0: self.level+1]:\n",
    "            self.layer_to_concat.append(x);\n",
    "            print(x.shape)\n",
    "            x = layer(x)\n",
    "        self.layer_to_concat.append(x); \n",
    "        for i, layer in enumerate(self.net[self.level+1:]):\n",
    "            print(x.shape)\n",
    "            x = self.layer_to_concat[-1];\n",
    "            x = layer(x, self.layer_to_concat[-1-i-1])\n",
    "            self.layer_to_concat[-1] = x\n",
    "        return x\n",
    "    \n",
    "    def test_print_layertoconcat(self):\n",
    "        print([i.shape for i in self.layer_to_concat])"
   ]
  },
  {
   "cell_type": "code",
   "execution_count": 85,
   "metadata": {},
   "outputs": [],
   "source": [
    "test = torch.rand((1, 1, 16384))"
   ]
  },
  {
   "cell_type": "code",
   "execution_count": 86,
   "metadata": {},
   "outputs": [
    {
     "name": "stdout",
     "output_type": "stream",
     "text": [
      "torch.Size([1, 1, 16384])\n",
      "torch.Size([1, 24, 8192])\n",
      "torch.Size([1, 48, 4096])\n",
      "torch.Size([1, 72, 2048])\n",
      "torch.Size([1, 96, 1024])\n",
      "torch.Size([1, 120, 512])\n",
      "torch.Size([1, 144, 256])\n",
      "torch.Size([1, 168, 128])\n",
      "torch.Size([1, 192, 64])\n",
      "torch.Size([1, 216, 32])\n",
      "torch.Size([1, 240, 16])\n",
      "torch.Size([1, 264, 8])\n",
      "torch.Size([1, 288, 4])\n",
      "torch.Size([1, 312, 2])\n",
      "torch.Size([1, 288, 4])\n",
      "torch.Size([1, 264, 8])\n",
      "torch.Size([1, 240, 16])\n",
      "torch.Size([1, 216, 32])\n",
      "torch.Size([1, 192, 64])\n",
      "torch.Size([1, 168, 128])\n",
      "torch.Size([1, 144, 256])\n",
      "torch.Size([1, 120, 512])\n",
      "torch.Size([1, 96, 1024])\n",
      "torch.Size([1, 72, 2048])\n",
      "torch.Size([1, 48, 4096])\n"
     ]
    }
   ],
   "source": [
    "model = WaveUNet(12)\n",
    "\n",
    "# out = model(torch.Tensor(ds[0][0]))\n",
    "out = model(test)"
   ]
  },
  {
   "cell_type": "code",
   "execution_count": 87,
   "metadata": {},
   "outputs": [
    {
     "data": {
      "text/plain": [
       "torch.Size([1, 24, 8192])"
      ]
     },
     "execution_count": 87,
     "metadata": {},
     "output_type": "execute_result"
    }
   ],
   "source": [
    "out.shape"
   ]
  },
  {
   "cell_type": "code",
   "execution_count": 59,
   "metadata": {},
   "outputs": [
    {
     "name": "stdout",
     "output_type": "stream",
     "text": [
      "[torch.Size([1, 24, 8192]), torch.Size([1, 48, 4096]), torch.Size([1, 72, 2048]), torch.Size([1, 96, 1024]), torch.Size([1, 120, 512]), torch.Size([1, 144, 256]), torch.Size([1, 168, 128]), torch.Size([1, 192, 64]), torch.Size([1, 216, 32]), torch.Size([1, 240, 16]), torch.Size([1, 264, 8]), torch.Size([1, 288, 4]), torch.Size([1, 48, 8192])]\n"
     ]
    }
   ],
   "source": [
    "model.test_print_layertoconcat()"
   ]
  },
  {
   "cell_type": "code",
   "execution_count": 35,
   "metadata": {},
   "outputs": [
    {
     "name": "stdout",
     "output_type": "stream",
     "text": [
      "shape1:  torch.Size([1, 312, 8]) , shape2:  torch.Size([1, 264, 8])\n"
     ]
    }
   ],
   "source": [
    "x1 = torch.rand(1, 312, 4)\n",
    "x2 = torch.rand(1, 264, 8)\n",
    "model2 = UpSampling(576, 240, 5)\n",
    "out2 = model2(x1, x2)"
   ]
  },
  {
   "cell_type": "code",
   "execution_count": 36,
   "metadata": {},
   "outputs": [
    {
     "data": {
      "text/plain": [
       "torch.Size([1, 240, 8])"
      ]
     },
     "execution_count": 36,
     "metadata": {},
     "output_type": "execute_result"
    }
   ],
   "source": [
    "out2.shape"
   ]
  }
 ],
 "metadata": {
  "kernelspec": {
   "display_name": "Python 3.8.13 ('soundprocessing')",
   "language": "python",
   "name": "python3"
  },
  "language_info": {
   "codemirror_mode": {
    "name": "ipython",
    "version": 3
   },
   "file_extension": ".py",
   "mimetype": "text/x-python",
   "name": "python",
   "nbconvert_exporter": "python",
   "pygments_lexer": "ipython3",
   "version": "3.8.13"
  },
  "orig_nbformat": 4,
  "vscode": {
   "interpreter": {
    "hash": "a5bbe51b3405e60c087d18985c6a5d36133bee8e93b3430261fcdb872e4da9e2"
   }
  }
 },
 "nbformat": 4,
 "nbformat_minor": 2
}
