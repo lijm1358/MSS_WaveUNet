{
 "cells": [
  {
   "cell_type": "code",
   "execution_count": 1,
   "metadata": {
    "id": "94kdUPk-LzsA"
   },
   "outputs": [
    {
     "name": "stderr",
     "output_type": "stream",
     "text": [
      "/home/lijm1358/anaconda3/envs/mlenv/lib/python3.8/site-packages/tqdm/auto.py:22: TqdmWarning: IProgress not found. Please update jupyter and ipywidgets. See https://ipywidgets.readthedocs.io/en/stable/user_install.html\n",
      "  from .autonotebook import tqdm as notebook_tqdm\n"
     ]
    }
   ],
   "source": [
    "import os\n",
    "import sys\n",
    "import warnings\n",
    "import subprocess\n",
    "from subprocess import call\n",
    "from functools import partial\n",
    "\n",
    "import librosa\n",
    "\n",
    "from tqdm import tqdm\n",
    "\n",
    "import numpy as np\n",
    "\n",
    "import torch\n",
    "from torch import nn, Tensor\n",
    "import torch.nn.functional as F\n",
    "from torch.nn.functional import pad\n",
    "\n",
    "from torch.utils.data import Dataset\n",
    "from torch.utils.data import DataLoader\n",
    "from torch.utils.data import random_split\n",
    "\n",
    "from torchmetrics.audio import SignalDistortionRatio as SDR\n",
    "\n",
    "import matplotlib.pyplot as plt\n",
    "\n",
    "import soundfile"
   ]
  },
  {
   "cell_type": "code",
   "execution_count": 32,
   "metadata": {
    "id": "mHRoNfiqLzsC"
   },
   "outputs": [],
   "source": [
    "# path_folder_in = '../dataset/train'\n",
    "# path_folder_out = '../dataset/createdmusdb18/train'\n",
    "\n",
    "# files = os.listdir(path_folder_in)\n",
    "# for file in tqdm(files, position=0, leave=True):\n",
    "#   # tqdm.write(f\"current song : {file}\")\n",
    "#   file_in = path_folder_in + '/' + file\n",
    "#   for i in range(5):\n",
    "#     filesp = file.split(\".\")\n",
    "#     filesp[-1] = f\"{i}.mp3\"\n",
    "#     filesp = \".\".join(filesp)\n",
    "#     file_out = f\"{path_folder_out}/{filesp}\"\n",
    "#     # tqdm.write(f\"processing {file_out}\", end='\\r')\n",
    "#     call(('ffmpeg', '-y', '-i', file_in, '-map', f'0:{i}', '-vn', file_out),\n",
    "#          stdout=subprocess.DEVNULL,\n",
    "#          stderr=subprocess.STDOUT)"
   ]
  },
  {
   "cell_type": "code",
   "execution_count": 33,
   "metadata": {},
   "outputs": [],
   "source": [
    "# base_dir = '../dataset/createdmusdb18/test'\n",
    "# target_dir = '../dataset/createdmusdb18/test/data_numpy'\n",
    "# music_list = os.listdir('../dataset/createdmusdb18/test')\n",
    "# music_list.sort()\n",
    "\n",
    "# warnings.filterwarnings('ignore')\n",
    "# for music in tqdm(music_list):\n",
    "#     if music != 'data_numpy' and music != 'data_numpy_split':\n",
    "#         music = os.path.join(base_dir, music)\n",
    "#         outfile_name = music.split(\"/\")[-1]\n",
    "#         outfile_name = os.path.join(target_dir, outfile_name)\n",
    "#         #print(outfile_name)\n",
    "#         arr, _ = librosa.load(music)\n",
    "#         np.save(outfile_name, arr)"
   ]
  },
  {
   "cell_type": "code",
   "execution_count": 34,
   "metadata": {
    "colab": {
     "base_uri": "https://localhost:8080/"
    },
    "id": "jw2g-pCOsE6R",
    "outputId": "5babe083-22f9-451c-cdb8-e1265ff18c9b"
   },
   "outputs": [],
   "source": [
    "# train_path = '../dataset/createdmusdb18/train/data_numpy'\n",
    "# target_path = '../dataset/createdmusdb18/train/data_numpy_split'\n",
    "# filelist = os.listdir(train_path)\n",
    "# filelist.sort()\n",
    "# song_np_full = []\n",
    "# count = 0\n",
    "# for i, filename in enumerate(tqdm(filelist)):\n",
    "#     song_np = np.load(os.path.join(train_path, filename))\n",
    "#     song_np_full.append(song_np)\n",
    "#     if i%5==4:\n",
    "#         song_np_full = np.stack(song_np_full)\n",
    "#         index = 0\n",
    "#         while index+16384 <= song_np_full.shape[1]:\n",
    "#             np.save(os.path.join(target_path, str(count)), song_np_full[:, index:index+16384])\n",
    "#             index+=16384\n",
    "#             count+=1\n",
    "#         song_np_full = []"
   ]
  },
  {
   "cell_type": "code",
   "execution_count": 2,
   "metadata": {
    "id": "X7N0hkaCLzsD"
   },
   "outputs": [],
   "source": [
    "class MUSDBDataset(Dataset):\n",
    "    def __init__(self, data_dir: str, train:bool=True):\n",
    "        self.music_fulllist = []\n",
    "        self.music_list = []\n",
    "        self.sep_list = []\n",
    "        self.data_size = 500 if train is True else 250\n",
    "        self.train = train\n",
    "        self.crop_size = 284672\n",
    "        if train:\n",
    "            self.data_dir = os.path.join(data_dir, 'data_numpy_split')\n",
    "        else:\n",
    "            self.data_dir = os.path.join(data_dir, 'data_numpy')\n",
    "        # if not os.path.exists(self.data_dir) or \\\n",
    "        #     len([name for name in os.listdir(self.data_dir)]) < self.data_size:\n",
    "        #     print(\"Data has not been saved as numpy object. Converting...\")\n",
    "        #     if not os.path.exists(self.data_dir):\n",
    "        #         os.makedirs(self.data_dir)\n",
    "        #     self.convert_to_numpy(data_dir, self.data_dir)\n",
    "        self.music_fulllist = self.get_filenames(self.data_dir)\n",
    "        if not train:\n",
    "            self.music_list, self.sep_list = self.separate_source(self.music_fulllist)\n",
    "\n",
    "    def __len__(self):\n",
    "        return len(self.music_fulllist) if self.train else len(self.music_list)\n",
    "        #return len(self.music_list)\n",
    "\n",
    "    def __getitem__(self, idx):\n",
    "        if self.train:\n",
    "            music = self.music_fulllist[idx]\n",
    "            music = np.load(music)\n",
    "            return np.expand_dims(music[0], 0), music[1:]\n",
    "        else:\n",
    "            base_music = self.music_list[idx]\n",
    "            base_music = np.load(base_music)\n",
    "            base_music = np.stack([base_music[:self.crop_size]])\n",
    "\n",
    "            sep_music = self.sep_list[idx*4 : idx*4+4]\n",
    "            sep_music = np.stack([np.load(idx)[:self.crop_size] for idx in sep_music])\n",
    "            return base_music, sep_music\n",
    "\n",
    "    def get_filenames(self, path):\n",
    "        files_list = list()\n",
    "        filenames = os.listdir(path)\n",
    "        filenames.sort()\n",
    "        for filename in filenames:\n",
    "            files_list.append(os.path.join(path, filename))\n",
    "        return files_list\n",
    "\n",
    "    def convert_to_numpy(self, music_dir, target_dir):\n",
    "        warnings.filterwarnings('ignore')\n",
    "        music_list = self.get_filenames(music_dir)\n",
    "        for music in tqdm(music_list):\n",
    "            outfile_name = music.split(\"/\")[-1]\n",
    "            outfile_name = target_dir + \"/\" + outfile_name\n",
    "            arr, _ = librosa.load(music)\n",
    "            np.save(outfile_name, arr)\n",
    "\n",
    "    def separate_source(self, mus_list):\n",
    "        warnings.filterwarnings('ignore')\n",
    "        music_list = list()\n",
    "        sep_list = list()\n",
    "        for music in tqdm(mus_list):\n",
    "            mus_type = music.split(\".\")[-3]\n",
    "            if mus_type == '0':\n",
    "                music_list.append(music)\n",
    "            else:\n",
    "                sep_list.append(music)\n",
    "\n",
    "        return music_list, sep_list"
   ]
  },
  {
   "cell_type": "code",
   "execution_count": 3,
   "metadata": {
    "colab": {
     "base_uri": "https://localhost:8080/"
    },
    "id": "htj5Z8MpLzsE",
    "outputId": "c9dc23ba-d3f8-4571-ccb5-4e88748d5fad"
   },
   "outputs": [
    {
     "name": "stderr",
     "output_type": "stream",
     "text": [
      "100%|██████████| 250/250 [00:00<00:00, 1084359.88it/s]\n"
     ]
    }
   ],
   "source": [
    "train_ds = MUSDBDataset('../dataset/createdmusdb18/train')\n",
    "test_ds = MUSDBDataset('../dataset/createdmusdb18/test', train=False)"
   ]
  },
  {
   "cell_type": "code",
   "execution_count": 4,
   "metadata": {},
   "outputs": [],
   "source": [
    "valid_ds, test_ds = random_split(test_ds, [int(len(test_ds)*0.5), int(len(test_ds)*0.5)])"
   ]
  },
  {
   "cell_type": "code",
   "execution_count": 5,
   "metadata": {
    "id": "0XBPVV1sLzsF"
   },
   "outputs": [],
   "source": [
    "train_dataloader = DataLoader(train_ds, batch_size=16)\n",
    "valid_dataloader = DataLoader(valid_ds, batch_size=8)\n",
    "test_dataloader = DataLoader(test_ds, batch_size=8)"
   ]
  },
  {
   "cell_type": "code",
   "execution_count": 6,
   "metadata": {
    "id": "3m3_EPkjLzsF"
   },
   "outputs": [],
   "source": [
    "class DownSampling(nn.Module):\n",
    "    def __init__(self, in_ch=1, out_ch=24, kernel_size=15):\n",
    "        super().__init__()\n",
    "        self.net = nn.Sequential(\n",
    "            nn.Conv1d(in_ch, out_ch, kernel_size=kernel_size, padding=7),\n",
    "            nn.LeakyReLU(inplace=True),\n",
    "            nn.Conv1d(out_ch, out_ch, kernel_size=kernel_size, padding=7),\n",
    "            nn.LeakyReLU(inplace=True),\n",
    "        )\n",
    "        \n",
    "    def forward(self, x: Tensor):\n",
    "        x = self.net(x)\n",
    "        return x"
   ]
  },
  {
   "cell_type": "code",
   "execution_count": 7,
   "metadata": {
    "id": "khmjRe9-LzsG"
   },
   "outputs": [],
   "source": [
    "class UpSampling(nn.Module):\n",
    "    def __init__(self, in_ch, out_ch, kernel_size):\n",
    "        super().__init__()\n",
    "        self.upsample = nn.Upsample(scale_factor=2, mode=\"linear\", align_corners=True)\n",
    "        self.conv = nn.Sequential(\n",
    "            nn.Conv1d(in_ch, out_ch, kernel_size=kernel_size, padding=2),\n",
    "            nn.LeakyReLU(inplace=True),\n",
    "            nn.Conv1d(out_ch, out_ch, kernel_size=kernel_size, padding=2),\n",
    "            nn.LeakyReLU(inplace=True),\n",
    "        )\n",
    "        \n",
    "    def forward(self, x, x_back):\n",
    "        x = self.upsample(x)\n",
    "        diff = x_back.shape[-1] - x.shape[-1]\n",
    "        x = pad(x, (0, diff))\n",
    "        x = torch.cat([x, x_back], axis=1)\n",
    "        return self.conv(x)"
   ]
  },
  {
   "cell_type": "code",
   "execution_count": 8,
   "metadata": {
    "id": "LOe36a_mLzsH"
   },
   "outputs": [],
   "source": [
    "class WaveUNet(nn.Module):\n",
    "    def __init__(self, n_level=12, n_source=4):\n",
    "        super().__init__()\n",
    "        self.level = n_level\n",
    "        \n",
    "        layers=[DownSampling(in_ch=1,out_ch=24,kernel_size=15)]\n",
    "        \n",
    "        for i in range(self.level-1):\n",
    "            layers.append(DownSampling(in_ch=24*(i+1),out_ch=24*(i+2),kernel_size=15))\n",
    "            \n",
    "        # layers.append(DownSampling(in_ch=24*(self.level), out_ch=24*(self.level+1), kernel_size=15, decimate=False))\n",
    "        layers.append(DownSampling(in_ch=24*(self.level), out_ch=24*(self.level+1), kernel_size=15))\n",
    "            \n",
    "        for i in range(self.level):\n",
    "            layers.append(UpSampling(in_ch=24*(self.level+1-i) + 24*(self.level - i), out_ch=24*(self.level-i), kernel_size=5))\n",
    "            \n",
    "        self.net = nn.ModuleList(layers)\n",
    "        self.separation = nn.Sequential(\n",
    "            nn.Conv1d(25, n_source, kernel_size=1),\n",
    "            nn.LeakyReLU(inplace=True),\n",
    "            nn.Conv1d(n_source, n_source, kernel_size=1),\n",
    "            nn.LeakyReLU(inplace=True),\n",
    "        )\n",
    "    \n",
    "    def forward(self, x: Tensor):\n",
    "        layer_to_concat = []\n",
    "        # print(\"before in \", x.shape)\n",
    "        layer_to_concat.append(x)\n",
    "        for layer in self.net[0: self.level]:\n",
    "            x = layer(x)\n",
    "            # print(\"conv \", x.shape)\n",
    "            layer_to_concat.append(x)\n",
    "            x = x[:, :, 1::2]\n",
    "            # print(\"decimate \", x.shape)\n",
    "        x = self.net[self.level](x)\n",
    "        # print(\"middle out \", x.shape)\n",
    "        layer_to_concat.append(x)\n",
    "        for i, layer in enumerate(self.net[self.level+1:]):\n",
    "            # print(\"before up \", x.shape)\n",
    "            x = layer_to_concat[-1]\n",
    "            x = layer(x, layer_to_concat[-1-i-1])\n",
    "            # print(\"after up \", x.shape)\n",
    "            layer_to_concat[-1] = x\n",
    "            \n",
    "        x = torch.cat([layer_to_concat[0], x], axis=1)\n",
    "        x = self.separation(x)\n",
    "\n",
    "        return x"
   ]
  },
  {
   "cell_type": "code",
   "execution_count": 9,
   "metadata": {
    "colab": {
     "base_uri": "https://localhost:8080/"
    },
    "id": "rwTtpsAdLzsH",
    "outputId": "50dee6d2-5daf-4094-e4ca-e811f5b2fff2"
   },
   "outputs": [
    {
     "name": "stdout",
     "output_type": "stream",
     "text": [
      "Using cuda device\n"
     ]
    }
   ],
   "source": [
    "device = \"cuda\" if torch.cuda.is_available() else \"cpu\"\n",
    "print(f\"Using {device} device\")"
   ]
  },
  {
   "cell_type": "code",
   "execution_count": 10,
   "metadata": {},
   "outputs": [],
   "source": [
    "class EarlyStopping:\n",
    "    def __init__(self, patience, path='checkpoint.pt'):\n",
    "        self.patience = patience\n",
    "        self.best_loss = -np.inf\n",
    "        self.counter = 0\n",
    "        self.path = path\n",
    "        self.early_stop = False\n",
    "    \n",
    "    def __call__(self, val_loss, model):\n",
    "        if self.best_loss < val_loss:\n",
    "            print(f'Validation loss improved({self.best_loss} -> {val_loss})')\n",
    "            self.counter = 0\n",
    "            self.best_loss = val_loss\n",
    "            torch.save(model.state_dict(), self.path)\n",
    "        else:\n",
    "            self.counter += 1\n",
    "            if self.counter >= self.patience:\n",
    "                self.early_stop = True\n",
    "\n",
    "    def is_stop(self):\n",
    "        return self.early_stop"
   ]
  },
  {
   "cell_type": "code",
   "execution_count": 58,
   "metadata": {
    "id": "wJcJkej6LzsI"
   },
   "outputs": [],
   "source": [
    "model = WaveUNet(n_level=12).to(device)\n",
    "# print(model)"
   ]
  },
  {
   "cell_type": "code",
   "execution_count": 64,
   "metadata": {
    "id": "L0646__YLzsI"
   },
   "outputs": [],
   "source": [
    "loss_fn = nn.MSELoss()\n",
    "test_loss_fn = SDR().to(device)\n",
    "\n",
    "optimizer = torch.optim.Adam(model.parameters(), lr=0.0001, betas=[0.9, 0.999])\n",
    "\n",
    "early_stop = EarlyStopping(patience=20, path='checkpoint/best.pt')"
   ]
  },
  {
   "cell_type": "code",
   "execution_count": 65,
   "metadata": {},
   "outputs": [],
   "source": [
    "def sdr_loss_mean(y_target, y_pred, loss_fn):\n",
    "    assert y_target.shape == y_pred.shape\n",
    "    loss = 0\n",
    "    y_target_reshape = y_target.reshape(-1, y_target.shape[-1])\n",
    "    y_pred_reshape = y_pred.reshape(-1, y_pred.shape[-1])\n",
    "    y_size = y_target_reshape.shape[0]\n",
    "    for y_stem, pred_stem in zip(y_target_reshape, y_pred_reshape):\n",
    "        y_stem[-1] += 1e-9\n",
    "        loss += loss_fn(pred_stem, y_stem).item()\n",
    "    return loss/y_size"
   ]
  },
  {
   "cell_type": "code",
   "execution_count": 66,
   "metadata": {
    "id": "p9ikop1ULzsJ"
   },
   "outputs": [],
   "source": [
    "train_loss_list = []\n",
    "def train(dataloader, model, loss_fn, optimizer):\n",
    "    size = len(dataloader.dataset)\n",
    "    loss_avg = 0\n",
    "    for batch, (X, y) in enumerate(tqdm(dataloader)):\n",
    "        X, y = X.to(device), y.to(device)\n",
    "        pred = model(X)\n",
    "        loss = loss_fn(pred, y)\n",
    "        \n",
    "        optimizer.zero_grad()\n",
    "        loss.backward()\n",
    "        optimizer.step()\n",
    "\n",
    "        loss_avg += loss.item()\n",
    "        \n",
    "        # if batch*len(X) % 800 == 0:\n",
    "        #    print(f\"loss : {loss.item()} ({batch*len(X)}/{size})\")\n",
    "    loss_avg = loss_avg / len(dataloader)\n",
    "    train_loss_list.append(loss_avg)\n",
    "    print(f\"train loss : {loss_avg}\")"
   ]
  },
  {
   "cell_type": "code",
   "execution_count": 67,
   "metadata": {},
   "outputs": [],
   "source": [
    "val_loss_list = []\n",
    "def val(dataloader, model, loss_fn):\n",
    "    model.eval()\n",
    "    val_loss = 0\n",
    "    with torch.no_grad():\n",
    "        for X, y in dataloader:\n",
    "            X, y = X.to(device), y.to(device)\n",
    "            pred = model(X)\n",
    "            val_loss += sdr_loss_mean(y, pred, loss_fn)\n",
    "    val_loss /= len(dataloader)\n",
    "    early_stop(val_loss, model)\n",
    "    val_loss_list.append(val_loss)\n",
    "    print(f\"validation loss : {val_loss}\\n\")"
   ]
  },
  {
   "cell_type": "code",
   "execution_count": 68,
   "metadata": {
    "id": "zwZK5M1c18F4"
   },
   "outputs": [],
   "source": [
    "def test(dataloader, model, loss_fn):\n",
    "    model.eval()\n",
    "    test_loss = 0\n",
    "    with torch.no_grad():\n",
    "        for X, y in dataloader:\n",
    "            X, y = X.to(device), y.to(device)\n",
    "            pred = model(X)\n",
    "            test_loss += sdr_loss_mean(y, pred, loss_fn)\n",
    "    test_loss /= len(dataloader)\n",
    "    print(f\"Test loss : {test_loss}\\n\")"
   ]
  },
  {
   "cell_type": "code",
   "execution_count": 69,
   "metadata": {},
   "outputs": [],
   "source": [
    "checkpoint = torch.load('checkpoint/checkpoint_epoch40_backup')\n",
    "\n",
    "model.load_state_dict(checkpoint['model_state_dict'])\n",
    "optimizer.load_state_dict(checkpoint['optimizer_state_dict'])\n",
    "early_stop.best_loss = checkpoint['earlystop_bestloss']\n",
    "early_stop.counter = checkpoint['earlystop_counter']\n",
    "\n",
    "train_loss_list = checkpoint['train_losslist']\n",
    "val_loss_list = checkpoint['val_losslist']\n",
    "\n",
    "start_epoch = checkpoint['epoch']"
   ]
  },
  {
   "cell_type": "code",
   "execution_count": 70,
   "metadata": {},
   "outputs": [
    {
     "name": "stdout",
     "output_type": "stream",
     "text": [
      "validation loss : -16.08381105924491\n",
      "\n"
     ]
    }
   ],
   "source": [
    "val(valid_dataloader, model, test_loss_fn)"
   ]
  },
  {
   "cell_type": "code",
   "execution_count": 74,
   "metadata": {
    "colab": {
     "base_uri": "https://localhost:8080/",
     "height": 1000
    },
    "id": "3MhFHqZwLzsJ",
    "outputId": "ceb53c04-eb88-447a-f8b4-7b569879b7fa"
   },
   "outputs": [
    {
     "name": "stdout",
     "output_type": "stream",
     "text": [
      "epoch : 41\n",
      "---------------------------\n"
     ]
    },
    {
     "name": "stderr",
     "output_type": "stream",
     "text": [
      "100%|██████████| 1921/1921 [08:42<00:00,  3.68it/s]\n"
     ]
    },
    {
     "name": "stdout",
     "output_type": "stream",
     "text": [
      "train loss : 0.0012934827701738367\n",
      "validation loss : -15.90591012389632\n",
      "\n",
      "epoch : 42\n",
      "---------------------------\n"
     ]
    },
    {
     "name": "stderr",
     "output_type": "stream",
     "text": [
      "100%|██████████| 1921/1921 [08:57<00:00,  3.57it/s]\n"
     ]
    },
    {
     "name": "stdout",
     "output_type": "stream",
     "text": [
      "train loss : 0.0012744281148925586\n",
      "validation loss : -16.087501949725265\n",
      "\n",
      "epoch : 43\n",
      "---------------------------\n"
     ]
    },
    {
     "name": "stderr",
     "output_type": "stream",
     "text": [
      "100%|██████████| 1921/1921 [08:41<00:00,  3.69it/s]\n"
     ]
    },
    {
     "name": "stdout",
     "output_type": "stream",
     "text": [
      "train loss : 0.0012593231471407366\n",
      "validation loss : -16.10866321157664\n",
      "\n",
      "epoch : 44\n",
      "---------------------------\n"
     ]
    },
    {
     "name": "stderr",
     "output_type": "stream",
     "text": [
      "100%|██████████| 1921/1921 [08:46<00:00,  3.65it/s]\n"
     ]
    },
    {
     "name": "stdout",
     "output_type": "stream",
     "text": [
      "train loss : 0.0012515127828514232\n",
      "validation loss : -16.078907909082773\n",
      "\n",
      "epoch : 45\n",
      "---------------------------\n"
     ]
    },
    {
     "name": "stderr",
     "output_type": "stream",
     "text": [
      "100%|██████████| 1921/1921 [08:54<00:00,  3.60it/s]\n"
     ]
    },
    {
     "name": "stdout",
     "output_type": "stream",
     "text": [
      "train loss : 0.001241845677741459\n",
      "validation loss : -15.824946370208636\n",
      "\n",
      "epoch : 46\n",
      "---------------------------\n"
     ]
    },
    {
     "name": "stderr",
     "output_type": "stream",
     "text": [
      "100%|██████████| 1921/1921 [08:39<00:00,  3.70it/s]\n"
     ]
    },
    {
     "name": "stdout",
     "output_type": "stream",
     "text": [
      "train loss : 0.0012314981758902962\n",
      "validation loss : -16.15511277760379\n",
      "\n",
      "epoch : 47\n",
      "---------------------------\n"
     ]
    },
    {
     "name": "stderr",
     "output_type": "stream",
     "text": [
      "100%|██████████| 1921/1921 [08:54<00:00,  3.60it/s]\n"
     ]
    },
    {
     "name": "stdout",
     "output_type": "stream",
     "text": [
      "train loss : 0.0012227976340665363\n",
      "validation loss : -15.76600124721881\n",
      "\n",
      "epoch : 48\n",
      "---------------------------\n"
     ]
    },
    {
     "name": "stderr",
     "output_type": "stream",
     "text": [
      "100%|██████████| 1921/1921 [08:51<00:00,  3.61it/s]\n"
     ]
    },
    {
     "name": "stdout",
     "output_type": "stream",
     "text": [
      "train loss : 0.0012115400377778927\n",
      "validation loss : -15.913823313894682\n",
      "\n",
      "epoch : 49\n",
      "---------------------------\n"
     ]
    },
    {
     "name": "stderr",
     "output_type": "stream",
     "text": [
      "100%|██████████| 1921/1921 [08:32<00:00,  3.75it/s]\n"
     ]
    },
    {
     "name": "stdout",
     "output_type": "stream",
     "text": [
      "train loss : 0.0011997270173173303\n",
      "validation loss : -15.790520125592593\n",
      "\n",
      "epoch : 50\n",
      "---------------------------\n"
     ]
    },
    {
     "name": "stderr",
     "output_type": "stream",
     "text": [
      "100%|██████████| 1921/1921 [08:54<00:00,  3.60it/s]\n"
     ]
    },
    {
     "name": "stdout",
     "output_type": "stream",
     "text": [
      "train loss : 0.0011975218333440303\n",
      "validation loss : -16.289198150436278\n",
      "\n",
      "epoch : 51\n",
      "---------------------------\n"
     ]
    },
    {
     "name": "stderr",
     "output_type": "stream",
     "text": [
      "100%|██████████| 1921/1921 [08:45<00:00,  3.65it/s]\n"
     ]
    },
    {
     "name": "stdout",
     "output_type": "stream",
     "text": [
      "train loss : 0.0011795240959447363\n",
      "validation loss : -16.260554273496382\n",
      "\n",
      "epoch : 52\n",
      "---------------------------\n"
     ]
    },
    {
     "name": "stderr",
     "output_type": "stream",
     "text": [
      "100%|██████████| 1921/1921 [08:32<00:00,  3.74it/s]\n"
     ]
    },
    {
     "name": "stdout",
     "output_type": "stream",
     "text": [
      "train loss : 0.001174586429315686\n",
      "validation loss : -16.392771164071746\n",
      "\n",
      "epoch : 53\n",
      "---------------------------\n"
     ]
    },
    {
     "name": "stderr",
     "output_type": "stream",
     "text": [
      "100%|██████████| 1921/1921 [08:59<00:00,  3.56it/s]\n"
     ]
    },
    {
     "name": "stdout",
     "output_type": "stream",
     "text": [
      "train loss : 0.001167543821437127\n",
      "validation loss : -16.225159086985514\n",
      "\n",
      "epoch : 54\n",
      "---------------------------\n"
     ]
    },
    {
     "name": "stderr",
     "output_type": "stream",
     "text": [
      "100%|██████████| 1921/1921 [08:45<00:00,  3.65it/s]\n"
     ]
    },
    {
     "name": "stdout",
     "output_type": "stream",
     "text": [
      "train loss : 0.0011570131301819942\n",
      "validation loss : -16.30064567750742\n",
      "\n",
      "epoch : 55\n",
      "---------------------------\n"
     ]
    },
    {
     "name": "stderr",
     "output_type": "stream",
     "text": [
      "100%|██████████| 1921/1921 [08:29<00:00,  3.77it/s]\n"
     ]
    },
    {
     "name": "stdout",
     "output_type": "stream",
     "text": [
      "train loss : 0.0011508954038998965\n",
      "validation loss : -16.70538546789612\n",
      "\n",
      "epoch : 56\n",
      "---------------------------\n"
     ]
    },
    {
     "name": "stderr",
     "output_type": "stream",
     "text": [
      "100%|██████████| 1921/1921 [08:57<00:00,  3.58it/s]\n"
     ]
    },
    {
     "name": "stdout",
     "output_type": "stream",
     "text": [
      "train loss : 0.0011438321881434925\n",
      "validation loss : -16.70890178962145\n",
      "\n",
      "epoch : 57\n",
      "---------------------------\n"
     ]
    },
    {
     "name": "stderr",
     "output_type": "stream",
     "text": [
      "100%|██████████| 1921/1921 [08:46<00:00,  3.65it/s]\n"
     ]
    },
    {
     "name": "stdout",
     "output_type": "stream",
     "text": [
      "train loss : 0.001130593370012479\n",
      "validation loss : -16.451398430057452\n",
      "\n",
      "Early stop. Loading best model...\n",
      "Test loss : -15.001210871851072\n",
      "\n"
     ]
    }
   ],
   "source": [
    "epochs = 200\n",
    "for t in range(start_epoch+1, epochs):\n",
    "    print(f\"epoch : {t+1}\\n---------------------------\")\n",
    "    model.train()\n",
    "    train(train_dataloader, model, loss_fn, optimizer)\n",
    "    val(valid_dataloader, model, test_loss_fn)\n",
    "\n",
    "    if early_stop.is_stop():\n",
    "        print(\"Early stop. Loading best model...\")\n",
    "        model.load_state_dict(torch.load('checkpoint/best.pt'))\n",
    "        break\n",
    "\n",
    "    torch.save({\n",
    "        'epoch': t+1,\n",
    "        'model_state_dict': model.state_dict(),\n",
    "        'optimizer_state_dict': optimizer.state_dict(),\n",
    "        'earlystop_bestloss': early_stop.best_loss,\n",
    "        'earlystop_counter': early_stop.counter,\n",
    "        'train_losslist': train_loss_list,\n",
    "        'val_losslist': val_loss_list\n",
    "    }, f'checkpoint/checkpoint_epoch{t+1}')\n",
    "\n",
    "    try:\n",
    "        os.remove(f'checkpoint/checkpoint_epoch{t}')\n",
    "    except OSError:\n",
    "        pass\n",
    "    \n",
    "test(test_dataloader, model, test_loss_fn)"
   ]
  },
  {
   "cell_type": "code",
   "execution_count": 75,
   "metadata": {},
   "outputs": [
    {
     "data": {
      "text/plain": [
       "[<matplotlib.lines.Line2D at 0x7fde55a913d0>]"
      ]
     },
     "execution_count": 75,
     "metadata": {},
     "output_type": "execute_result"
    },
    {
     "data": {
      "image/png": "[encoded data removed]",
      "text/plain": [
       "<Figure size 640x480 with 1 Axes>"
      ]
     },
     "metadata": {},
     "output_type": "display_data"
    }
   ],
   "source": [
    "plt.plot(val_loss_list)"
   ]
  },
  {
   "cell_type": "code",
   "execution_count": 76,
   "metadata": {
    "id": "8dzB0UYOQzb4"
   },
   "outputs": [],
   "source": [
    "torch.save(model.state_dict(), \"../model.pth\")"
   ]
  },
  {
   "cell_type": "code",
   "execution_count": 77,
   "metadata": {
    "colab": {
     "base_uri": "https://localhost:8080/"
    },
    "id": "y2HN_gCzsZDC",
    "outputId": "27f10e66-4fd9-4306-db86-1d4f3065e7cd"
   },
   "outputs": [
    {
     "data": {
      "text/plain": [
       "<All keys matched successfully>"
      ]
     },
     "execution_count": 77,
     "metadata": {},
     "output_type": "execute_result"
    }
   ],
   "source": [
    "model_load = WaveUNet().to(device)\n",
    "model_load.load_state_dict(torch.load(\"../model.pth\"))"
   ]
  },
  {
   "cell_type": "code",
   "execution_count": 78,
   "metadata": {},
   "outputs": [
    {
     "name": "stdout",
     "output_type": "stream",
     "text": [
      "Test loss : -15.001210871851072\n",
      "\n"
     ]
    }
   ],
   "source": [
    "test(test_dataloader, model_load, test_loss_fn)"
   ]
  },
  {
   "cell_type": "code",
   "execution_count": 40,
   "metadata": {
    "id": "U_GFvF0QLzsK"
   },
   "outputs": [],
   "source": [
    "def write(f, sr, x, normalized=False):\n",
    "    \"\"\"numpy array to MP3\"\"\"\n",
    "    channels = 2 if (x.ndim == 2 and x.shape[1] == 2) else 1\n",
    "    if normalized:  # normalized array - each item should be a float in [-1, 1)\n",
    "        y = np.int16(x * 2 ** 15)\n",
    "    else:\n",
    "        y = np.int16(x)\n",
    "    song = pydub.AudioSegment(x.tobytes(), frame_rate=sr, sample_width=2, channels=1)\n",
    "    song.export(f, format=\"mp3\", bitrate=\"320k\")\n",
    "\n",
    "# write('/content/gdrive/MyDrive/test.mp3', 22050, np.array(splittest[0][0].cpu()), normalized=True)"
   ]
  },
  {
   "cell_type": "code",
   "execution_count": 92,
   "metadata": {},
   "outputs": [],
   "source": [
    "def sdr_loss_mean_removezero(y_target, y_pred, loss_fn):\n",
    "    assert y_target.shape == y_pred.shape\n",
    "    loss = 0\n",
    "    y_target_reshape = y_target.reshape(-1, y_target.shape[-1])\n",
    "    y_pred_reshape = y_pred.reshape(-1, y_pred.shape[-1])\n",
    "    y_size = y_target_reshape.shape[0]\n",
    "    for y_stem, pred_stem in zip(y_target_reshape, y_pred_reshape):\n",
    "        if y_stem.count_nonzero().item() != 0:\n",
    "            loss += loss_fn(pred_stem, y_stem).item()\n",
    "    return loss/y_size"
   ]
  },
  {
   "cell_type": "code",
   "execution_count": 93,
   "metadata": {},
   "outputs": [],
   "source": [
    "def test_removezero(dataloader, model, loss_fn):\n",
    "    model.eval()\n",
    "    test_loss = 0\n",
    "    with torch.no_grad():\n",
    "        for X, y in dataloader:\n",
    "            X, y = X.to(device), y.to(device)\n",
    "            pred = model(X)\n",
    "            test_loss += sdr_loss_mean_removezero(y, pred, loss_fn)\n",
    "    test_loss /= len(dataloader)\n",
    "    print(f\"Test loss : {test_loss}\\n\")\n",
    "    "
   ]
  },
  {
   "cell_type": "code",
   "execution_count": 94,
   "metadata": {},
   "outputs": [
    {
     "name": "stdout",
     "output_type": "stream",
     "text": [
      "Test loss : -1.4399132912512869\n",
      "\n"
     ]
    }
   ],
   "source": [
    "test_removezero(test_dataloader, model_load, test_loss_fn)"
   ]
  },
  {
   "cell_type": "code",
   "execution_count": 106,
   "metadata": {
    "id": "5rvETVMoq4ue"
   },
   "outputs": [],
   "source": [
    "song_index = 4\n",
    "\n",
    "test_arr = torch.Tensor(test_ds[song_index][0]).to(device)\n",
    "test_arr = torch.unsqueeze(test_arr, 0)\n",
    "\n",
    "model_load.eval()\n",
    "with torch.no_grad():\n",
    "    pred = model_load(test_arr)\n",
    "\n",
    "pred = pred.cpu()"
   ]
  },
  {
   "cell_type": "code",
   "execution_count": 111,
   "metadata": {},
   "outputs": [
    {
     "name": "stdout",
     "output_type": "stream",
     "text": [
      "tensor(7.6910, device='cuda:0') tensor(-3.0192, device='cuda:0') tensor(4.2979, device='cuda:0')\n"
     ]
    }
   ],
   "source": [
    "print(test_loss_fn(pred[0][0], torch.Tensor(test_ds[song_index][1][0])),\n",
    "test_loss_fn(pred[0][1], torch.Tensor(test_ds[song_index][1][1])),\n",
    "test_loss_fn(pred[0][2], torch.Tensor(test_ds[song_index][1][2])))"
   ]
  },
  {
   "cell_type": "code",
   "execution_count": 107,
   "metadata": {
    "colab": {
     "base_uri": "https://localhost:8080/",
     "height": 283
    },
    "id": "0yRGTEAPsbxY",
    "outputId": "1a3619d8-f887-4c30-d610-526bfc91ae52"
   },
   "outputs": [
    {
     "data": {
      "image/png": "[encoded data removed]",
      "text/plain": [
       "<Figure size 1000x800 with 8 Axes>"
      ]
     },
     "metadata": {},
     "output_type": "display_data"
    }
   ],
   "source": [
    "stem_index = 0\n",
    "\n",
    "plt.figure(figsize=(10, 8))\n",
    "\n",
    "for i in range(4):\n",
    "    plt.subplot(4, 2, i*2+1)\n",
    "    plt.plot(test_ds[song_index][1][i])\n",
    "    plt.subplot(4, 2, i*2+2)\n",
    "    plt.plot(pred[0][i])\n",
    "plt.show()\n",
    "\n",
    "for i in range(4):\n",
    "    soundfile.write(f'./output/test_orign_{i}.wav', test_ds[song_index][1][i], 22050, format='wav')\n",
    "    soundfile.write(f'./output/test_out_{i}.wav', pred[0][i], 22050, format='wav')"
   ]
  }
 ],
 "metadata": {
  "accelerator": "GPU",
  "colab": {
   "provenance": []
  },
  "gpuClass": "premium",
  "kernelspec": {
   "display_name": "mlenv",
   "language": "python",
   "name": "python3"
  },
  "language_info": {
   "codemirror_mode": {
    "name": "ipython",
    "version": 3
   },
   "file_extension": ".py",
   "mimetype": "text/x-python",
   "name": "python",
   "nbconvert_exporter": "python",
   "pygments_lexer": "ipython3",
   "version": "3.8.0"
  },
  "vscode": {
   "interpreter": {
    "hash": "fbeac686187292a2fb2dc452101cb0b2f490f61a772b44920184cdddd43d1f0d"
   }
  }
 },
 "nbformat": 4,
 "nbformat_minor": 1
}
