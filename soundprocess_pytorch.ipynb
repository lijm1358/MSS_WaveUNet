{
 "cells": [
  {
   "cell_type": "code",
   "execution_count": 1,
   "metadata": {},
   "outputs": [
    {
     "name": "stderr",
     "output_type": "stream",
     "text": [
      "/home/lijm1358/anaconda3/envs/soundprocessing/lib/python3.8/site-packages/tqdm/auto.py:22: TqdmWarning: IProgress not found. Please update jupyter and ipywidgets. See https://ipywidgets.readthedocs.io/en/stable/user_install.html\n",
      "  from .autonotebook import tqdm as notebook_tqdm\n"
     ]
    }
   ],
   "source": [
    "import os\n",
    "import warnings\n",
    "\n",
    "import librosa\n",
    "\n",
    "from tqdm import tqdm\n",
    "\n",
    "import numpy as np\n",
    "\n",
    "import torch\n",
    "from torch import nn, Tensor\n",
    "import torch.nn.functional as F\n",
    "\n",
    "from torch.utils.data import Dataset\n",
    "from torch.utils.data import DataLoader"
   ]
  },
  {
   "cell_type": "code",
   "execution_count": 2,
   "metadata": {},
   "outputs": [],
   "source": [
    "class MUSDBDataset(Dataset):\n",
    "    def __init__(self, data_dir: str):\n",
    "        self.crop_size = 284672\n",
    "        self.data_dir = os.path.join(data_dir, 'data_numpy')\n",
    "        if not os.path.exists(self.data_dir) or \\\n",
    "            len([name for name in os.listdir(self.data_dir)]) < 500:\n",
    "            print(\"Data has not been saved as numpy object. Converting...\")\n",
    "            if not os.path.exists(self.data_dir):\n",
    "                os.makedirs(self.data_dir)\n",
    "            self.convert_to_numpy(data_dir, self.data_dir)\n",
    "        self.music_fulllist = self.get_filenames(self.data_dir)\n",
    "        self.music_list, self.sep_list = self.separate_source(self.music_fulllist)\n",
    "\n",
    "    def __len__(self):\n",
    "        return len(self.music_list)\n",
    "\n",
    "    def __getitem__(self, idx):\n",
    "        base_music = self.music_list[idx]\n",
    "        base_music = np.load(base_music)\n",
    "        base_music = np.stack([base_music[:self.crop_size]])\n",
    "\n",
    "        sep_music = self.sep_list[idx*4 : idx*4+4]\n",
    "        sep_music = np.stack([np.load(idx)[:self.crop_size] for idx in sep_music])\n",
    "        return base_music, sep_music\n",
    "\n",
    "    def get_filenames(self, path):\n",
    "        files_list = list()\n",
    "        for filename in os.listdir(path):\n",
    "            if not filename == \"data_numpy\":\n",
    "                files_list.append(os.path.join(path, filename))\n",
    "        return files_list\n",
    "\n",
    "    def convert_to_numpy(self, music_dir, target_dir):\n",
    "        warnings.filterwarnings('ignore')\n",
    "        music_list = self.get_filenames(music_dir)\n",
    "        for music in tqdm(music_list):\n",
    "            outfile_name = music.split(\"/\")[-1]\n",
    "            outfile_name = target_dir + \"/\" + outfile_name\n",
    "            arr, _ = librosa.load(music)\n",
    "            np.save(outfile_name, arr)\n",
    "\n",
    "    def separate_source(self, mus_list):\n",
    "        warnings.filterwarnings('ignore')\n",
    "        music_list = list()\n",
    "        sep_list = list()\n",
    "        for music in tqdm(mus_list):\n",
    "            mus_type = music.split(\".\")[-3]\n",
    "            if mus_type == '0':\n",
    "                music_list.append(music)\n",
    "            else:\n",
    "                sep_list.append(music)\n",
    "\n",
    "        return music_list, sep_list"
   ]
  },
  {
   "cell_type": "code",
   "execution_count": 3,
   "metadata": {},
   "outputs": [
    {
     "name": "stderr",
     "output_type": "stream",
     "text": [
      "100%|██████████| 500/500 [00:00<00:00, 588261.43it/s]\n"
     ]
    }
   ],
   "source": [
    "ds = MUSDBDataset('/mnt/d/createdmusdb18/train')"
   ]
  },
  {
   "cell_type": "code",
   "execution_count": 4,
   "metadata": {},
   "outputs": [],
   "source": [
    "train_dataloader = DataLoader(ds, batch_size=4)"
   ]
  },
  {
   "cell_type": "code",
   "execution_count": 32,
   "metadata": {},
   "outputs": [],
   "source": [
    "\n",
    "class DownSampling(nn.Module):\n",
    "    def __init__(self, in_ch=1, out_ch=24, kernel_size=15, decimate: bool = True):\n",
    "        super().__init__()\n",
    "        self.upsample = nn.Upsample(scale_factor=2, mode=\"linear\", align_corners=True)\n",
    "        self.net = nn.Sequential(\n",
    "            nn.Conv1d(in_ch, out_ch, kernel_size=kernel_size, padding=7),\n",
    "            nn.LeakyReLU(inplace=True),\n",
    "            nn.Conv1d(out_ch, out_ch, kernel_size=kernel_size, padding=7),\n",
    "            nn.LeakyReLU(inplace=True),\n",
    "        )\n",
    "        self.decimate = decimate\n",
    "        \n",
    "    def forward(self, x: Tensor):\n",
    "        x = self.net(x)\n",
    "        if self.decimate:\n",
    "            x = x[:, ::2]\n",
    "        return x"
   ]
  },
  {
   "cell_type": "code",
   "execution_count": null,
   "metadata": {},
   "outputs": [],
   "source": [
    "class UpSampling(nn.Module):\n",
    "    def __init__(self, in_ch, out_ch, kernel_size):\n",
    "        super().__init__()\n",
    "        self.net = nn.Sequential(\n",
    "            nn.Conv1d(in_ch, out_ch, kernel_size=kernel_size, padding=7),\n",
    "            nn.LeakyReLU(inplace=True),\n",
    "            nn.Conv1d(out_ch, out_ch, kernel_size=kernel_size, padding=7),\n",
    "            nn.LeakyReLU(inplace=True),\n",
    "        )"
   ]
  },
  {
   "cell_type": "code",
   "execution_count": 80,
   "metadata": {},
   "outputs": [],
   "source": [
    "class WaveUNet(nn.Module):\n",
    "    def __init__(self, n_level=12):\n",
    "        super().__init__()\n",
    "        self.level = n_level\n",
    "        \n",
    "        self.layer_to_concat = []\n",
    "        \n",
    "        layers=[DownSampling(in_ch=1,out_ch=24,kernel_size=15)]\n",
    "        \n",
    "        for i in range(self.level-1):\n",
    "            layers.append(DownSampling(in_ch=24*(i+1),out_ch=24*(i+2),kernel_size=15))\n",
    "            \n",
    "        layers.append(DownSampling(in_ch=24*(self.level), out_ch=24*(self.level+1), kernel_size=15, decimate=False))\n",
    "            \n",
    "        \n",
    "        self.net = nn.ModuleList(layers)\n",
    "    \n",
    "    def forward(self, x: Tensor):\n",
    "        for layer in self.net[0: self.level+1]:\n",
    "            x = layer(x)\n",
    "            self.layer_to_concat.append(x);\n",
    "\n",
    "        return x"
   ]
  },
  {
   "cell_type": "code",
   "execution_count": 81,
   "metadata": {},
   "outputs": [],
   "source": [
    "test = torch.rand((1, 16384))"
   ]
  },
  {
   "cell_type": "code",
   "execution_count": 82,
   "metadata": {},
   "outputs": [
    {
     "name": "stdout",
     "output_type": "stream",
     "text": [
      "1\n",
      "2\n",
      "3\n",
      "4\n",
      "5\n",
      "6\n",
      "7\n",
      "8\n",
      "9\n",
      "10\n",
      "11\n",
      "12\n",
      "13\n"
     ]
    }
   ],
   "source": [
    "model = WaveUNet(12)\n",
    "\n",
    "# out = model(torch.Tensor(ds[0][0]))\n",
    "out = model(test)"
   ]
  },
  {
   "cell_type": "code",
   "execution_count": 64,
   "metadata": {},
   "outputs": [
    {
     "data": {
      "text/plain": [
       "torch.Size([312, 4])"
      ]
     },
     "execution_count": 64,
     "metadata": {},
     "output_type": "execute_result"
    }
   ],
   "source": [
    "out.shape"
   ]
  },
  {
   "cell_type": "code",
   "execution_count": 83,
   "metadata": {},
   "outputs": [],
   "source": [
    "upsample = nn.ConvTranspose1d(in_channels=312, out_channels=312//2, kernel_size=2, stride=2)"
   ]
  },
  {
   "cell_type": "code",
   "execution_count": 84,
   "metadata": {},
   "outputs": [
    {
     "data": {
      "text/plain": [
       "torch.Size([312, 4])"
      ]
     },
     "execution_count": 84,
     "metadata": {},
     "output_type": "execute_result"
    }
   ],
   "source": [
    "out.shape"
   ]
  },
  {
   "cell_type": "code",
   "execution_count": 73,
   "metadata": {},
   "outputs": [],
   "source": [
    "lin = nn.functional.interpolate(out[None, :], scale_factor=2, mode='linear')"
   ]
  },
  {
   "cell_type": "code",
   "execution_count": 74,
   "metadata": {},
   "outputs": [
    {
     "data": {
      "text/plain": [
       "torch.Size([1, 312, 8])"
      ]
     },
     "execution_count": 74,
     "metadata": {},
     "output_type": "execute_result"
    }
   ],
   "source": [
    "lin.shape"
   ]
  },
  {
   "cell_type": "code",
   "execution_count": 69,
   "metadata": {},
   "outputs": [],
   "source": [
    "out2 = upsample(out)"
   ]
  },
  {
   "cell_type": "code",
   "execution_count": 70,
   "metadata": {},
   "outputs": [
    {
     "data": {
      "text/plain": [
       "torch.Size([156, 8])"
      ]
     },
     "execution_count": 70,
     "metadata": {},
     "output_type": "execute_result"
    }
   ],
   "source": [
    "out2.shape"
   ]
  },
  {
   "cell_type": "code",
   "execution_count": 25,
   "metadata": {},
   "outputs": [
    {
     "data": {
      "text/plain": [
       "(1, 284672)"
      ]
     },
     "execution_count": 25,
     "metadata": {},
     "output_type": "execute_result"
    }
   ],
   "source": [
    "ds[0][0].shape"
   ]
  },
  {
   "cell_type": "code",
   "execution_count": 9,
   "metadata": {},
   "outputs": [
    {
     "data": {
      "text/plain": [
       "torch.Size([24, 142322])"
      ]
     },
     "execution_count": 9,
     "metadata": {},
     "output_type": "execute_result"
    }
   ],
   "source": [
    "out.shape"
   ]
  }
 ],
 "metadata": {
  "kernelspec": {
   "display_name": "Python 3.8.13 ('soundprocessing')",
   "language": "python",
   "name": "python3"
  },
  "language_info": {
   "codemirror_mode": {
    "name": "ipython",
    "version": 3
   },
   "file_extension": ".py",
   "mimetype": "text/x-python",
   "name": "python",
   "nbconvert_exporter": "python",
   "pygments_lexer": "ipython3",
   "version": "3.8.13"
  },
  "orig_nbformat": 4,
  "vscode": {
   "interpreter": {
    "hash": "a5bbe51b3405e60c087d18985c6a5d36133bee8e93b3430261fcdb872e4da9e2"
   }
  }
 },
 "nbformat": 4,
 "nbformat_minor": 2
}
